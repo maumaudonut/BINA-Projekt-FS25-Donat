{
  "cells": [
    {
      "cell_type": "markdown",
      "metadata": {
        "id": "ApiYf61Q2TEu"
      },
      "source": [
        "# Jupyter Notebook to demonstrate **Data Engineering** with **Pandas**  "
      ]
    },
    {
      "cell_type": "markdown",
      "metadata": {
        "id": "2PNmN51eqc2Z"
      },
      "source": [
        "![image.png](data:image/png;base64,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)"
      ]
    },
    {
      "cell_type": "markdown",
      "metadata": {
        "id": "jFeaV0ogonLR"
      },
      "source": [
        "### What is Pandas?\n",
        "\n",
        "Pandas is a Python library used for working with data sets.\n",
        "\n",
        "It has functions for\n",
        "+ cleaning   \n",
        "+ exploring  \n",
        "+ analyzing, and   \n",
        "+ manipulating data\n",
        "\n",
        "Pandas allows us to analyze big data and make conclusions based on statistical theories. Pandas can clean messy data sets, and make them readable and relevant.\n",
        "\n",
        "Pandas is built around data structures called Series and **DataFrames**. A DataFrame is a 2-dimensional data structure of rows and columns, similar to a spreadsheet.\n",
        "\n",
        "Data for these collections can be imported from various file formats such as *comma-separated values* (CSV), JSON, Parquet, *SQL database tables or queries*, and *Microsoft Excel*.\n",
        "\n",
        "The name \"Pandas\" has a reference to both \"**Pan**el **Da**ta\" (an econometrics term for data sets that include observations over multiple time periods for the same individuals), and \"Python Data Analysis\"\n",
        "\n",
        "Pandas was created by **Wes McKinney** in 2008.  The development of Pandas introduced into Python many comparable features of working with DataFrames that were established in the R programming language. The library is built upon another library, [NumPy](https://numpy.org/).\n"
      ]
    },
    {
      "cell_type": "markdown",
      "metadata": {
        "id": "YcMeA9_8nho7"
      },
      "source": [
        "---   \n",
        "Source/Links:\n",
        "+ [Pandas Library](https://pandas.pydata.org/)  \n",
        "+ [Pandas Cookbook](https://pandas.pydata.org/docs/user_guide/cookbook.html#cookbook)\n",
        "\n",
        "\n",
        "History:\n",
        "+ Feb'2024 v1 dbe -- adapted for BINA FS24 (using the google colab blog article [10 Minutes to Pandas - in Colab](https://colab.google/articles/pandas))  \n",
        "\n",
        "---"
      ]
    },
    {
      "cell_type": "markdown",
      "metadata": {
        "id": "exkLCPgyK_Vl"
      },
      "source": [
        "## Setup Environment\n"
      ]
    },
    {
      "cell_type": "markdown",
      "metadata": {
        "id": "r_8A02PcLHwi"
      },
      "source": [
        "This is a short introduction to pandas, geared mainly for new users.  \n",
        "You can see more complex recipes in the official <a href=\"https://pandas.pydata.org/docs/user_guide/cookbook.html#cookbook\" target=\"_blank\">Pandas Cookbook<a/>."
      ]
    },
    {
      "cell_type": "markdown",
      "metadata": {
        "id": "4m0Li2ySLMa-"
      },
      "source": [
        "Customarily, we import `pandas` and `numpy` as follows:"
      ]
    },
    {
      "cell_type": "code",
      "execution_count": 1,
      "metadata": {
        "id": "LKHxbN0QLGJE"
      },
      "outputs": [],
      "source": [
        "import numpy as np\n",
        "import pandas as pd"
      ]
    },
    {
      "cell_type": "markdown",
      "metadata": {
        "id": "3nqdCLY3LZKo"
      },
      "source": [
        "---   \n",
        "## Object Creation - Series /Dataframes\n",
        "\n",
        "+ **Series** is a *one-dimensional labeled array* capable of holding any data type (integers, strings, floating point numbers, Python objects, etc.). The axis labels are collectively referred to as the *index*  \n",
        "+ **DataFrame** is a *2-dimensional labeled data structure with columns* of potentially different types. You can think of it like a spreadsheet or SQL table, or a dict of Series objects. It is generally the most commonly used pandas object. Along with the data, you can optionally pass *index* (row labels) and columns (column labels) arguments. If axis labels are not passed, they will be constructed from the input data based on common sense rules.\n",
        "\n",
        "*see the section [Intro to data structures](https://pandas.pydata.org/docs/user_guide/dsintro.html#dsintro) of the official [Pandas](https://pandas.pydata.org/docs/index.html) website*\n"
      ]
    },
    {
      "cell_type": "markdown",
      "metadata": {
        "id": "29g0yoUMLdoi"
      },
      "source": [
        "### Series    \n",
        "Creating a <a target=\"_blank\" href=\"https://pandas.pydata.org/docs/reference/api/pandas.Series.html#pandas.Series\">`Series`</a> by passing a **list of values**, letting pandas create a default integer **index**:"
      ]
    },
    {
      "cell_type": "code",
      "execution_count": 2,
      "metadata": {
        "colab": {
          "base_uri": "https://localhost:8080/"
        },
        "id": "-f6TSrLHLmCc",
        "outputId": "f2bdb193-396a-468e-da4a-f7765c996e11"
      },
      "outputs": [
        {
          "data": {
            "text/plain": [
              "0    1.0\n",
              "1    3.0\n",
              "2    5.0\n",
              "3    NaN\n",
              "4    6.0\n",
              "5    8.0\n",
              "dtype: float64"
            ]
          },
          "execution_count": 2,
          "metadata": {},
          "output_type": "execute_result"
        }
      ],
      "source": [
        "s = pd.Series([1, 3, 5, np.nan, 6, 8])\n",
        "s"
      ]
    },
    {
      "cell_type": "markdown",
      "metadata": {
        "id": "aCUh8QIML479"
      },
      "source": [
        "### Dataframe   \n",
        "\n",
        "Creating a <a target=\"_blank\" href=\"https://pandas.pydata.org/docs/reference/api/pandas.DataFrame.html#pandas.DataFrame\">`DataFrame`</a> by passing a NumPy array, with a datetime index using <a target=\"_blank\" href=\"https://pandas.pydata.org/docs/reference/api/pandas.date_range.html#pandas.date_range\">`date_range()`</a> and labeled columns:"
      ]
    },
    {
      "cell_type": "code",
      "execution_count": 3,
      "metadata": {
        "colab": {
          "base_uri": "https://localhost:8080/"
        },
        "id": "-TGGcxdnMFaZ",
        "outputId": "e5439858-6848-4866-94c4-9a994354e45d"
      },
      "outputs": [
        {
          "data": {
            "text/plain": [
              "DatetimeIndex(['2013-01-01', '2013-01-02', '2013-01-03', '2013-01-04',\n",
              "               '2013-01-05', '2013-01-06'],\n",
              "              dtype='datetime64[ns]', freq='D')"
            ]
          },
          "execution_count": 3,
          "metadata": {},
          "output_type": "execute_result"
        }
      ],
      "source": [
        "dates = pd.date_range(\"20130101\", periods=6)\n",
        "dates"
      ]
    },
    {
      "cell_type": "code",
      "execution_count": 9,
      "metadata": {
        "colab": {
          "base_uri": "https://localhost:8080/",
          "height": 237
        },
        "id": "KQQ7ziMuMsQ6",
        "outputId": "cf221b98-8dda-4cc2-8239-45ef67f3c21e"
      },
      "outputs": [
        {
          "data": {
            "text/html": [
              "<div>\n",
              "<style scoped>\n",
              "    .dataframe tbody tr th:only-of-type {\n",
              "        vertical-align: middle;\n",
              "    }\n",
              "\n",
              "    .dataframe tbody tr th {\n",
              "        vertical-align: top;\n",
              "    }\n",
              "\n",
              "    .dataframe thead th {\n",
              "        text-align: right;\n",
              "    }\n",
              "</style>\n",
              "<table border=\"1\" class=\"dataframe\">\n",
              "  <thead>\n",
              "    <tr style=\"text-align: right;\">\n",
              "      <th></th>\n",
              "      <th>A</th>\n",
              "      <th>B</th>\n",
              "      <th>C</th>\n",
              "      <th>D</th>\n",
              "    </tr>\n",
              "  </thead>\n",
              "  <tbody>\n",
              "    <tr>\n",
              "      <th>2013-01-01</th>\n",
              "      <td>-0.269533</td>\n",
              "      <td>-0.256175</td>\n",
              "      <td>0.841631</td>\n",
              "      <td>-1.199992</td>\n",
              "    </tr>\n",
              "    <tr>\n",
              "      <th>2013-01-02</th>\n",
              "      <td>-1.159600</td>\n",
              "      <td>-0.596312</td>\n",
              "      <td>-0.517854</td>\n",
              "      <td>-1.532124</td>\n",
              "    </tr>\n",
              "    <tr>\n",
              "      <th>2013-01-03</th>\n",
              "      <td>-1.157696</td>\n",
              "      <td>1.429508</td>\n",
              "      <td>0.328579</td>\n",
              "      <td>0.673137</td>\n",
              "    </tr>\n",
              "    <tr>\n",
              "      <th>2013-01-04</th>\n",
              "      <td>0.081456</td>\n",
              "      <td>-2.120064</td>\n",
              "      <td>-2.140497</td>\n",
              "      <td>-0.610302</td>\n",
              "    </tr>\n",
              "    <tr>\n",
              "      <th>2013-01-05</th>\n",
              "      <td>1.198142</td>\n",
              "      <td>-0.970289</td>\n",
              "      <td>0.986115</td>\n",
              "      <td>0.533231</td>\n",
              "    </tr>\n",
              "    <tr>\n",
              "      <th>2013-01-06</th>\n",
              "      <td>0.548376</td>\n",
              "      <td>1.678414</td>\n",
              "      <td>2.103593</td>\n",
              "      <td>0.517631</td>\n",
              "    </tr>\n",
              "  </tbody>\n",
              "</table>\n",
              "</div>"
            ],
            "text/plain": [
              "                   A         B         C         D\n",
              "2013-01-01 -0.269533 -0.256175  0.841631 -1.199992\n",
              "2013-01-02 -1.159600 -0.596312 -0.517854 -1.532124\n",
              "2013-01-03 -1.157696  1.429508  0.328579  0.673137\n",
              "2013-01-04  0.081456 -2.120064 -2.140497 -0.610302\n",
              "2013-01-05  1.198142 -0.970289  0.986115  0.533231\n",
              "2013-01-06  0.548376  1.678414  2.103593  0.517631"
            ]
          },
          "execution_count": 9,
          "metadata": {},
          "output_type": "execute_result"
        }
      ],
      "source": [
        "df = pd.DataFrame(np.random.randn(6, 4), index=dates, columns=list(\"ABCD\"))\n",
        "df"
      ]
    },
    {
      "cell_type": "markdown",
      "metadata": {
        "id": "mFhlx4qGMvJ4"
      },
      "source": [
        "Creating a <a target=\"_blank\" href=\"https://pandas.pydata.org/docs/reference/api/pandas.DataFrame.html#pandas.DataFrame\">`DataFrame`</a> by passing *a dictionary of objects* that can be converted into a series-like structure:"
      ]
    },
    {
      "cell_type": "code",
      "execution_count": 10,
      "metadata": {
        "colab": {
          "base_uri": "https://localhost:8080/",
          "height": 175
        },
        "id": "ME0CZ45cM3FD",
        "outputId": "e18be614-a562-4afb-f4ac-52cddd39b16d"
      },
      "outputs": [
        {
          "data": {
            "text/html": [
              "<div>\n",
              "<style scoped>\n",
              "    .dataframe tbody tr th:only-of-type {\n",
              "        vertical-align: middle;\n",
              "    }\n",
              "\n",
              "    .dataframe tbody tr th {\n",
              "        vertical-align: top;\n",
              "    }\n",
              "\n",
              "    .dataframe thead th {\n",
              "        text-align: right;\n",
              "    }\n",
              "</style>\n",
              "<table border=\"1\" class=\"dataframe\">\n",
              "  <thead>\n",
              "    <tr style=\"text-align: right;\">\n",
              "      <th></th>\n",
              "      <th>A</th>\n",
              "      <th>B</th>\n",
              "      <th>C</th>\n",
              "      <th>D</th>\n",
              "      <th>E</th>\n",
              "      <th>F</th>\n",
              "    </tr>\n",
              "  </thead>\n",
              "  <tbody>\n",
              "    <tr>\n",
              "      <th>0</th>\n",
              "      <td>1.0</td>\n",
              "      <td>2013-01-02</td>\n",
              "      <td>1.0</td>\n",
              "      <td>3</td>\n",
              "      <td>test</td>\n",
              "      <td>foo</td>\n",
              "    </tr>\n",
              "    <tr>\n",
              "      <th>1</th>\n",
              "      <td>1.0</td>\n",
              "      <td>2013-01-02</td>\n",
              "      <td>1.0</td>\n",
              "      <td>3</td>\n",
              "      <td>train</td>\n",
              "      <td>foo</td>\n",
              "    </tr>\n",
              "    <tr>\n",
              "      <th>2</th>\n",
              "      <td>1.0</td>\n",
              "      <td>2013-01-02</td>\n",
              "      <td>1.0</td>\n",
              "      <td>3</td>\n",
              "      <td>test</td>\n",
              "      <td>foo</td>\n",
              "    </tr>\n",
              "    <tr>\n",
              "      <th>3</th>\n",
              "      <td>1.0</td>\n",
              "      <td>2013-01-02</td>\n",
              "      <td>1.0</td>\n",
              "      <td>3</td>\n",
              "      <td>train</td>\n",
              "      <td>foo</td>\n",
              "    </tr>\n",
              "  </tbody>\n",
              "</table>\n",
              "</div>"
            ],
            "text/plain": [
              "     A          B    C  D      E    F\n",
              "0  1.0 2013-01-02  1.0  3   test  foo\n",
              "1  1.0 2013-01-02  1.0  3  train  foo\n",
              "2  1.0 2013-01-02  1.0  3   test  foo\n",
              "3  1.0 2013-01-02  1.0  3  train  foo"
            ]
          },
          "execution_count": 10,
          "metadata": {},
          "output_type": "execute_result"
        }
      ],
      "source": [
        "df2 = pd.DataFrame(\n",
        "    {\n",
        "        \"A\": 1.0,\n",
        "        \"B\": pd.Timestamp(\"20130102\"),\n",
        "        \"C\": pd.Series(1, index=list(range(4)), dtype=\"float32\"),\n",
        "        \"D\": np.array([3] * 4, dtype=\"int32\"),\n",
        "        \"E\": pd.Categorical([\"test\", \"train\", \"test\", \"train\"]),\n",
        "        \"F\": \"foo\",\n",
        "    }\n",
        ")\n",
        "\n",
        "df2"
      ]
    },
    {
      "cell_type": "markdown",
      "metadata": {
        "id": "QO1AgckJOH62"
      },
      "source": [
        "The columns of the resulting <a target=\"_blank\" href=\"https://pandas.pydata.org/docs/reference/api/pandas.DataFrame.html#pandas.DataFrame\">`DataFrame`</a> have different <a target=\"_blank\" href=\"https://pandas.pydata.org/docs/user_guide/basics.html#basics-dtypes\">`dtypes`</a>:"
      ]
    },
    {
      "cell_type": "code",
      "execution_count": 12,
      "metadata": {
        "colab": {
          "base_uri": "https://localhost:8080/"
        },
        "id": "j7Quvns4OMzO",
        "outputId": "14b92f78-2e25-4d47-eea4-5ca2ad802978"
      },
      "outputs": [
        {
          "data": {
            "text/plain": [
              "A          float64\n",
              "B    datetime64[s]\n",
              "C          float32\n",
              "D            int32\n",
              "E         category\n",
              "F           object\n",
              "dtype: object"
            ]
          },
          "execution_count": 12,
          "metadata": {},
          "output_type": "execute_result"
        }
      ],
      "source": [
        "df2.dtypes"
      ]
    },
    {
      "cell_type": "markdown",
      "metadata": {
        "id": "HVONmnIoOpLL"
      },
      "source": [
        "If you’re using an interactive tool with automatic completion for column names, here’s a subset of the attributes that will be completed:\n",
        "```\n",
        "df2.<TAB>\n",
        "df2.A                  df2.bool\n",
        "df2.abs                df2.boxplot\n",
        "df2.add                df2.C\n",
        "df2.add_prefix         df2.clip\n",
        "df2.add_suffix         df2.columns\n",
        "df2.align              df2.copy\n",
        "df2.all                df2.count\n",
        "df2.any                df2.combine\n",
        "df2.append             df2.D\n",
        "df2.apply              df2.describe\n",
        "df2.applymap           df2.diff\n",
        "df2.B                  df2.duplicated\n",
        "```\n",
        "As you can see, the columns `A`, `B`, `C`, and `D` are automatically tab completed. `E` and `F` are there as well; the rest of the attributes have been truncated for brevity.\n",
        "\n"
      ]
    },
    {
      "cell_type": "markdown",
      "metadata": {
        "id": "b2H2SnfKPDh7"
      },
      "source": [
        "---  \n",
        "## Viewing data   \n",
        "*see the section [Basics](https://pandas.pydata.org/docs/user_guide/basics.html#basics) of the official [Pandas](https://pandas.pydata.org/docs/index.html) website*"
      ]
    },
    {
      "cell_type": "markdown",
      "metadata": {
        "id": "qgJj9v3NPOVv"
      },
      "source": [
        "### Head and Tail   \n",
        "Use <a target=\"_blank\" href=\"https://pandas.pydata.org/docs/reference/api/pandas.DataFrame.head.html#pandas.DataFrame.head\">`DataFrame.head()`</a> and <a target=\"_blank\" href=\"https://pandas.pydata.org/docs/reference/api/pandas.DataFrame.tail.html#pandas.DataFrame.tail\">`DataFrame.tail()`</a> to view the top and bottom rows of the frame respectively:"
      ]
    },
    {
      "cell_type": "code",
      "execution_count": 14,
      "metadata": {
        "colab": {
          "base_uri": "https://localhost:8080/",
          "height": 206
        },
        "id": "nM7nF6eJPTti",
        "outputId": "40295ce9-d4bf-43f7-b2d3-db3825ca0f83"
      },
      "outputs": [
        {
          "data": {
            "text/html": [
              "<div>\n",
              "<style scoped>\n",
              "    .dataframe tbody tr th:only-of-type {\n",
              "        vertical-align: middle;\n",
              "    }\n",
              "\n",
              "    .dataframe tbody tr th {\n",
              "        vertical-align: top;\n",
              "    }\n",
              "\n",
              "    .dataframe thead th {\n",
              "        text-align: right;\n",
              "    }\n",
              "</style>\n",
              "<table border=\"1\" class=\"dataframe\">\n",
              "  <thead>\n",
              "    <tr style=\"text-align: right;\">\n",
              "      <th></th>\n",
              "      <th>A</th>\n",
              "      <th>B</th>\n",
              "      <th>C</th>\n",
              "      <th>D</th>\n",
              "    </tr>\n",
              "  </thead>\n",
              "  <tbody>\n",
              "    <tr>\n",
              "      <th>2013-01-01</th>\n",
              "      <td>-0.269533</td>\n",
              "      <td>-0.256175</td>\n",
              "      <td>0.841631</td>\n",
              "      <td>-1.199992</td>\n",
              "    </tr>\n",
              "    <tr>\n",
              "      <th>2013-01-02</th>\n",
              "      <td>-1.159600</td>\n",
              "      <td>-0.596312</td>\n",
              "      <td>-0.517854</td>\n",
              "      <td>-1.532124</td>\n",
              "    </tr>\n",
              "    <tr>\n",
              "      <th>2013-01-03</th>\n",
              "      <td>-1.157696</td>\n",
              "      <td>1.429508</td>\n",
              "      <td>0.328579</td>\n",
              "      <td>0.673137</td>\n",
              "    </tr>\n",
              "    <tr>\n",
              "      <th>2013-01-04</th>\n",
              "      <td>0.081456</td>\n",
              "      <td>-2.120064</td>\n",
              "      <td>-2.140497</td>\n",
              "      <td>-0.610302</td>\n",
              "    </tr>\n",
              "    <tr>\n",
              "      <th>2013-01-05</th>\n",
              "      <td>1.198142</td>\n",
              "      <td>-0.970289</td>\n",
              "      <td>0.986115</td>\n",
              "      <td>0.533231</td>\n",
              "    </tr>\n",
              "  </tbody>\n",
              "</table>\n",
              "</div>"
            ],
            "text/plain": [
              "                   A         B         C         D\n",
              "2013-01-01 -0.269533 -0.256175  0.841631 -1.199992\n",
              "2013-01-02 -1.159600 -0.596312 -0.517854 -1.532124\n",
              "2013-01-03 -1.157696  1.429508  0.328579  0.673137\n",
              "2013-01-04  0.081456 -2.120064 -2.140497 -0.610302\n",
              "2013-01-05  1.198142 -0.970289  0.986115  0.533231"
            ]
          },
          "execution_count": 14,
          "metadata": {},
          "output_type": "execute_result"
        }
      ],
      "source": [
        "df.head()"
      ]
    },
    {
      "cell_type": "code",
      "execution_count": 15,
      "metadata": {
        "colab": {
          "base_uri": "https://localhost:8080/",
          "height": 143
        },
        "id": "vQj6UQdvPboN",
        "outputId": "342cee49-3dad-43b9-f8c2-811948c9b7b2"
      },
      "outputs": [
        {
          "data": {
            "text/html": [
              "<div>\n",
              "<style scoped>\n",
              "    .dataframe tbody tr th:only-of-type {\n",
              "        vertical-align: middle;\n",
              "    }\n",
              "\n",
              "    .dataframe tbody tr th {\n",
              "        vertical-align: top;\n",
              "    }\n",
              "\n",
              "    .dataframe thead th {\n",
              "        text-align: right;\n",
              "    }\n",
              "</style>\n",
              "<table border=\"1\" class=\"dataframe\">\n",
              "  <thead>\n",
              "    <tr style=\"text-align: right;\">\n",
              "      <th></th>\n",
              "      <th>A</th>\n",
              "      <th>B</th>\n",
              "      <th>C</th>\n",
              "      <th>D</th>\n",
              "    </tr>\n",
              "  </thead>\n",
              "  <tbody>\n",
              "    <tr>\n",
              "      <th>2013-01-04</th>\n",
              "      <td>0.081456</td>\n",
              "      <td>-2.120064</td>\n",
              "      <td>-2.140497</td>\n",
              "      <td>-0.610302</td>\n",
              "    </tr>\n",
              "    <tr>\n",
              "      <th>2013-01-05</th>\n",
              "      <td>1.198142</td>\n",
              "      <td>-0.970289</td>\n",
              "      <td>0.986115</td>\n",
              "      <td>0.533231</td>\n",
              "    </tr>\n",
              "    <tr>\n",
              "      <th>2013-01-06</th>\n",
              "      <td>0.548376</td>\n",
              "      <td>1.678414</td>\n",
              "      <td>2.103593</td>\n",
              "      <td>0.517631</td>\n",
              "    </tr>\n",
              "  </tbody>\n",
              "</table>\n",
              "</div>"
            ],
            "text/plain": [
              "                   A         B         C         D\n",
              "2013-01-04  0.081456 -2.120064 -2.140497 -0.610302\n",
              "2013-01-05  1.198142 -0.970289  0.986115  0.533231\n",
              "2013-01-06  0.548376  1.678414  2.103593  0.517631"
            ]
          },
          "execution_count": 15,
          "metadata": {},
          "output_type": "execute_result"
        }
      ],
      "source": [
        "df.tail(3)"
      ]
    },
    {
      "cell_type": "markdown",
      "metadata": {
        "id": "DxKFULIkPiNc"
      },
      "source": [
        "### Index and Columns   \n",
        "Display the <a target=\"_blank\" href=\"https://pandas.pydata.org/docs/reference/api/pandas.DataFrame.index.html#pandas.DataFrame.index\">`DataFrame.index`</a> or <a target=\"_blank\" href=\"https://pandas.pydata.org/docs/reference/api/pandas.DataFrame.columns.html#pandas.DataFrame.columns\">`DataFrame.columns`</a>:"
      ]
    },
    {
      "cell_type": "code",
      "execution_count": 16,
      "metadata": {
        "colab": {
          "base_uri": "https://localhost:8080/"
        },
        "id": "Zg4l9yUVPlFt",
        "outputId": "04132662-4d7b-4976-96c4-4187c5e43cc8"
      },
      "outputs": [
        {
          "data": {
            "text/plain": [
              "DatetimeIndex(['2013-01-01', '2013-01-02', '2013-01-03', '2013-01-04',\n",
              "               '2013-01-05', '2013-01-06'],\n",
              "              dtype='datetime64[ns]', freq='D')"
            ]
          },
          "execution_count": 16,
          "metadata": {},
          "output_type": "execute_result"
        }
      ],
      "source": [
        "df.index"
      ]
    },
    {
      "cell_type": "code",
      "execution_count": 17,
      "metadata": {
        "colab": {
          "base_uri": "https://localhost:8080/"
        },
        "id": "92jSTFpAProO",
        "outputId": "b0e3b943-e59c-49d2-c6e2-684c412f5a57"
      },
      "outputs": [
        {
          "data": {
            "text/plain": [
              "Index(['A', 'B', 'C', 'D'], dtype='object')"
            ]
          },
          "execution_count": 17,
          "metadata": {},
          "output_type": "execute_result"
        }
      ],
      "source": [
        "df.columns"
      ]
    },
    {
      "cell_type": "markdown",
      "metadata": {
        "id": "ZxWsnW6dhxgv"
      },
      "source": [
        "<a target=\"_blank\" href=\"https://pandas.pydata.org/docs/reference/api/pandas.DataFrame.to_numpy.html#pandas.DataFrame.to_numpy\">`DataFrame.to_numpy()`</a> gives a NumPy representation of the underlying data. Note that this can be an expensive operation when your <a target=\"_blank\" href=\"https://pandas.pydata.org/docs/reference/api/pandas.DataFrame.html#pandas.DataFrame\">`DataFrame`</a> has columns with different data types, which comes down to a fundamental difference between pandas and NumPy:  \n",
        "+ *NumPy arrays* have **one dtype for the entire array**,   \n",
        "+ while pandas *DataFrames* have **one dtype per column**.  \n",
        "\n",
        "When you call <a target=\"_blank\" href=\"https://pandas.pydata.org/docs/reference/api/pandas.DataFrame.to_numpy.html#pandas.DataFrame.to_numpy\">`DataFrame.to_numpy()`</a>, pandas will find the NumPy dtype that can hold all of the dtypes in the DataFrame. This may end up being `object`, which requires casting every value to a Python object.\n",
        "\n",
        "For `df`, our <a target=\"_blank\" href=\"https://pandas.pydata.org/docs/reference/api/pandas.DataFrame.html#pandas.DataFrame\">`DataFrame`</a> of all floating-point values, and <a target=\"_blank\" href=\"https://pandas.pydata.org/docs/reference/api/pandas.DataFrame.to_numpy.html#pandas.DataFrame.to_numpy\">`DataFrame.to_numpy()`</a> is fast and doesn’t require copying data:"
      ]
    },
    {
      "cell_type": "code",
      "execution_count": 20,
      "metadata": {
        "colab": {
          "base_uri": "https://localhost:8080/"
        },
        "id": "WXGypmdcigW0",
        "outputId": "ef57a103-bd88-4ed6-da38-54702f7c1ddd"
      },
      "outputs": [
        {
          "data": {
            "text/plain": [
              "array([[-0.26953276, -0.25617482,  0.84163125, -1.1999917 ],\n",
              "       [-1.1595995 , -0.59631166, -0.51785356, -1.53212363],\n",
              "       [-1.15769642,  1.42950769,  0.32857864,  0.67313692],\n",
              "       [ 0.08145605, -2.12006418, -2.14049654, -0.6103018 ],\n",
              "       [ 1.19814244, -0.9702887 ,  0.98611531,  0.53323139],\n",
              "       [ 0.54837556,  1.67841448,  2.10359318,  0.51763081]])"
            ]
          },
          "execution_count": 20,
          "metadata": {},
          "output_type": "execute_result"
        }
      ],
      "source": [
        "df.to_numpy()"
      ]
    },
    {
      "cell_type": "markdown",
      "metadata": {
        "id": "W6RtN0dkimTH"
      },
      "source": [
        "For `df2`, the <a target=\"_blank\" href=\"https://pandas.pydata.org/docs/reference/api/pandas.DataFrame.html#pandas.DataFrame\">`DataFrame`</a> with multiple dtypes, <a target=\"_blank\" href=\"https://pandas.pydata.org/docs/reference/api/pandas.DataFrame.to_numpy.html#pandas.DataFrame.to_numpy\">`DataFrame.to_numpy()`</a> is relatively expensive:\n",
        "\n"
      ]
    },
    {
      "cell_type": "code",
      "execution_count": 21,
      "metadata": {
        "colab": {
          "base_uri": "https://localhost:8080/"
        },
        "id": "P0XNc3kPi1bO",
        "outputId": "a2345e03-ba94-48e1-fb61-dcd59307f999"
      },
      "outputs": [
        {
          "data": {
            "text/plain": [
              "array([[1.0, Timestamp('2013-01-02 00:00:00'), 1.0, 3, 'test', 'foo'],\n",
              "       [1.0, Timestamp('2013-01-02 00:00:00'), 1.0, 3, 'train', 'foo'],\n",
              "       [1.0, Timestamp('2013-01-02 00:00:00'), 1.0, 3, 'test', 'foo'],\n",
              "       [1.0, Timestamp('2013-01-02 00:00:00'), 1.0, 3, 'train', 'foo']],\n",
              "      dtype=object)"
            ]
          },
          "execution_count": 21,
          "metadata": {},
          "output_type": "execute_result"
        }
      ],
      "source": [
        "df2.to_numpy()"
      ]
    },
    {
      "cell_type": "markdown",
      "metadata": {
        "id": "d4RIbLjzi7jY"
      },
      "source": [
        "NOTE: <a target=\"_blank\" href=\"https://pandas.pydata.org/docs/reference/api/pandas.DataFrame.to_numpy.html#pandas.DataFrame.to_numpy\">`DataFrame.to_numpy()`</a> does not include the index or column labels in the output."
      ]
    },
    {
      "cell_type": "markdown",
      "metadata": {
        "id": "SaYf9MG6Ri1A"
      },
      "source": [
        "### (Quick) Statistics Summary   \n",
        "<a target=\"_blank\" href=\"https://pandas.pydata.org/docs/reference/api/pandas.DataFrame.describe.html#pandas.DataFrame.describe\">`describe()`</a> shows a **quick statistic summary** of your data:"
      ]
    },
    {
      "cell_type": "code",
      "execution_count": 22,
      "metadata": {
        "colab": {
          "base_uri": "https://localhost:8080/",
          "height": 300
        },
        "id": "MgE_lSKiRpMi",
        "outputId": "415c5436-4aca-446b-c8a3-c740f3e7da87"
      },
      "outputs": [
        {
          "data": {
            "text/html": [
              "<div>\n",
              "<style scoped>\n",
              "    .dataframe tbody tr th:only-of-type {\n",
              "        vertical-align: middle;\n",
              "    }\n",
              "\n",
              "    .dataframe tbody tr th {\n",
              "        vertical-align: top;\n",
              "    }\n",
              "\n",
              "    .dataframe thead th {\n",
              "        text-align: right;\n",
              "    }\n",
              "</style>\n",
              "<table border=\"1\" class=\"dataframe\">\n",
              "  <thead>\n",
              "    <tr style=\"text-align: right;\">\n",
              "      <th></th>\n",
              "      <th>A</th>\n",
              "      <th>B</th>\n",
              "      <th>C</th>\n",
              "      <th>D</th>\n",
              "    </tr>\n",
              "  </thead>\n",
              "  <tbody>\n",
              "    <tr>\n",
              "      <th>count</th>\n",
              "      <td>6.000000</td>\n",
              "      <td>6.000000</td>\n",
              "      <td>6.000000</td>\n",
              "      <td>6.000000</td>\n",
              "    </tr>\n",
              "    <tr>\n",
              "      <th>mean</th>\n",
              "      <td>-0.126476</td>\n",
              "      <td>-0.139153</td>\n",
              "      <td>0.266928</td>\n",
              "      <td>-0.269736</td>\n",
              "    </tr>\n",
              "    <tr>\n",
              "      <th>std</th>\n",
              "      <td>0.938563</td>\n",
              "      <td>1.456141</td>\n",
              "      <td>1.458508</td>\n",
              "      <td>0.972491</td>\n",
              "    </tr>\n",
              "    <tr>\n",
              "      <th>min</th>\n",
              "      <td>-1.159600</td>\n",
              "      <td>-2.120064</td>\n",
              "      <td>-2.140497</td>\n",
              "      <td>-1.532124</td>\n",
              "    </tr>\n",
              "    <tr>\n",
              "      <th>25%</th>\n",
              "      <td>-0.935656</td>\n",
              "      <td>-0.876794</td>\n",
              "      <td>-0.306246</td>\n",
              "      <td>-1.052569</td>\n",
              "    </tr>\n",
              "    <tr>\n",
              "      <th>50%</th>\n",
              "      <td>-0.094038</td>\n",
              "      <td>-0.426243</td>\n",
              "      <td>0.585105</td>\n",
              "      <td>-0.046335</td>\n",
              "    </tr>\n",
              "    <tr>\n",
              "      <th>75%</th>\n",
              "      <td>0.431646</td>\n",
              "      <td>1.008087</td>\n",
              "      <td>0.949994</td>\n",
              "      <td>0.529331</td>\n",
              "    </tr>\n",
              "    <tr>\n",
              "      <th>max</th>\n",
              "      <td>1.198142</td>\n",
              "      <td>1.678414</td>\n",
              "      <td>2.103593</td>\n",
              "      <td>0.673137</td>\n",
              "    </tr>\n",
              "  </tbody>\n",
              "</table>\n",
              "</div>"
            ],
            "text/plain": [
              "              A         B         C         D\n",
              "count  6.000000  6.000000  6.000000  6.000000\n",
              "mean  -0.126476 -0.139153  0.266928 -0.269736\n",
              "std    0.938563  1.456141  1.458508  0.972491\n",
              "min   -1.159600 -2.120064 -2.140497 -1.532124\n",
              "25%   -0.935656 -0.876794 -0.306246 -1.052569\n",
              "50%   -0.094038 -0.426243  0.585105 -0.046335\n",
              "75%    0.431646  1.008087  0.949994  0.529331\n",
              "max    1.198142  1.678414  2.103593  0.673137"
            ]
          },
          "execution_count": 22,
          "metadata": {},
          "output_type": "execute_result"
        }
      ],
      "source": [
        "df.describe()"
      ]
    },
    {
      "cell_type": "markdown",
      "metadata": {
        "id": "R53zfAH8RxDV"
      },
      "source": [
        "### Transposing and Sorting   \n",
        "Transposing the whole dataframe:"
      ]
    },
    {
      "cell_type": "code",
      "execution_count": 23,
      "metadata": {
        "colab": {
          "base_uri": "https://localhost:8080/",
          "height": 175
        },
        "id": "bIE_UkjDRz5x",
        "outputId": "f1998c28-2e49-4d0e-8512-47451fb17ccf"
      },
      "outputs": [
        {
          "data": {
            "text/html": [
              "<div>\n",
              "<style scoped>\n",
              "    .dataframe tbody tr th:only-of-type {\n",
              "        vertical-align: middle;\n",
              "    }\n",
              "\n",
              "    .dataframe tbody tr th {\n",
              "        vertical-align: top;\n",
              "    }\n",
              "\n",
              "    .dataframe thead th {\n",
              "        text-align: right;\n",
              "    }\n",
              "</style>\n",
              "<table border=\"1\" class=\"dataframe\">\n",
              "  <thead>\n",
              "    <tr style=\"text-align: right;\">\n",
              "      <th></th>\n",
              "      <th>2013-01-01</th>\n",
              "      <th>2013-01-02</th>\n",
              "      <th>2013-01-03</th>\n",
              "      <th>2013-01-04</th>\n",
              "      <th>2013-01-05</th>\n",
              "      <th>2013-01-06</th>\n",
              "    </tr>\n",
              "  </thead>\n",
              "  <tbody>\n",
              "    <tr>\n",
              "      <th>A</th>\n",
              "      <td>-0.269533</td>\n",
              "      <td>-1.159600</td>\n",
              "      <td>-1.157696</td>\n",
              "      <td>0.081456</td>\n",
              "      <td>1.198142</td>\n",
              "      <td>0.548376</td>\n",
              "    </tr>\n",
              "    <tr>\n",
              "      <th>B</th>\n",
              "      <td>-0.256175</td>\n",
              "      <td>-0.596312</td>\n",
              "      <td>1.429508</td>\n",
              "      <td>-2.120064</td>\n",
              "      <td>-0.970289</td>\n",
              "      <td>1.678414</td>\n",
              "    </tr>\n",
              "    <tr>\n",
              "      <th>C</th>\n",
              "      <td>0.841631</td>\n",
              "      <td>-0.517854</td>\n",
              "      <td>0.328579</td>\n",
              "      <td>-2.140497</td>\n",
              "      <td>0.986115</td>\n",
              "      <td>2.103593</td>\n",
              "    </tr>\n",
              "    <tr>\n",
              "      <th>D</th>\n",
              "      <td>-1.199992</td>\n",
              "      <td>-1.532124</td>\n",
              "      <td>0.673137</td>\n",
              "      <td>-0.610302</td>\n",
              "      <td>0.533231</td>\n",
              "      <td>0.517631</td>\n",
              "    </tr>\n",
              "  </tbody>\n",
              "</table>\n",
              "</div>"
            ],
            "text/plain": [
              "   2013-01-01  2013-01-02  2013-01-03  2013-01-04  2013-01-05  2013-01-06\n",
              "A   -0.269533   -1.159600   -1.157696    0.081456    1.198142    0.548376\n",
              "B   -0.256175   -0.596312    1.429508   -2.120064   -0.970289    1.678414\n",
              "C    0.841631   -0.517854    0.328579   -2.140497    0.986115    2.103593\n",
              "D   -1.199992   -1.532124    0.673137   -0.610302    0.533231    0.517631"
            ]
          },
          "execution_count": 23,
          "metadata": {},
          "output_type": "execute_result"
        }
      ],
      "source": [
        "df.T"
      ]
    },
    {
      "cell_type": "markdown",
      "metadata": {
        "id": "aLIzfkguR6hY"
      },
      "source": [
        "<a target=\"_blank\" href=\"https://pandas.pydata.org/docs/reference/api/pandas.DataFrame.sort_index.html#pandas.DataFrame.sort_index\">`DataFrame.sort_index()`</a> sorts by an axis:"
      ]
    },
    {
      "cell_type": "code",
      "execution_count": 26,
      "metadata": {
        "colab": {
          "base_uri": "https://localhost:8080/",
          "height": 237
        },
        "id": "yuWbmU8fR8hp",
        "outputId": "c21db382-c79f-4777-81ff-e8581f6ed88b"
      },
      "outputs": [
        {
          "data": {
            "text/html": [
              "<div>\n",
              "<style scoped>\n",
              "    .dataframe tbody tr th:only-of-type {\n",
              "        vertical-align: middle;\n",
              "    }\n",
              "\n",
              "    .dataframe tbody tr th {\n",
              "        vertical-align: top;\n",
              "    }\n",
              "\n",
              "    .dataframe thead th {\n",
              "        text-align: right;\n",
              "    }\n",
              "</style>\n",
              "<table border=\"1\" class=\"dataframe\">\n",
              "  <thead>\n",
              "    <tr style=\"text-align: right;\">\n",
              "      <th></th>\n",
              "      <th>D</th>\n",
              "      <th>C</th>\n",
              "      <th>B</th>\n",
              "      <th>A</th>\n",
              "    </tr>\n",
              "  </thead>\n",
              "  <tbody>\n",
              "    <tr>\n",
              "      <th>2013-01-01</th>\n",
              "      <td>-1.199992</td>\n",
              "      <td>0.841631</td>\n",
              "      <td>-0.256175</td>\n",
              "      <td>-0.269533</td>\n",
              "    </tr>\n",
              "    <tr>\n",
              "      <th>2013-01-02</th>\n",
              "      <td>-1.532124</td>\n",
              "      <td>-0.517854</td>\n",
              "      <td>-0.596312</td>\n",
              "      <td>-1.159600</td>\n",
              "    </tr>\n",
              "    <tr>\n",
              "      <th>2013-01-03</th>\n",
              "      <td>0.673137</td>\n",
              "      <td>0.328579</td>\n",
              "      <td>1.429508</td>\n",
              "      <td>-1.157696</td>\n",
              "    </tr>\n",
              "    <tr>\n",
              "      <th>2013-01-04</th>\n",
              "      <td>-0.610302</td>\n",
              "      <td>-2.140497</td>\n",
              "      <td>-2.120064</td>\n",
              "      <td>0.081456</td>\n",
              "    </tr>\n",
              "    <tr>\n",
              "      <th>2013-01-05</th>\n",
              "      <td>0.533231</td>\n",
              "      <td>0.986115</td>\n",
              "      <td>-0.970289</td>\n",
              "      <td>1.198142</td>\n",
              "    </tr>\n",
              "    <tr>\n",
              "      <th>2013-01-06</th>\n",
              "      <td>0.517631</td>\n",
              "      <td>2.103593</td>\n",
              "      <td>1.678414</td>\n",
              "      <td>0.548376</td>\n",
              "    </tr>\n",
              "  </tbody>\n",
              "</table>\n",
              "</div>"
            ],
            "text/plain": [
              "                   D         C         B         A\n",
              "2013-01-01 -1.199992  0.841631 -0.256175 -0.269533\n",
              "2013-01-02 -1.532124 -0.517854 -0.596312 -1.159600\n",
              "2013-01-03  0.673137  0.328579  1.429508 -1.157696\n",
              "2013-01-04 -0.610302 -2.140497 -2.120064  0.081456\n",
              "2013-01-05  0.533231  0.986115 -0.970289  1.198142\n",
              "2013-01-06  0.517631  2.103593  1.678414  0.548376"
            ]
          },
          "execution_count": 26,
          "metadata": {},
          "output_type": "execute_result"
        }
      ],
      "source": [
        "df.sort_index(axis=1, ascending=False)"
      ]
    },
    {
      "cell_type": "markdown",
      "metadata": {
        "id": "_PIz8Q0ZSQn3"
      },
      "source": [
        "<a target=\"_blank\" href=\"https://pandas.pydata.org/docs/reference/api/pandas.DataFrame.sort_values.html#pandas.DataFrame.sort_values\">`DataFrame.sort_values()`</a> sorts by values:"
      ]
    },
    {
      "cell_type": "code",
      "execution_count": 30,
      "metadata": {
        "colab": {
          "base_uri": "https://localhost:8080/",
          "height": 237
        },
        "id": "j_7cuOtwSYf1",
        "outputId": "959eba4f-c483-44d4-fdae-397c0e4912e2"
      },
      "outputs": [
        {
          "data": {
            "text/html": [
              "<div>\n",
              "<style scoped>\n",
              "    .dataframe tbody tr th:only-of-type {\n",
              "        vertical-align: middle;\n",
              "    }\n",
              "\n",
              "    .dataframe tbody tr th {\n",
              "        vertical-align: top;\n",
              "    }\n",
              "\n",
              "    .dataframe thead th {\n",
              "        text-align: right;\n",
              "    }\n",
              "</style>\n",
              "<table border=\"1\" class=\"dataframe\">\n",
              "  <thead>\n",
              "    <tr style=\"text-align: right;\">\n",
              "      <th></th>\n",
              "      <th>A</th>\n",
              "      <th>B</th>\n",
              "      <th>C</th>\n",
              "      <th>D</th>\n",
              "    </tr>\n",
              "  </thead>\n",
              "  <tbody>\n",
              "    <tr>\n",
              "      <th>2013-01-04</th>\n",
              "      <td>0.081456</td>\n",
              "      <td>-2.120064</td>\n",
              "      <td>-2.140497</td>\n",
              "      <td>-0.610302</td>\n",
              "    </tr>\n",
              "    <tr>\n",
              "      <th>2013-01-05</th>\n",
              "      <td>1.198142</td>\n",
              "      <td>-0.970289</td>\n",
              "      <td>0.986115</td>\n",
              "      <td>0.533231</td>\n",
              "    </tr>\n",
              "    <tr>\n",
              "      <th>2013-01-02</th>\n",
              "      <td>-1.159600</td>\n",
              "      <td>-0.596312</td>\n",
              "      <td>-0.517854</td>\n",
              "      <td>-1.532124</td>\n",
              "    </tr>\n",
              "    <tr>\n",
              "      <th>2013-01-01</th>\n",
              "      <td>-0.269533</td>\n",
              "      <td>-0.256175</td>\n",
              "      <td>0.841631</td>\n",
              "      <td>-1.199992</td>\n",
              "    </tr>\n",
              "    <tr>\n",
              "      <th>2013-01-03</th>\n",
              "      <td>-1.157696</td>\n",
              "      <td>1.429508</td>\n",
              "      <td>0.328579</td>\n",
              "      <td>0.673137</td>\n",
              "    </tr>\n",
              "    <tr>\n",
              "      <th>2013-01-06</th>\n",
              "      <td>0.548376</td>\n",
              "      <td>1.678414</td>\n",
              "      <td>2.103593</td>\n",
              "      <td>0.517631</td>\n",
              "    </tr>\n",
              "  </tbody>\n",
              "</table>\n",
              "</div>"
            ],
            "text/plain": [
              "                   A         B         C         D\n",
              "2013-01-04  0.081456 -2.120064 -2.140497 -0.610302\n",
              "2013-01-05  1.198142 -0.970289  0.986115  0.533231\n",
              "2013-01-02 -1.159600 -0.596312 -0.517854 -1.532124\n",
              "2013-01-01 -0.269533 -0.256175  0.841631 -1.199992\n",
              "2013-01-03 -1.157696  1.429508  0.328579  0.673137\n",
              "2013-01-06  0.548376  1.678414  2.103593  0.517631"
            ]
          },
          "execution_count": 30,
          "metadata": {},
          "output_type": "execute_result"
        }
      ],
      "source": [
        "df.sort_values(by='B')"
      ]
    },
    {
      "cell_type": "markdown",
      "metadata": {
        "id": "Irh3gEM7Sjw6"
      },
      "source": [
        "---  \n",
        "## Selection   \n",
        "In this section, we will focus on how to slice, dice, and generally get and set subsets of pandas objects.\n",
        "\n",
        "*see the documentation <a target=\"_blank\" href=\"https://pandas.pydata.org/docs/user_guide/indexing.html#indexing\">Indexing and Selecting Data</a> and <a target=\"_blank\" href=\"https://pandas.pydata.org/docs/user_guide/advanced.html#advanced\">MultiIndex / Advanced Indexing</a> of the official [Pandas](https://pandas.pydata.org/docs/index.html) website*"
      ]
    },
    {
      "cell_type": "markdown",
      "metadata": {
        "id": "ipv6fGmvkTzV"
      },
      "source": [
        "> NOTE: While standard Python / NumPy expressions for selecting and setting are intuitive and come in handy for interactive work, for production code, we recommend the optimized pandas data access methods, <a target=\"_blank\" href=\"https://pandas.pydata.org/docs/reference/api/pandas.DataFrame.at.html#pandas.DataFrame.at\">`DataFrame.at()`</a>, <a target=\"_blank\" href=\"https://pandas.pydata.org/docs/reference/api/pandas.DataFrame.iat.html#pandas.DataFrame.iat\">`DataFrame.iat()`</a>, <a target=\"_blank\" href=\"https://pandas.pydata.org/docs/reference/api/pandas.DataFrame.loc.html#pandas.DataFrame.loc\">`DataFrame.loc()`</a> and <a target=\"_blank\" href=\"https://pandas.pydata.org/docs/reference/api/pandas.DataFrame.iloc.html#pandas.DataFrame.iloc\">`DataFrame.iloc()`</a>.\n",
        "\n"
      ]
    },
    {
      "cell_type": "markdown",
      "metadata": {
        "id": "nHaQJaVhTHSl"
      },
      "source": [
        "### Getting Subsets"
      ]
    },
    {
      "cell_type": "markdown",
      "metadata": {
        "id": "lVl2W8bQSs02"
      },
      "source": [
        "Selecting a single column, which yields a <a target=\"_blank\" href=\"https://pandas.pydata.org/docs/reference/api/pandas.Series.html#pandas.Series\">`Series`</a>, equivalent to `df.A`:"
      ]
    },
    {
      "cell_type": "code",
      "execution_count": 31,
      "metadata": {
        "colab": {
          "base_uri": "https://localhost:8080/"
        },
        "id": "l1d7nm3QS0qg",
        "outputId": "f73cf781-32b3-4f3a-fc00-271fe1b471a9"
      },
      "outputs": [
        {
          "data": {
            "text/plain": [
              "2013-01-01   -0.269533\n",
              "2013-01-02   -1.159600\n",
              "2013-01-03   -1.157696\n",
              "2013-01-04    0.081456\n",
              "2013-01-05    1.198142\n",
              "2013-01-06    0.548376\n",
              "Freq: D, Name: A, dtype: float64"
            ]
          },
          "execution_count": 31,
          "metadata": {},
          "output_type": "execute_result"
        }
      ],
      "source": [
        "df[\"A\"]"
      ]
    },
    {
      "cell_type": "markdown",
      "metadata": {
        "id": "zN6UA4ZAS4SV"
      },
      "source": [
        "Selecting via `[]` (`__getitem__`), which slices the rows:"
      ]
    },
    {
      "cell_type": "code",
      "execution_count": 33,
      "metadata": {
        "colab": {
          "base_uri": "https://localhost:8080/",
          "height": 143
        },
        "id": "tkCiLvw3S3ll",
        "outputId": "7fabc6b0-65e9-48d1-f370-e02090309220"
      },
      "outputs": [
        {
          "data": {
            "text/html": [
              "<div>\n",
              "<style scoped>\n",
              "    .dataframe tbody tr th:only-of-type {\n",
              "        vertical-align: middle;\n",
              "    }\n",
              "\n",
              "    .dataframe tbody tr th {\n",
              "        vertical-align: top;\n",
              "    }\n",
              "\n",
              "    .dataframe thead th {\n",
              "        text-align: right;\n",
              "    }\n",
              "</style>\n",
              "<table border=\"1\" class=\"dataframe\">\n",
              "  <thead>\n",
              "    <tr style=\"text-align: right;\">\n",
              "      <th></th>\n",
              "      <th>A</th>\n",
              "      <th>B</th>\n",
              "      <th>C</th>\n",
              "      <th>D</th>\n",
              "    </tr>\n",
              "  </thead>\n",
              "  <tbody>\n",
              "    <tr>\n",
              "      <th>2013-01-01</th>\n",
              "      <td>-0.269533</td>\n",
              "      <td>-0.256175</td>\n",
              "      <td>0.841631</td>\n",
              "      <td>-1.199992</td>\n",
              "    </tr>\n",
              "    <tr>\n",
              "      <th>2013-01-02</th>\n",
              "      <td>-1.159600</td>\n",
              "      <td>-0.596312</td>\n",
              "      <td>-0.517854</td>\n",
              "      <td>-1.532124</td>\n",
              "    </tr>\n",
              "    <tr>\n",
              "      <th>2013-01-03</th>\n",
              "      <td>-1.157696</td>\n",
              "      <td>1.429508</td>\n",
              "      <td>0.328579</td>\n",
              "      <td>0.673137</td>\n",
              "    </tr>\n",
              "  </tbody>\n",
              "</table>\n",
              "</div>"
            ],
            "text/plain": [
              "                   A         B         C         D\n",
              "2013-01-01 -0.269533 -0.256175  0.841631 -1.199992\n",
              "2013-01-02 -1.159600 -0.596312 -0.517854 -1.532124\n",
              "2013-01-03 -1.157696  1.429508  0.328579  0.673137"
            ]
          },
          "execution_count": 33,
          "metadata": {},
          "output_type": "execute_result"
        }
      ],
      "source": [
        "df[0:3]"
      ]
    },
    {
      "cell_type": "code",
      "execution_count": 34,
      "metadata": {
        "colab": {
          "base_uri": "https://localhost:8080/",
          "height": 143
        },
        "id": "9Ir6HCR2mKo0",
        "outputId": "5204195b-efa0-4eb2-b1c6-a6464fc9a497"
      },
      "outputs": [
        {
          "data": {
            "text/html": [
              "<div>\n",
              "<style scoped>\n",
              "    .dataframe tbody tr th:only-of-type {\n",
              "        vertical-align: middle;\n",
              "    }\n",
              "\n",
              "    .dataframe tbody tr th {\n",
              "        vertical-align: top;\n",
              "    }\n",
              "\n",
              "    .dataframe thead th {\n",
              "        text-align: right;\n",
              "    }\n",
              "</style>\n",
              "<table border=\"1\" class=\"dataframe\">\n",
              "  <thead>\n",
              "    <tr style=\"text-align: right;\">\n",
              "      <th></th>\n",
              "      <th>A</th>\n",
              "      <th>B</th>\n",
              "      <th>C</th>\n",
              "      <th>D</th>\n",
              "    </tr>\n",
              "  </thead>\n",
              "  <tbody>\n",
              "    <tr>\n",
              "      <th>2013-01-02</th>\n",
              "      <td>-1.159600</td>\n",
              "      <td>-0.596312</td>\n",
              "      <td>-0.517854</td>\n",
              "      <td>-1.532124</td>\n",
              "    </tr>\n",
              "    <tr>\n",
              "      <th>2013-01-03</th>\n",
              "      <td>-1.157696</td>\n",
              "      <td>1.429508</td>\n",
              "      <td>0.328579</td>\n",
              "      <td>0.673137</td>\n",
              "    </tr>\n",
              "    <tr>\n",
              "      <th>2013-01-04</th>\n",
              "      <td>0.081456</td>\n",
              "      <td>-2.120064</td>\n",
              "      <td>-2.140497</td>\n",
              "      <td>-0.610302</td>\n",
              "    </tr>\n",
              "  </tbody>\n",
              "</table>\n",
              "</div>"
            ],
            "text/plain": [
              "                   A         B         C         D\n",
              "2013-01-02 -1.159600 -0.596312 -0.517854 -1.532124\n",
              "2013-01-03 -1.157696  1.429508  0.328579  0.673137\n",
              "2013-01-04  0.081456 -2.120064 -2.140497 -0.610302"
            ]
          },
          "execution_count": 34,
          "metadata": {},
          "output_type": "execute_result"
        }
      ],
      "source": [
        "df[\"20130102\":\"20130104\"]"
      ]
    },
    {
      "cell_type": "markdown",
      "metadata": {
        "id": "DYwyMbOOTOMD"
      },
      "source": [
        "### Selection by label"
      ]
    },
    {
      "cell_type": "markdown",
      "metadata": {
        "id": "FpAjPc5TTYRR"
      },
      "source": [
        "See more in <a target=\"_blank\" href=\"https://pandas.pydata.org/docs/user_guide/indexing.html#indexing-label\">Selection by Label</a> using <a target=\"_blank\" href=\"https://pandas.pydata.org/docs/reference/api/pandas.DataFrame.loc.html#pandas.DataFrame.loc\">`DataFrame.loc()`</a> or <a target=\"_blank\" href=\"https://pandas.pydata.org/docs/reference/api/pandas.DataFrame.at.html#pandas.DataFrame.at\">`DataFrame.at()`</a>.\n",
        "\n",
        "For getting a cross section using a label:"
      ]
    },
    {
      "cell_type": "code",
      "execution_count": 35,
      "metadata": {
        "colab": {
          "base_uri": "https://localhost:8080/"
        },
        "id": "eIAarsmaTSCi",
        "outputId": "8f7daa68-bfbe-4ee5-9039-628c8e13561f"
      },
      "outputs": [
        {
          "data": {
            "text/plain": [
              "A   -0.269533\n",
              "B   -0.256175\n",
              "C    0.841631\n",
              "D   -1.199992\n",
              "Name: 2013-01-01 00:00:00, dtype: float64"
            ]
          },
          "execution_count": 35,
          "metadata": {},
          "output_type": "execute_result"
        }
      ],
      "source": [
        "df.loc[dates[0]]"
      ]
    },
    {
      "cell_type": "markdown",
      "metadata": {
        "id": "a4kPW5AVTf5o"
      },
      "source": [
        "Selecting on a multi-axis by label:"
      ]
    },
    {
      "cell_type": "code",
      "execution_count": 36,
      "metadata": {
        "colab": {
          "base_uri": "https://localhost:8080/",
          "height": 237
        },
        "id": "m8hHZWCbTjIC",
        "outputId": "fba84653-56dd-4846-9d05-bf0865ab4a55"
      },
      "outputs": [
        {
          "data": {
            "text/html": [
              "<div>\n",
              "<style scoped>\n",
              "    .dataframe tbody tr th:only-of-type {\n",
              "        vertical-align: middle;\n",
              "    }\n",
              "\n",
              "    .dataframe tbody tr th {\n",
              "        vertical-align: top;\n",
              "    }\n",
              "\n",
              "    .dataframe thead th {\n",
              "        text-align: right;\n",
              "    }\n",
              "</style>\n",
              "<table border=\"1\" class=\"dataframe\">\n",
              "  <thead>\n",
              "    <tr style=\"text-align: right;\">\n",
              "      <th></th>\n",
              "      <th>A</th>\n",
              "      <th>B</th>\n",
              "    </tr>\n",
              "  </thead>\n",
              "  <tbody>\n",
              "    <tr>\n",
              "      <th>2013-01-01</th>\n",
              "      <td>-0.269533</td>\n",
              "      <td>-0.256175</td>\n",
              "    </tr>\n",
              "    <tr>\n",
              "      <th>2013-01-02</th>\n",
              "      <td>-1.159600</td>\n",
              "      <td>-0.596312</td>\n",
              "    </tr>\n",
              "    <tr>\n",
              "      <th>2013-01-03</th>\n",
              "      <td>-1.157696</td>\n",
              "      <td>1.429508</td>\n",
              "    </tr>\n",
              "    <tr>\n",
              "      <th>2013-01-04</th>\n",
              "      <td>0.081456</td>\n",
              "      <td>-2.120064</td>\n",
              "    </tr>\n",
              "    <tr>\n",
              "      <th>2013-01-05</th>\n",
              "      <td>1.198142</td>\n",
              "      <td>-0.970289</td>\n",
              "    </tr>\n",
              "    <tr>\n",
              "      <th>2013-01-06</th>\n",
              "      <td>0.548376</td>\n",
              "      <td>1.678414</td>\n",
              "    </tr>\n",
              "  </tbody>\n",
              "</table>\n",
              "</div>"
            ],
            "text/plain": [
              "                   A         B\n",
              "2013-01-01 -0.269533 -0.256175\n",
              "2013-01-02 -1.159600 -0.596312\n",
              "2013-01-03 -1.157696  1.429508\n",
              "2013-01-04  0.081456 -2.120064\n",
              "2013-01-05  1.198142 -0.970289\n",
              "2013-01-06  0.548376  1.678414"
            ]
          },
          "execution_count": 36,
          "metadata": {},
          "output_type": "execute_result"
        }
      ],
      "source": [
        "df.loc[:, [\"A\", \"B\"]]"
      ]
    },
    {
      "cell_type": "markdown",
      "metadata": {
        "id": "AYZHmpTvnLX_"
      },
      "source": [
        "Showing label slicing, both endpoints are included:"
      ]
    },
    {
      "cell_type": "code",
      "execution_count": 37,
      "metadata": {
        "colab": {
          "base_uri": "https://localhost:8080/",
          "height": 143
        },
        "id": "Bji30wMhnMfq",
        "outputId": "767f2d84-ceb6-46de-c170-94a304dab6fe"
      },
      "outputs": [
        {
          "data": {
            "text/html": [
              "<div>\n",
              "<style scoped>\n",
              "    .dataframe tbody tr th:only-of-type {\n",
              "        vertical-align: middle;\n",
              "    }\n",
              "\n",
              "    .dataframe tbody tr th {\n",
              "        vertical-align: top;\n",
              "    }\n",
              "\n",
              "    .dataframe thead th {\n",
              "        text-align: right;\n",
              "    }\n",
              "</style>\n",
              "<table border=\"1\" class=\"dataframe\">\n",
              "  <thead>\n",
              "    <tr style=\"text-align: right;\">\n",
              "      <th></th>\n",
              "      <th>A</th>\n",
              "      <th>B</th>\n",
              "    </tr>\n",
              "  </thead>\n",
              "  <tbody>\n",
              "    <tr>\n",
              "      <th>2013-01-02</th>\n",
              "      <td>-1.159600</td>\n",
              "      <td>-0.596312</td>\n",
              "    </tr>\n",
              "    <tr>\n",
              "      <th>2013-01-03</th>\n",
              "      <td>-1.157696</td>\n",
              "      <td>1.429508</td>\n",
              "    </tr>\n",
              "    <tr>\n",
              "      <th>2013-01-04</th>\n",
              "      <td>0.081456</td>\n",
              "      <td>-2.120064</td>\n",
              "    </tr>\n",
              "  </tbody>\n",
              "</table>\n",
              "</div>"
            ],
            "text/plain": [
              "                   A         B\n",
              "2013-01-02 -1.159600 -0.596312\n",
              "2013-01-03 -1.157696  1.429508\n",
              "2013-01-04  0.081456 -2.120064"
            ]
          },
          "execution_count": 37,
          "metadata": {},
          "output_type": "execute_result"
        }
      ],
      "source": [
        "df.loc[\"20130102\":\"20130104\", [\"A\", \"B\"]]"
      ]
    },
    {
      "cell_type": "markdown",
      "metadata": {
        "id": "yyPla7wjnTGf"
      },
      "source": [
        "Reduction in the dimensions of the returned object:"
      ]
    },
    {
      "cell_type": "code",
      "execution_count": 38,
      "metadata": {
        "colab": {
          "base_uri": "https://localhost:8080/"
        },
        "id": "HQNcB0xjnUbR",
        "outputId": "62d2a53f-834b-4cb4-db17-806c0b513aa3"
      },
      "outputs": [
        {
          "data": {
            "text/plain": [
              "A   -1.159600\n",
              "B   -0.596312\n",
              "Name: 2013-01-02 00:00:00, dtype: float64"
            ]
          },
          "execution_count": 38,
          "metadata": {},
          "output_type": "execute_result"
        }
      ],
      "source": [
        "df.loc[\"20130102\", [\"A\", \"B\"]]"
      ]
    },
    {
      "cell_type": "markdown",
      "metadata": {
        "id": "pR_2DTRtnaah"
      },
      "source": [
        "For getting a scalar value:"
      ]
    },
    {
      "cell_type": "code",
      "execution_count": 39,
      "metadata": {
        "colab": {
          "base_uri": "https://localhost:8080/"
        },
        "id": "VTtQq99Unbol",
        "outputId": "e3a1e51a-5e83-479f-ffdb-8d9e864fcbcf"
      },
      "outputs": [
        {
          "data": {
            "text/plain": [
              "np.float64(-0.26953275572042523)"
            ]
          },
          "execution_count": 39,
          "metadata": {},
          "output_type": "execute_result"
        }
      ],
      "source": [
        "df.loc[dates[0], \"A\"]"
      ]
    },
    {
      "cell_type": "markdown",
      "metadata": {
        "id": "msUtRC5_nhFg"
      },
      "source": [
        "For getting fast access to a scalar (equivalent to the prior method):"
      ]
    },
    {
      "cell_type": "code",
      "execution_count": 40,
      "metadata": {
        "colab": {
          "base_uri": "https://localhost:8080/"
        },
        "id": "TNDwK-dAniQb",
        "outputId": "94d1dc98-97d4-4ce0-ce97-c082abe8fb02"
      },
      "outputs": [
        {
          "data": {
            "text/plain": [
              "np.float64(-0.26953275572042523)"
            ]
          },
          "execution_count": 40,
          "metadata": {},
          "output_type": "execute_result"
        }
      ],
      "source": [
        "df.at[dates[0], \"A\"]"
      ]
    },
    {
      "cell_type": "markdown",
      "metadata": {
        "id": "7gY3VNbhT4w8"
      },
      "source": [
        "### Selection by position"
      ]
    },
    {
      "cell_type": "markdown",
      "metadata": {
        "id": "-2hN_bmKw8yy"
      },
      "source": [
        "See more in <a target=\"_blank\" href=\"https://pandas.pydata.org/docs/user_guide/indexing.html#indexing-integer\">Selection by Position</a> using <a target=\"_blank\" href=\"https://pandas.pydata.org/docs/reference/api/pandas.DataFrame.iloc.html#pandas.DataFrame.iloc\">`DataFrame.iloc()`</a> or <a target=\"_blank\" href=\"https://pandas.pydata.org/docs/reference/api/pandas.DataFrame.at.html#pandas.DataFrame.at\">`DataFrame.at()`</a>.\n",
        "\n",
        "Select via the position of the passed integers:"
      ]
    },
    {
      "cell_type": "code",
      "execution_count": 41,
      "metadata": {
        "colab": {
          "base_uri": "https://localhost:8080/"
        },
        "id": "AUrNqRvKT81K",
        "outputId": "29992bf0-f152-46b4-a237-84ecbe775f2b"
      },
      "outputs": [
        {
          "data": {
            "text/plain": [
              "A    0.081456\n",
              "B   -2.120064\n",
              "C   -2.140497\n",
              "D   -0.610302\n",
              "Name: 2013-01-04 00:00:00, dtype: float64"
            ]
          },
          "execution_count": 41,
          "metadata": {},
          "output_type": "execute_result"
        }
      ],
      "source": [
        "df.iloc[3]"
      ]
    },
    {
      "cell_type": "markdown",
      "metadata": {
        "id": "XOoPOUzDUE4Z"
      },
      "source": [
        "By integer slices, acting similar to NumPy/Python:"
      ]
    },
    {
      "cell_type": "code",
      "execution_count": 42,
      "metadata": {
        "colab": {
          "base_uri": "https://localhost:8080/",
          "height": 112
        },
        "id": "qDgEXEQnUIxE",
        "outputId": "92252c48-6eaf-486f-f922-766adef6a7ec"
      },
      "outputs": [
        {
          "data": {
            "text/html": [
              "<div>\n",
              "<style scoped>\n",
              "    .dataframe tbody tr th:only-of-type {\n",
              "        vertical-align: middle;\n",
              "    }\n",
              "\n",
              "    .dataframe tbody tr th {\n",
              "        vertical-align: top;\n",
              "    }\n",
              "\n",
              "    .dataframe thead th {\n",
              "        text-align: right;\n",
              "    }\n",
              "</style>\n",
              "<table border=\"1\" class=\"dataframe\">\n",
              "  <thead>\n",
              "    <tr style=\"text-align: right;\">\n",
              "      <th></th>\n",
              "      <th>A</th>\n",
              "      <th>B</th>\n",
              "    </tr>\n",
              "  </thead>\n",
              "  <tbody>\n",
              "    <tr>\n",
              "      <th>2013-01-04</th>\n",
              "      <td>0.081456</td>\n",
              "      <td>-2.120064</td>\n",
              "    </tr>\n",
              "    <tr>\n",
              "      <th>2013-01-05</th>\n",
              "      <td>1.198142</td>\n",
              "      <td>-0.970289</td>\n",
              "    </tr>\n",
              "  </tbody>\n",
              "</table>\n",
              "</div>"
            ],
            "text/plain": [
              "                   A         B\n",
              "2013-01-04  0.081456 -2.120064\n",
              "2013-01-05  1.198142 -0.970289"
            ]
          },
          "execution_count": 42,
          "metadata": {},
          "output_type": "execute_result"
        }
      ],
      "source": [
        "df.iloc[3:5, 0:2]"
      ]
    },
    {
      "cell_type": "markdown",
      "metadata": {
        "id": "3-TZIwk8USJ6"
      },
      "source": [
        "By lists of integer position locations, similar to the NumPy/Python style:"
      ]
    },
    {
      "cell_type": "code",
      "execution_count": 43,
      "metadata": {
        "colab": {
          "base_uri": "https://localhost:8080/",
          "height": 143
        },
        "id": "d1pT2WLHUVfG",
        "outputId": "565d488d-7a73-405e-9cc8-2bad7947bf65"
      },
      "outputs": [
        {
          "data": {
            "text/html": [
              "<div>\n",
              "<style scoped>\n",
              "    .dataframe tbody tr th:only-of-type {\n",
              "        vertical-align: middle;\n",
              "    }\n",
              "\n",
              "    .dataframe tbody tr th {\n",
              "        vertical-align: top;\n",
              "    }\n",
              "\n",
              "    .dataframe thead th {\n",
              "        text-align: right;\n",
              "    }\n",
              "</style>\n",
              "<table border=\"1\" class=\"dataframe\">\n",
              "  <thead>\n",
              "    <tr style=\"text-align: right;\">\n",
              "      <th></th>\n",
              "      <th>A</th>\n",
              "      <th>C</th>\n",
              "    </tr>\n",
              "  </thead>\n",
              "  <tbody>\n",
              "    <tr>\n",
              "      <th>2013-01-02</th>\n",
              "      <td>-1.159600</td>\n",
              "      <td>-0.517854</td>\n",
              "    </tr>\n",
              "    <tr>\n",
              "      <th>2013-01-03</th>\n",
              "      <td>-1.157696</td>\n",
              "      <td>0.328579</td>\n",
              "    </tr>\n",
              "    <tr>\n",
              "      <th>2013-01-05</th>\n",
              "      <td>1.198142</td>\n",
              "      <td>0.986115</td>\n",
              "    </tr>\n",
              "  </tbody>\n",
              "</table>\n",
              "</div>"
            ],
            "text/plain": [
              "                   A         C\n",
              "2013-01-02 -1.159600 -0.517854\n",
              "2013-01-03 -1.157696  0.328579\n",
              "2013-01-05  1.198142  0.986115"
            ]
          },
          "execution_count": 43,
          "metadata": {},
          "output_type": "execute_result"
        }
      ],
      "source": [
        "df.iloc[[1, 2, 4], [0, 2]]"
      ]
    },
    {
      "cell_type": "markdown",
      "metadata": {
        "id": "RTIUN_gux-gY"
      },
      "source": [
        "For slicing rows explicitly:"
      ]
    },
    {
      "cell_type": "code",
      "execution_count": 44,
      "metadata": {
        "colab": {
          "base_uri": "https://localhost:8080/",
          "height": 112
        },
        "id": "5QG1PfAtx_qM",
        "outputId": "cbff987c-5e74-4ab7-91b0-3e935edea266"
      },
      "outputs": [
        {
          "data": {
            "text/html": [
              "<div>\n",
              "<style scoped>\n",
              "    .dataframe tbody tr th:only-of-type {\n",
              "        vertical-align: middle;\n",
              "    }\n",
              "\n",
              "    .dataframe tbody tr th {\n",
              "        vertical-align: top;\n",
              "    }\n",
              "\n",
              "    .dataframe thead th {\n",
              "        text-align: right;\n",
              "    }\n",
              "</style>\n",
              "<table border=\"1\" class=\"dataframe\">\n",
              "  <thead>\n",
              "    <tr style=\"text-align: right;\">\n",
              "      <th></th>\n",
              "      <th>A</th>\n",
              "      <th>B</th>\n",
              "      <th>C</th>\n",
              "      <th>D</th>\n",
              "    </tr>\n",
              "  </thead>\n",
              "  <tbody>\n",
              "    <tr>\n",
              "      <th>2013-01-02</th>\n",
              "      <td>-1.159600</td>\n",
              "      <td>-0.596312</td>\n",
              "      <td>-0.517854</td>\n",
              "      <td>-1.532124</td>\n",
              "    </tr>\n",
              "    <tr>\n",
              "      <th>2013-01-03</th>\n",
              "      <td>-1.157696</td>\n",
              "      <td>1.429508</td>\n",
              "      <td>0.328579</td>\n",
              "      <td>0.673137</td>\n",
              "    </tr>\n",
              "  </tbody>\n",
              "</table>\n",
              "</div>"
            ],
            "text/plain": [
              "                   A         B         C         D\n",
              "2013-01-02 -1.159600 -0.596312 -0.517854 -1.532124\n",
              "2013-01-03 -1.157696  1.429508  0.328579  0.673137"
            ]
          },
          "execution_count": 44,
          "metadata": {},
          "output_type": "execute_result"
        }
      ],
      "source": [
        "df.iloc[1:3, :]"
      ]
    },
    {
      "cell_type": "markdown",
      "metadata": {
        "id": "ZnEj3yp8Ubee"
      },
      "source": [
        "For slicing columns explicitly:"
      ]
    },
    {
      "cell_type": "code",
      "execution_count": 45,
      "metadata": {
        "colab": {
          "base_uri": "https://localhost:8080/",
          "height": 237
        },
        "id": "X0dwlXv8Ueu6",
        "outputId": "1d9cfe34-3876-4aad-e9f8-58d173529f26"
      },
      "outputs": [
        {
          "data": {
            "text/html": [
              "<div>\n",
              "<style scoped>\n",
              "    .dataframe tbody tr th:only-of-type {\n",
              "        vertical-align: middle;\n",
              "    }\n",
              "\n",
              "    .dataframe tbody tr th {\n",
              "        vertical-align: top;\n",
              "    }\n",
              "\n",
              "    .dataframe thead th {\n",
              "        text-align: right;\n",
              "    }\n",
              "</style>\n",
              "<table border=\"1\" class=\"dataframe\">\n",
              "  <thead>\n",
              "    <tr style=\"text-align: right;\">\n",
              "      <th></th>\n",
              "      <th>B</th>\n",
              "      <th>C</th>\n",
              "    </tr>\n",
              "  </thead>\n",
              "  <tbody>\n",
              "    <tr>\n",
              "      <th>2013-01-01</th>\n",
              "      <td>-0.256175</td>\n",
              "      <td>0.841631</td>\n",
              "    </tr>\n",
              "    <tr>\n",
              "      <th>2013-01-02</th>\n",
              "      <td>-0.596312</td>\n",
              "      <td>-0.517854</td>\n",
              "    </tr>\n",
              "    <tr>\n",
              "      <th>2013-01-03</th>\n",
              "      <td>1.429508</td>\n",
              "      <td>0.328579</td>\n",
              "    </tr>\n",
              "    <tr>\n",
              "      <th>2013-01-04</th>\n",
              "      <td>-2.120064</td>\n",
              "      <td>-2.140497</td>\n",
              "    </tr>\n",
              "    <tr>\n",
              "      <th>2013-01-05</th>\n",
              "      <td>-0.970289</td>\n",
              "      <td>0.986115</td>\n",
              "    </tr>\n",
              "    <tr>\n",
              "      <th>2013-01-06</th>\n",
              "      <td>1.678414</td>\n",
              "      <td>2.103593</td>\n",
              "    </tr>\n",
              "  </tbody>\n",
              "</table>\n",
              "</div>"
            ],
            "text/plain": [
              "                   B         C\n",
              "2013-01-01 -0.256175  0.841631\n",
              "2013-01-02 -0.596312 -0.517854\n",
              "2013-01-03  1.429508  0.328579\n",
              "2013-01-04 -2.120064 -2.140497\n",
              "2013-01-05 -0.970289  0.986115\n",
              "2013-01-06  1.678414  2.103593"
            ]
          },
          "execution_count": 45,
          "metadata": {},
          "output_type": "execute_result"
        }
      ],
      "source": [
        "df.iloc[:, 1:3]"
      ]
    },
    {
      "cell_type": "markdown",
      "metadata": {
        "id": "v0_mMB9JyLHz"
      },
      "source": [
        "For getting a value explicitly:"
      ]
    },
    {
      "cell_type": "code",
      "execution_count": 46,
      "metadata": {
        "colab": {
          "base_uri": "https://localhost:8080/"
        },
        "id": "N0xKCDVqyMNN",
        "outputId": "07fc1dd5-516c-4d1e-bfb9-84601a26a4e0"
      },
      "outputs": [
        {
          "data": {
            "text/plain": [
              "np.float64(-0.5963116557415552)"
            ]
          },
          "execution_count": 46,
          "metadata": {},
          "output_type": "execute_result"
        }
      ],
      "source": [
        "df.iloc[1, 1]"
      ]
    },
    {
      "cell_type": "markdown",
      "metadata": {
        "id": "3573ukuCyPsE"
      },
      "source": [
        "For getting fast access to a scalar (equivalent to the prior method):"
      ]
    },
    {
      "cell_type": "code",
      "execution_count": 47,
      "metadata": {
        "colab": {
          "base_uri": "https://localhost:8080/"
        },
        "id": "MpOU3fKPyTzv",
        "outputId": "7c559c39-9714-4518-8275-f52160d47e34"
      },
      "outputs": [
        {
          "data": {
            "text/plain": [
              "np.float64(-0.5963116557415552)"
            ]
          },
          "execution_count": 47,
          "metadata": {},
          "output_type": "execute_result"
        }
      ],
      "source": [
        "df.iat[1, 1]"
      ]
    },
    {
      "cell_type": "markdown",
      "metadata": {
        "id": "GNNsfCebUoBI"
      },
      "source": [
        "### Boolean indexing"
      ]
    },
    {
      "cell_type": "markdown",
      "metadata": {
        "id": "SgC1QGqrUvPf"
      },
      "source": [
        "Using a single column’s values to select data:"
      ]
    },
    {
      "cell_type": "code",
      "execution_count": 49,
      "metadata": {
        "colab": {
          "base_uri": "https://localhost:8080/",
          "height": 81
        },
        "id": "vMxGqWCFUrEL",
        "outputId": "3631749d-fa35-4457-b065-41ef9301313c"
      },
      "outputs": [
        {
          "data": {
            "text/html": [
              "<div>\n",
              "<style scoped>\n",
              "    .dataframe tbody tr th:only-of-type {\n",
              "        vertical-align: middle;\n",
              "    }\n",
              "\n",
              "    .dataframe tbody tr th {\n",
              "        vertical-align: top;\n",
              "    }\n",
              "\n",
              "    .dataframe thead th {\n",
              "        text-align: right;\n",
              "    }\n",
              "</style>\n",
              "<table border=\"1\" class=\"dataframe\">\n",
              "  <thead>\n",
              "    <tr style=\"text-align: right;\">\n",
              "      <th></th>\n",
              "      <th>A</th>\n",
              "      <th>B</th>\n",
              "      <th>C</th>\n",
              "      <th>D</th>\n",
              "    </tr>\n",
              "  </thead>\n",
              "  <tbody>\n",
              "    <tr>\n",
              "      <th>2013-01-04</th>\n",
              "      <td>0.081456</td>\n",
              "      <td>-2.120064</td>\n",
              "      <td>-2.140497</td>\n",
              "      <td>-0.610302</td>\n",
              "    </tr>\n",
              "    <tr>\n",
              "      <th>2013-01-05</th>\n",
              "      <td>1.198142</td>\n",
              "      <td>-0.970289</td>\n",
              "      <td>0.986115</td>\n",
              "      <td>0.533231</td>\n",
              "    </tr>\n",
              "    <tr>\n",
              "      <th>2013-01-06</th>\n",
              "      <td>0.548376</td>\n",
              "      <td>1.678414</td>\n",
              "      <td>2.103593</td>\n",
              "      <td>0.517631</td>\n",
              "    </tr>\n",
              "  </tbody>\n",
              "</table>\n",
              "</div>"
            ],
            "text/plain": [
              "                   A         B         C         D\n",
              "2013-01-04  0.081456 -2.120064 -2.140497 -0.610302\n",
              "2013-01-05  1.198142 -0.970289  0.986115  0.533231\n",
              "2013-01-06  0.548376  1.678414  2.103593  0.517631"
            ]
          },
          "execution_count": 49,
          "metadata": {},
          "output_type": "execute_result"
        }
      ],
      "source": [
        "df[df[\"A\"] > 0]"
      ]
    },
    {
      "cell_type": "markdown",
      "metadata": {
        "id": "Vte681GdU74h"
      },
      "source": [
        "Selecting values from a DataFrame where a boolean condition is met:"
      ]
    },
    {
      "cell_type": "code",
      "execution_count": 50,
      "metadata": {
        "colab": {
          "base_uri": "https://localhost:8080/",
          "height": 237
        },
        "id": "yWYaeqxPVA4f",
        "outputId": "998bb666-986b-4b9e-c18f-4384be346f94"
      },
      "outputs": [
        {
          "data": {
            "text/html": [
              "<div>\n",
              "<style scoped>\n",
              "    .dataframe tbody tr th:only-of-type {\n",
              "        vertical-align: middle;\n",
              "    }\n",
              "\n",
              "    .dataframe tbody tr th {\n",
              "        vertical-align: top;\n",
              "    }\n",
              "\n",
              "    .dataframe thead th {\n",
              "        text-align: right;\n",
              "    }\n",
              "</style>\n",
              "<table border=\"1\" class=\"dataframe\">\n",
              "  <thead>\n",
              "    <tr style=\"text-align: right;\">\n",
              "      <th></th>\n",
              "      <th>A</th>\n",
              "      <th>B</th>\n",
              "      <th>C</th>\n",
              "      <th>D</th>\n",
              "    </tr>\n",
              "  </thead>\n",
              "  <tbody>\n",
              "    <tr>\n",
              "      <th>2013-01-01</th>\n",
              "      <td>NaN</td>\n",
              "      <td>NaN</td>\n",
              "      <td>0.841631</td>\n",
              "      <td>NaN</td>\n",
              "    </tr>\n",
              "    <tr>\n",
              "      <th>2013-01-02</th>\n",
              "      <td>NaN</td>\n",
              "      <td>NaN</td>\n",
              "      <td>NaN</td>\n",
              "      <td>NaN</td>\n",
              "    </tr>\n",
              "    <tr>\n",
              "      <th>2013-01-03</th>\n",
              "      <td>NaN</td>\n",
              "      <td>1.429508</td>\n",
              "      <td>0.328579</td>\n",
              "      <td>0.673137</td>\n",
              "    </tr>\n",
              "    <tr>\n",
              "      <th>2013-01-04</th>\n",
              "      <td>0.081456</td>\n",
              "      <td>NaN</td>\n",
              "      <td>NaN</td>\n",
              "      <td>NaN</td>\n",
              "    </tr>\n",
              "    <tr>\n",
              "      <th>2013-01-05</th>\n",
              "      <td>1.198142</td>\n",
              "      <td>NaN</td>\n",
              "      <td>0.986115</td>\n",
              "      <td>0.533231</td>\n",
              "    </tr>\n",
              "    <tr>\n",
              "      <th>2013-01-06</th>\n",
              "      <td>0.548376</td>\n",
              "      <td>1.678414</td>\n",
              "      <td>2.103593</td>\n",
              "      <td>0.517631</td>\n",
              "    </tr>\n",
              "  </tbody>\n",
              "</table>\n",
              "</div>"
            ],
            "text/plain": [
              "                   A         B         C         D\n",
              "2013-01-01       NaN       NaN  0.841631       NaN\n",
              "2013-01-02       NaN       NaN       NaN       NaN\n",
              "2013-01-03       NaN  1.429508  0.328579  0.673137\n",
              "2013-01-04  0.081456       NaN       NaN       NaN\n",
              "2013-01-05  1.198142       NaN  0.986115  0.533231\n",
              "2013-01-06  0.548376  1.678414  2.103593  0.517631"
            ]
          },
          "execution_count": 50,
          "metadata": {},
          "output_type": "execute_result"
        }
      ],
      "source": [
        "df[df > 0]"
      ]
    },
    {
      "cell_type": "markdown",
      "metadata": {
        "id": "XKS627_JVFsz"
      },
      "source": [
        "Using the <a target=\"_blank\" href=\"https://pandas.pydata.org/docs/reference/api/pandas.Series.isin.html#pandas.Series.isin\">`isin()`</a> method for filtering:"
      ]
    },
    {
      "cell_type": "code",
      "execution_count": 51,
      "metadata": {
        "colab": {
          "base_uri": "https://localhost:8080/",
          "height": 237
        },
        "id": "z6LLiBzqy1cz",
        "outputId": "0299fe05-aa82-4942-b0ed-367f71321230"
      },
      "outputs": [
        {
          "data": {
            "text/html": [
              "<div>\n",
              "<style scoped>\n",
              "    .dataframe tbody tr th:only-of-type {\n",
              "        vertical-align: middle;\n",
              "    }\n",
              "\n",
              "    .dataframe tbody tr th {\n",
              "        vertical-align: top;\n",
              "    }\n",
              "\n",
              "    .dataframe thead th {\n",
              "        text-align: right;\n",
              "    }\n",
              "</style>\n",
              "<table border=\"1\" class=\"dataframe\">\n",
              "  <thead>\n",
              "    <tr style=\"text-align: right;\">\n",
              "      <th></th>\n",
              "      <th>A</th>\n",
              "      <th>B</th>\n",
              "      <th>C</th>\n",
              "      <th>D</th>\n",
              "      <th>E</th>\n",
              "    </tr>\n",
              "  </thead>\n",
              "  <tbody>\n",
              "    <tr>\n",
              "      <th>2013-01-01</th>\n",
              "      <td>-0.269533</td>\n",
              "      <td>-0.256175</td>\n",
              "      <td>0.841631</td>\n",
              "      <td>-1.199992</td>\n",
              "      <td>one</td>\n",
              "    </tr>\n",
              "    <tr>\n",
              "      <th>2013-01-02</th>\n",
              "      <td>-1.159600</td>\n",
              "      <td>-0.596312</td>\n",
              "      <td>-0.517854</td>\n",
              "      <td>-1.532124</td>\n",
              "      <td>one</td>\n",
              "    </tr>\n",
              "    <tr>\n",
              "      <th>2013-01-03</th>\n",
              "      <td>-1.157696</td>\n",
              "      <td>1.429508</td>\n",
              "      <td>0.328579</td>\n",
              "      <td>0.673137</td>\n",
              "      <td>two</td>\n",
              "    </tr>\n",
              "    <tr>\n",
              "      <th>2013-01-04</th>\n",
              "      <td>0.081456</td>\n",
              "      <td>-2.120064</td>\n",
              "      <td>-2.140497</td>\n",
              "      <td>-0.610302</td>\n",
              "      <td>three</td>\n",
              "    </tr>\n",
              "    <tr>\n",
              "      <th>2013-01-05</th>\n",
              "      <td>1.198142</td>\n",
              "      <td>-0.970289</td>\n",
              "      <td>0.986115</td>\n",
              "      <td>0.533231</td>\n",
              "      <td>four</td>\n",
              "    </tr>\n",
              "    <tr>\n",
              "      <th>2013-01-06</th>\n",
              "      <td>0.548376</td>\n",
              "      <td>1.678414</td>\n",
              "      <td>2.103593</td>\n",
              "      <td>0.517631</td>\n",
              "      <td>three</td>\n",
              "    </tr>\n",
              "  </tbody>\n",
              "</table>\n",
              "</div>"
            ],
            "text/plain": [
              "                   A         B         C         D      E\n",
              "2013-01-01 -0.269533 -0.256175  0.841631 -1.199992    one\n",
              "2013-01-02 -1.159600 -0.596312 -0.517854 -1.532124    one\n",
              "2013-01-03 -1.157696  1.429508  0.328579  0.673137    two\n",
              "2013-01-04  0.081456 -2.120064 -2.140497 -0.610302  three\n",
              "2013-01-05  1.198142 -0.970289  0.986115  0.533231   four\n",
              "2013-01-06  0.548376  1.678414  2.103593  0.517631  three"
            ]
          },
          "execution_count": 51,
          "metadata": {},
          "output_type": "execute_result"
        }
      ],
      "source": [
        "df2 = df.copy()\n",
        "df2[\"E\"] = [\"one\", \"one\", \"two\", \"three\", \"four\", \"three\"]\n",
        "df2"
      ]
    },
    {
      "cell_type": "code",
      "execution_count": 52,
      "metadata": {
        "colab": {
          "base_uri": "https://localhost:8080/",
          "height": 112
        },
        "id": "6mRROJr9zCDv",
        "outputId": "64883874-4e99-43f8-db31-c6384da619cf"
      },
      "outputs": [
        {
          "data": {
            "text/html": [
              "<div>\n",
              "<style scoped>\n",
              "    .dataframe tbody tr th:only-of-type {\n",
              "        vertical-align: middle;\n",
              "    }\n",
              "\n",
              "    .dataframe tbody tr th {\n",
              "        vertical-align: top;\n",
              "    }\n",
              "\n",
              "    .dataframe thead th {\n",
              "        text-align: right;\n",
              "    }\n",
              "</style>\n",
              "<table border=\"1\" class=\"dataframe\">\n",
              "  <thead>\n",
              "    <tr style=\"text-align: right;\">\n",
              "      <th></th>\n",
              "      <th>A</th>\n",
              "      <th>B</th>\n",
              "      <th>C</th>\n",
              "      <th>D</th>\n",
              "      <th>E</th>\n",
              "    </tr>\n",
              "  </thead>\n",
              "  <tbody>\n",
              "    <tr>\n",
              "      <th>2013-01-03</th>\n",
              "      <td>-1.157696</td>\n",
              "      <td>1.429508</td>\n",
              "      <td>0.328579</td>\n",
              "      <td>0.673137</td>\n",
              "      <td>two</td>\n",
              "    </tr>\n",
              "    <tr>\n",
              "      <th>2013-01-05</th>\n",
              "      <td>1.198142</td>\n",
              "      <td>-0.970289</td>\n",
              "      <td>0.986115</td>\n",
              "      <td>0.533231</td>\n",
              "      <td>four</td>\n",
              "    </tr>\n",
              "  </tbody>\n",
              "</table>\n",
              "</div>"
            ],
            "text/plain": [
              "                   A         B         C         D     E\n",
              "2013-01-03 -1.157696  1.429508  0.328579  0.673137   two\n",
              "2013-01-05  1.198142 -0.970289  0.986115  0.533231  four"
            ]
          },
          "execution_count": 52,
          "metadata": {},
          "output_type": "execute_result"
        }
      ],
      "source": [
        "df2[df2[\"E\"].isin([\"two\", \"four\"])]"
      ]
    },
    {
      "cell_type": "markdown",
      "metadata": {
        "id": "nYpC6VW9zOw8"
      },
      "source": [
        "### Setting (new) Subsets"
      ]
    },
    {
      "cell_type": "markdown",
      "metadata": {
        "id": "BmB-kHWCzP4r"
      },
      "source": [
        "Setting a new column automatically aligns the data by the indexes:"
      ]
    },
    {
      "cell_type": "code",
      "execution_count": 53,
      "metadata": {
        "colab": {
          "base_uri": "https://localhost:8080/"
        },
        "id": "JtRM1lKjzXC6",
        "outputId": "c54822f2-14db-4b55-bef3-ba4205b723f3"
      },
      "outputs": [
        {
          "data": {
            "text/plain": [
              "2013-01-02    1\n",
              "2013-01-03    2\n",
              "2013-01-04    3\n",
              "2013-01-05    4\n",
              "2013-01-06    5\n",
              "2013-01-07    6\n",
              "Freq: D, dtype: int64"
            ]
          },
          "execution_count": 53,
          "metadata": {},
          "output_type": "execute_result"
        }
      ],
      "source": [
        "s1 = pd.Series([1, 2, 3, 4, 5, 6], index=pd.date_range(\"20130102\", periods=6))\n",
        "s1"
      ]
    },
    {
      "cell_type": "code",
      "execution_count": 54,
      "metadata": {
        "id": "_p1dI4f4zebk"
      },
      "outputs": [],
      "source": [
        "df[\"F\"] = s1"
      ]
    },
    {
      "cell_type": "markdown",
      "metadata": {
        "id": "2XvBpwSUzkIX"
      },
      "source": [
        "Setting values by label:"
      ]
    },
    {
      "cell_type": "code",
      "execution_count": 55,
      "metadata": {
        "id": "yiZSgu-wziEv"
      },
      "outputs": [],
      "source": [
        "df.at[dates[0], \"A\"] = 0"
      ]
    },
    {
      "cell_type": "markdown",
      "metadata": {
        "id": "owxsv0CfzrRJ"
      },
      "source": [
        "Setting values by position:"
      ]
    },
    {
      "cell_type": "code",
      "execution_count": 56,
      "metadata": {
        "id": "cqUU_vA2ztl_"
      },
      "outputs": [],
      "source": [
        "df.iat[0, 1] = 0"
      ]
    },
    {
      "cell_type": "markdown",
      "metadata": {
        "id": "LzqB_Vdkzxu3"
      },
      "source": [
        "Setting by assigning with a NumPy array:"
      ]
    },
    {
      "cell_type": "code",
      "execution_count": 57,
      "metadata": {
        "colab": {
          "base_uri": "https://localhost:8080/"
        },
        "id": "LC79kyj5z0Ho",
        "outputId": "ee437b6c-21d0-4897-bff1-b8d629058e13"
      },
      "outputs": [],
      "source": [
        "df.loc[:, \"D\"] = np.array([5] * len(df))"
      ]
    },
    {
      "cell_type": "markdown",
      "metadata": {
        "id": "Ns0SHn9Nz6qD"
      },
      "source": [
        "The result of the prior setting operations:"
      ]
    },
    {
      "cell_type": "code",
      "execution_count": 58,
      "metadata": {
        "colab": {
          "base_uri": "https://localhost:8080/",
          "height": 237
        },
        "id": "J5VHRC-bz7uV",
        "outputId": "ec76ca19-856f-46b4-9da9-4ec31e76497f"
      },
      "outputs": [
        {
          "data": {
            "text/html": [
              "<div>\n",
              "<style scoped>\n",
              "    .dataframe tbody tr th:only-of-type {\n",
              "        vertical-align: middle;\n",
              "    }\n",
              "\n",
              "    .dataframe tbody tr th {\n",
              "        vertical-align: top;\n",
              "    }\n",
              "\n",
              "    .dataframe thead th {\n",
              "        text-align: right;\n",
              "    }\n",
              "</style>\n",
              "<table border=\"1\" class=\"dataframe\">\n",
              "  <thead>\n",
              "    <tr style=\"text-align: right;\">\n",
              "      <th></th>\n",
              "      <th>A</th>\n",
              "      <th>B</th>\n",
              "      <th>C</th>\n",
              "      <th>D</th>\n",
              "      <th>F</th>\n",
              "    </tr>\n",
              "  </thead>\n",
              "  <tbody>\n",
              "    <tr>\n",
              "      <th>2013-01-01</th>\n",
              "      <td>0.000000</td>\n",
              "      <td>0.000000</td>\n",
              "      <td>0.841631</td>\n",
              "      <td>5.0</td>\n",
              "      <td>NaN</td>\n",
              "    </tr>\n",
              "    <tr>\n",
              "      <th>2013-01-02</th>\n",
              "      <td>-1.159600</td>\n",
              "      <td>-0.596312</td>\n",
              "      <td>-0.517854</td>\n",
              "      <td>5.0</td>\n",
              "      <td>1.0</td>\n",
              "    </tr>\n",
              "    <tr>\n",
              "      <th>2013-01-03</th>\n",
              "      <td>-1.157696</td>\n",
              "      <td>1.429508</td>\n",
              "      <td>0.328579</td>\n",
              "      <td>5.0</td>\n",
              "      <td>2.0</td>\n",
              "    </tr>\n",
              "    <tr>\n",
              "      <th>2013-01-04</th>\n",
              "      <td>0.081456</td>\n",
              "      <td>-2.120064</td>\n",
              "      <td>-2.140497</td>\n",
              "      <td>5.0</td>\n",
              "      <td>3.0</td>\n",
              "    </tr>\n",
              "    <tr>\n",
              "      <th>2013-01-05</th>\n",
              "      <td>1.198142</td>\n",
              "      <td>-0.970289</td>\n",
              "      <td>0.986115</td>\n",
              "      <td>5.0</td>\n",
              "      <td>4.0</td>\n",
              "    </tr>\n",
              "    <tr>\n",
              "      <th>2013-01-06</th>\n",
              "      <td>0.548376</td>\n",
              "      <td>1.678414</td>\n",
              "      <td>2.103593</td>\n",
              "      <td>5.0</td>\n",
              "      <td>5.0</td>\n",
              "    </tr>\n",
              "  </tbody>\n",
              "</table>\n",
              "</div>"
            ],
            "text/plain": [
              "                   A         B         C    D    F\n",
              "2013-01-01  0.000000  0.000000  0.841631  5.0  NaN\n",
              "2013-01-02 -1.159600 -0.596312 -0.517854  5.0  1.0\n",
              "2013-01-03 -1.157696  1.429508  0.328579  5.0  2.0\n",
              "2013-01-04  0.081456 -2.120064 -2.140497  5.0  3.0\n",
              "2013-01-05  1.198142 -0.970289  0.986115  5.0  4.0\n",
              "2013-01-06  0.548376  1.678414  2.103593  5.0  5.0"
            ]
          },
          "execution_count": 58,
          "metadata": {},
          "output_type": "execute_result"
        }
      ],
      "source": [
        "df"
      ]
    },
    {
      "cell_type": "markdown",
      "metadata": {
        "id": "3Q1mC2Ef0LuW"
      },
      "source": [
        "A `where` operation with setting:"
      ]
    },
    {
      "cell_type": "code",
      "execution_count": 59,
      "metadata": {
        "colab": {
          "base_uri": "https://localhost:8080/",
          "height": 237
        },
        "id": "CxqdBrMQ0Nv8",
        "outputId": "85a7bc8b-a115-49c7-c67f-c1ef3551bc26"
      },
      "outputs": [
        {
          "data": {
            "text/html": [
              "<div>\n",
              "<style scoped>\n",
              "    .dataframe tbody tr th:only-of-type {\n",
              "        vertical-align: middle;\n",
              "    }\n",
              "\n",
              "    .dataframe tbody tr th {\n",
              "        vertical-align: top;\n",
              "    }\n",
              "\n",
              "    .dataframe thead th {\n",
              "        text-align: right;\n",
              "    }\n",
              "</style>\n",
              "<table border=\"1\" class=\"dataframe\">\n",
              "  <thead>\n",
              "    <tr style=\"text-align: right;\">\n",
              "      <th></th>\n",
              "      <th>A</th>\n",
              "      <th>B</th>\n",
              "      <th>C</th>\n",
              "      <th>D</th>\n",
              "      <th>F</th>\n",
              "    </tr>\n",
              "  </thead>\n",
              "  <tbody>\n",
              "    <tr>\n",
              "      <th>2013-01-01</th>\n",
              "      <td>0.000000</td>\n",
              "      <td>0.000000</td>\n",
              "      <td>-0.841631</td>\n",
              "      <td>-5.0</td>\n",
              "      <td>NaN</td>\n",
              "    </tr>\n",
              "    <tr>\n",
              "      <th>2013-01-02</th>\n",
              "      <td>-1.159600</td>\n",
              "      <td>-0.596312</td>\n",
              "      <td>-0.517854</td>\n",
              "      <td>-5.0</td>\n",
              "      <td>-1.0</td>\n",
              "    </tr>\n",
              "    <tr>\n",
              "      <th>2013-01-03</th>\n",
              "      <td>-1.157696</td>\n",
              "      <td>-1.429508</td>\n",
              "      <td>-0.328579</td>\n",
              "      <td>-5.0</td>\n",
              "      <td>-2.0</td>\n",
              "    </tr>\n",
              "    <tr>\n",
              "      <th>2013-01-04</th>\n",
              "      <td>-0.081456</td>\n",
              "      <td>-2.120064</td>\n",
              "      <td>-2.140497</td>\n",
              "      <td>-5.0</td>\n",
              "      <td>-3.0</td>\n",
              "    </tr>\n",
              "    <tr>\n",
              "      <th>2013-01-05</th>\n",
              "      <td>-1.198142</td>\n",
              "      <td>-0.970289</td>\n",
              "      <td>-0.986115</td>\n",
              "      <td>-5.0</td>\n",
              "      <td>-4.0</td>\n",
              "    </tr>\n",
              "    <tr>\n",
              "      <th>2013-01-06</th>\n",
              "      <td>-0.548376</td>\n",
              "      <td>-1.678414</td>\n",
              "      <td>-2.103593</td>\n",
              "      <td>-5.0</td>\n",
              "      <td>-5.0</td>\n",
              "    </tr>\n",
              "  </tbody>\n",
              "</table>\n",
              "</div>"
            ],
            "text/plain": [
              "                   A         B         C    D    F\n",
              "2013-01-01  0.000000  0.000000 -0.841631 -5.0  NaN\n",
              "2013-01-02 -1.159600 -0.596312 -0.517854 -5.0 -1.0\n",
              "2013-01-03 -1.157696 -1.429508 -0.328579 -5.0 -2.0\n",
              "2013-01-04 -0.081456 -2.120064 -2.140497 -5.0 -3.0\n",
              "2013-01-05 -1.198142 -0.970289 -0.986115 -5.0 -4.0\n",
              "2013-01-06 -0.548376 -1.678414 -2.103593 -5.0 -5.0"
            ]
          },
          "execution_count": 59,
          "metadata": {},
          "output_type": "execute_result"
        }
      ],
      "source": [
        "df2 = df.copy()\n",
        "df2[df2 > 0] = -df2\n",
        "df2"
      ]
    },
    {
      "cell_type": "markdown",
      "metadata": {
        "id": "3xmyEmelV1nH"
      },
      "source": [
        "---   \n",
        "## Missing data   \n",
        "\n",
        "Pandas uses different sentinel values to represent a missing (also referred to as **NA**) depending on the data type.\n",
        "\n",
        "*see the [Missing Data](https://pandas.pydata.org/docs/user_guide/missing_data.html#missing-data) section*"
      ]
    },
    {
      "cell_type": "markdown",
      "metadata": {
        "id": "RSc_kaYvWPGc"
      },
      "source": [
        "pandas primarily uses the `np.nan` to represent missing data. It is by default not included in computations.\n",
        "\n",
        "Reindexing allows you to change/add/delete the index on a specified axis. This returns a copy of the data:"
      ]
    },
    {
      "cell_type": "code",
      "execution_count": 60,
      "metadata": {
        "colab": {
          "base_uri": "https://localhost:8080/",
          "height": 175
        },
        "id": "7cMJ8FInWfuP",
        "outputId": "ec6a9b6b-bf58-4517-abd4-590e98965e18"
      },
      "outputs": [
        {
          "data": {
            "text/html": [
              "<div>\n",
              "<style scoped>\n",
              "    .dataframe tbody tr th:only-of-type {\n",
              "        vertical-align: middle;\n",
              "    }\n",
              "\n",
              "    .dataframe tbody tr th {\n",
              "        vertical-align: top;\n",
              "    }\n",
              "\n",
              "    .dataframe thead th {\n",
              "        text-align: right;\n",
              "    }\n",
              "</style>\n",
              "<table border=\"1\" class=\"dataframe\">\n",
              "  <thead>\n",
              "    <tr style=\"text-align: right;\">\n",
              "      <th></th>\n",
              "      <th>A</th>\n",
              "      <th>B</th>\n",
              "      <th>C</th>\n",
              "      <th>D</th>\n",
              "      <th>F</th>\n",
              "      <th>E</th>\n",
              "    </tr>\n",
              "  </thead>\n",
              "  <tbody>\n",
              "    <tr>\n",
              "      <th>2013-01-01</th>\n",
              "      <td>0.000000</td>\n",
              "      <td>0.000000</td>\n",
              "      <td>0.841631</td>\n",
              "      <td>5.0</td>\n",
              "      <td>NaN</td>\n",
              "      <td>1.0</td>\n",
              "    </tr>\n",
              "    <tr>\n",
              "      <th>2013-01-02</th>\n",
              "      <td>-1.159600</td>\n",
              "      <td>-0.596312</td>\n",
              "      <td>-0.517854</td>\n",
              "      <td>5.0</td>\n",
              "      <td>1.0</td>\n",
              "      <td>1.0</td>\n",
              "    </tr>\n",
              "    <tr>\n",
              "      <th>2013-01-03</th>\n",
              "      <td>-1.157696</td>\n",
              "      <td>1.429508</td>\n",
              "      <td>0.328579</td>\n",
              "      <td>5.0</td>\n",
              "      <td>2.0</td>\n",
              "      <td>NaN</td>\n",
              "    </tr>\n",
              "    <tr>\n",
              "      <th>2013-01-04</th>\n",
              "      <td>0.081456</td>\n",
              "      <td>-2.120064</td>\n",
              "      <td>-2.140497</td>\n",
              "      <td>5.0</td>\n",
              "      <td>3.0</td>\n",
              "      <td>NaN</td>\n",
              "    </tr>\n",
              "  </tbody>\n",
              "</table>\n",
              "</div>"
            ],
            "text/plain": [
              "                   A         B         C    D    F    E\n",
              "2013-01-01  0.000000  0.000000  0.841631  5.0  NaN  1.0\n",
              "2013-01-02 -1.159600 -0.596312 -0.517854  5.0  1.0  1.0\n",
              "2013-01-03 -1.157696  1.429508  0.328579  5.0  2.0  NaN\n",
              "2013-01-04  0.081456 -2.120064 -2.140497  5.0  3.0  NaN"
            ]
          },
          "execution_count": 60,
          "metadata": {},
          "output_type": "execute_result"
        }
      ],
      "source": [
        "df1 = df.reindex(index = dates[0:4], columns = list(df.columns) + ['E'])\n",
        "df1.loc[dates[0] : dates[1], 'E'] = 1\n",
        "df1"
      ]
    },
    {
      "cell_type": "markdown",
      "metadata": {
        "id": "5hv9ar5HW7P3"
      },
      "source": [
        "[`DataFrame.dropna()`](https://pandas.pydata.org/docs/reference/api/pandas.DataFrame.dropna.html#pandas.DataFrame.dropna) drops any rows that have missing data:\n",
        "\n"
      ]
    },
    {
      "cell_type": "code",
      "execution_count": 61,
      "metadata": {
        "colab": {
          "base_uri": "https://localhost:8080/",
          "height": 81
        },
        "id": "2GIPHtCNW-Dw",
        "outputId": "8bb2bec1-c1f3-4874-a4e8-1ec8b3f815e5"
      },
      "outputs": [
        {
          "data": {
            "text/html": [
              "<div>\n",
              "<style scoped>\n",
              "    .dataframe tbody tr th:only-of-type {\n",
              "        vertical-align: middle;\n",
              "    }\n",
              "\n",
              "    .dataframe tbody tr th {\n",
              "        vertical-align: top;\n",
              "    }\n",
              "\n",
              "    .dataframe thead th {\n",
              "        text-align: right;\n",
              "    }\n",
              "</style>\n",
              "<table border=\"1\" class=\"dataframe\">\n",
              "  <thead>\n",
              "    <tr style=\"text-align: right;\">\n",
              "      <th></th>\n",
              "      <th>A</th>\n",
              "      <th>B</th>\n",
              "      <th>C</th>\n",
              "      <th>D</th>\n",
              "      <th>F</th>\n",
              "      <th>E</th>\n",
              "    </tr>\n",
              "  </thead>\n",
              "  <tbody>\n",
              "    <tr>\n",
              "      <th>2013-01-02</th>\n",
              "      <td>-1.1596</td>\n",
              "      <td>-0.596312</td>\n",
              "      <td>-0.517854</td>\n",
              "      <td>5.0</td>\n",
              "      <td>1.0</td>\n",
              "      <td>1.0</td>\n",
              "    </tr>\n",
              "  </tbody>\n",
              "</table>\n",
              "</div>"
            ],
            "text/plain": [
              "                 A         B         C    D    F    E\n",
              "2013-01-02 -1.1596 -0.596312 -0.517854  5.0  1.0  1.0"
            ]
          },
          "execution_count": 61,
          "metadata": {},
          "output_type": "execute_result"
        }
      ],
      "source": [
        "df1.dropna(how='any')"
      ]
    },
    {
      "cell_type": "markdown",
      "metadata": {
        "id": "ngkcJsvTXF_9"
      },
      "source": [
        "[`DataFrame.fillna()`](https://pandas.pydata.org/docs/reference/api/pandas.DataFrame.fillna.html#pandas.DataFrame.fillna) fills missing data:"
      ]
    },
    {
      "cell_type": "code",
      "execution_count": 62,
      "metadata": {
        "colab": {
          "base_uri": "https://localhost:8080/",
          "height": 175
        },
        "id": "vQCm-C51XIW-",
        "outputId": "3ed0fa6f-d22a-44f1-d59c-aaba28c7824e"
      },
      "outputs": [
        {
          "data": {
            "text/html": [
              "<div>\n",
              "<style scoped>\n",
              "    .dataframe tbody tr th:only-of-type {\n",
              "        vertical-align: middle;\n",
              "    }\n",
              "\n",
              "    .dataframe tbody tr th {\n",
              "        vertical-align: top;\n",
              "    }\n",
              "\n",
              "    .dataframe thead th {\n",
              "        text-align: right;\n",
              "    }\n",
              "</style>\n",
              "<table border=\"1\" class=\"dataframe\">\n",
              "  <thead>\n",
              "    <tr style=\"text-align: right;\">\n",
              "      <th></th>\n",
              "      <th>A</th>\n",
              "      <th>B</th>\n",
              "      <th>C</th>\n",
              "      <th>D</th>\n",
              "      <th>F</th>\n",
              "      <th>E</th>\n",
              "    </tr>\n",
              "  </thead>\n",
              "  <tbody>\n",
              "    <tr>\n",
              "      <th>2013-01-01</th>\n",
              "      <td>0.000000</td>\n",
              "      <td>0.000000</td>\n",
              "      <td>0.841631</td>\n",
              "      <td>5.0</td>\n",
              "      <td>5.0</td>\n",
              "      <td>1.0</td>\n",
              "    </tr>\n",
              "    <tr>\n",
              "      <th>2013-01-02</th>\n",
              "      <td>-1.159600</td>\n",
              "      <td>-0.596312</td>\n",
              "      <td>-0.517854</td>\n",
              "      <td>5.0</td>\n",
              "      <td>1.0</td>\n",
              "      <td>1.0</td>\n",
              "    </tr>\n",
              "    <tr>\n",
              "      <th>2013-01-03</th>\n",
              "      <td>-1.157696</td>\n",
              "      <td>1.429508</td>\n",
              "      <td>0.328579</td>\n",
              "      <td>5.0</td>\n",
              "      <td>2.0</td>\n",
              "      <td>5.0</td>\n",
              "    </tr>\n",
              "    <tr>\n",
              "      <th>2013-01-04</th>\n",
              "      <td>0.081456</td>\n",
              "      <td>-2.120064</td>\n",
              "      <td>-2.140497</td>\n",
              "      <td>5.0</td>\n",
              "      <td>3.0</td>\n",
              "      <td>5.0</td>\n",
              "    </tr>\n",
              "  </tbody>\n",
              "</table>\n",
              "</div>"
            ],
            "text/plain": [
              "                   A         B         C    D    F    E\n",
              "2013-01-01  0.000000  0.000000  0.841631  5.0  5.0  1.0\n",
              "2013-01-02 -1.159600 -0.596312 -0.517854  5.0  1.0  1.0\n",
              "2013-01-03 -1.157696  1.429508  0.328579  5.0  2.0  5.0\n",
              "2013-01-04  0.081456 -2.120064 -2.140497  5.0  3.0  5.0"
            ]
          },
          "execution_count": 62,
          "metadata": {},
          "output_type": "execute_result"
        }
      ],
      "source": [
        "df1.fillna(value=5)"
      ]
    },
    {
      "cell_type": "markdown",
      "metadata": {
        "id": "FQZ6G8GAXQcE"
      },
      "source": [
        "[`isna()`](https://pandas.pydata.org/docs/reference/api/pandas.isna.html#pandas.isna) gets the boolean mask where values are `nan`:"
      ]
    },
    {
      "cell_type": "code",
      "execution_count": 63,
      "metadata": {
        "colab": {
          "base_uri": "https://localhost:8080/",
          "height": 237
        },
        "id": "IQHuiz0kEbGi",
        "outputId": "e5569fb8-351d-4f5b-c3be-1d728deeedb1"
      },
      "outputs": [
        {
          "data": {
            "text/html": [
              "<div>\n",
              "<style scoped>\n",
              "    .dataframe tbody tr th:only-of-type {\n",
              "        vertical-align: middle;\n",
              "    }\n",
              "\n",
              "    .dataframe tbody tr th {\n",
              "        vertical-align: top;\n",
              "    }\n",
              "\n",
              "    .dataframe thead th {\n",
              "        text-align: right;\n",
              "    }\n",
              "</style>\n",
              "<table border=\"1\" class=\"dataframe\">\n",
              "  <thead>\n",
              "    <tr style=\"text-align: right;\">\n",
              "      <th></th>\n",
              "      <th>A</th>\n",
              "      <th>B</th>\n",
              "      <th>C</th>\n",
              "      <th>D</th>\n",
              "      <th>F</th>\n",
              "    </tr>\n",
              "  </thead>\n",
              "  <tbody>\n",
              "    <tr>\n",
              "      <th>2013-01-01</th>\n",
              "      <td>False</td>\n",
              "      <td>False</td>\n",
              "      <td>False</td>\n",
              "      <td>False</td>\n",
              "      <td>True</td>\n",
              "    </tr>\n",
              "    <tr>\n",
              "      <th>2013-01-02</th>\n",
              "      <td>False</td>\n",
              "      <td>False</td>\n",
              "      <td>False</td>\n",
              "      <td>False</td>\n",
              "      <td>False</td>\n",
              "    </tr>\n",
              "    <tr>\n",
              "      <th>2013-01-03</th>\n",
              "      <td>False</td>\n",
              "      <td>False</td>\n",
              "      <td>False</td>\n",
              "      <td>False</td>\n",
              "      <td>False</td>\n",
              "    </tr>\n",
              "    <tr>\n",
              "      <th>2013-01-04</th>\n",
              "      <td>False</td>\n",
              "      <td>False</td>\n",
              "      <td>False</td>\n",
              "      <td>False</td>\n",
              "      <td>False</td>\n",
              "    </tr>\n",
              "    <tr>\n",
              "      <th>2013-01-05</th>\n",
              "      <td>False</td>\n",
              "      <td>False</td>\n",
              "      <td>False</td>\n",
              "      <td>False</td>\n",
              "      <td>False</td>\n",
              "    </tr>\n",
              "    <tr>\n",
              "      <th>2013-01-06</th>\n",
              "      <td>False</td>\n",
              "      <td>False</td>\n",
              "      <td>False</td>\n",
              "      <td>False</td>\n",
              "      <td>False</td>\n",
              "    </tr>\n",
              "  </tbody>\n",
              "</table>\n",
              "</div>"
            ],
            "text/plain": [
              "                A      B      C      D      F\n",
              "2013-01-01  False  False  False  False   True\n",
              "2013-01-02  False  False  False  False  False\n",
              "2013-01-03  False  False  False  False  False\n",
              "2013-01-04  False  False  False  False  False\n",
              "2013-01-05  False  False  False  False  False\n",
              "2013-01-06  False  False  False  False  False"
            ]
          },
          "execution_count": 63,
          "metadata": {},
          "output_type": "execute_result"
        }
      ],
      "source": [
        "pd.isna(df)"
      ]
    },
    {
      "cell_type": "markdown",
      "metadata": {
        "id": "HCcnDOKXE9gb"
      },
      "source": [
        "---  \n",
        "## Operations   \n",
        "\n",
        "Series and DataFrame have the binary comparison methods `eq`, `ne`, `lt`, `gt`, `le`, and `ge` whose behavior is analogous to the well known binary arithmetic operations.\n",
        "\n",
        "But there are quite a bunch of helpful operations on`Series`or `Dataframe`objects in pandas.\n",
        "\n",
        "*see the basic section on [Binary Ops](https://pandas.pydata.org/docs/user_guide/basics.html#basics-binop)."
      ]
    },
    {
      "cell_type": "markdown",
      "metadata": {
        "id": "vXKB0vzdFAI5"
      },
      "source": [
        "### Descriptive Statistics\n",
        "\n",
        "> Note: Operations in general **exclude missing data**.\n",
        "\n",
        "Performing a *descriptive statistic*:\n"
      ]
    },
    {
      "cell_type": "code",
      "execution_count": 64,
      "metadata": {
        "colab": {
          "base_uri": "https://localhost:8080/",
          "height": 206
        },
        "id": "AjAwnhpRQAhY",
        "outputId": "4ebe691d-d7c2-4b0c-da4e-5ffe225ad369"
      },
      "outputs": [
        {
          "data": {
            "text/html": [
              "<div>\n",
              "<style scoped>\n",
              "    .dataframe tbody tr th:only-of-type {\n",
              "        vertical-align: middle;\n",
              "    }\n",
              "\n",
              "    .dataframe tbody tr th {\n",
              "        vertical-align: top;\n",
              "    }\n",
              "\n",
              "    .dataframe thead th {\n",
              "        text-align: right;\n",
              "    }\n",
              "</style>\n",
              "<table border=\"1\" class=\"dataframe\">\n",
              "  <thead>\n",
              "    <tr style=\"text-align: right;\">\n",
              "      <th></th>\n",
              "      <th>A</th>\n",
              "      <th>B</th>\n",
              "      <th>C</th>\n",
              "      <th>D</th>\n",
              "      <th>F</th>\n",
              "    </tr>\n",
              "  </thead>\n",
              "  <tbody>\n",
              "    <tr>\n",
              "      <th>2013-01-01</th>\n",
              "      <td>0.000000</td>\n",
              "      <td>0.000000</td>\n",
              "      <td>0.841631</td>\n",
              "      <td>5.0</td>\n",
              "      <td>NaN</td>\n",
              "    </tr>\n",
              "    <tr>\n",
              "      <th>2013-01-02</th>\n",
              "      <td>-1.159600</td>\n",
              "      <td>-0.596312</td>\n",
              "      <td>-0.517854</td>\n",
              "      <td>5.0</td>\n",
              "      <td>1.0</td>\n",
              "    </tr>\n",
              "    <tr>\n",
              "      <th>2013-01-03</th>\n",
              "      <td>-1.157696</td>\n",
              "      <td>1.429508</td>\n",
              "      <td>0.328579</td>\n",
              "      <td>5.0</td>\n",
              "      <td>2.0</td>\n",
              "    </tr>\n",
              "    <tr>\n",
              "      <th>2013-01-04</th>\n",
              "      <td>0.081456</td>\n",
              "      <td>-2.120064</td>\n",
              "      <td>-2.140497</td>\n",
              "      <td>5.0</td>\n",
              "      <td>3.0</td>\n",
              "    </tr>\n",
              "    <tr>\n",
              "      <th>2013-01-05</th>\n",
              "      <td>1.198142</td>\n",
              "      <td>-0.970289</td>\n",
              "      <td>0.986115</td>\n",
              "      <td>5.0</td>\n",
              "      <td>4.0</td>\n",
              "    </tr>\n",
              "  </tbody>\n",
              "</table>\n",
              "</div>"
            ],
            "text/plain": [
              "                   A         B         C    D    F\n",
              "2013-01-01  0.000000  0.000000  0.841631  5.0  NaN\n",
              "2013-01-02 -1.159600 -0.596312 -0.517854  5.0  1.0\n",
              "2013-01-03 -1.157696  1.429508  0.328579  5.0  2.0\n",
              "2013-01-04  0.081456 -2.120064 -2.140497  5.0  3.0\n",
              "2013-01-05  1.198142 -0.970289  0.986115  5.0  4.0"
            ]
          },
          "execution_count": 64,
          "metadata": {},
          "output_type": "execute_result"
        }
      ],
      "source": [
        "df.head()"
      ]
    },
    {
      "cell_type": "code",
      "execution_count": 65,
      "metadata": {
        "colab": {
          "base_uri": "https://localhost:8080/"
        },
        "id": "mwEuBkOuFDp5",
        "outputId": "65ecae76-136f-49c9-eb4a-248ab2944038"
      },
      "outputs": [
        {
          "data": {
            "text/plain": [
              "A   -0.081554\n",
              "B   -0.096457\n",
              "C    0.266928\n",
              "D    5.000000\n",
              "F    3.000000\n",
              "dtype: float64"
            ]
          },
          "execution_count": 65,
          "metadata": {},
          "output_type": "execute_result"
        }
      ],
      "source": [
        "df.mean()"
      ]
    },
    {
      "cell_type": "code",
      "execution_count": 66,
      "metadata": {
        "colab": {
          "base_uri": "https://localhost:8080/",
          "height": 300
        },
        "id": "t_sWapEvFFwe",
        "outputId": "f0a27a8b-becb-4d1f-93a6-79775aa11b36"
      },
      "outputs": [
        {
          "data": {
            "text/html": [
              "<div>\n",
              "<style scoped>\n",
              "    .dataframe tbody tr th:only-of-type {\n",
              "        vertical-align: middle;\n",
              "    }\n",
              "\n",
              "    .dataframe tbody tr th {\n",
              "        vertical-align: top;\n",
              "    }\n",
              "\n",
              "    .dataframe thead th {\n",
              "        text-align: right;\n",
              "    }\n",
              "</style>\n",
              "<table border=\"1\" class=\"dataframe\">\n",
              "  <thead>\n",
              "    <tr style=\"text-align: right;\">\n",
              "      <th></th>\n",
              "      <th>A</th>\n",
              "      <th>B</th>\n",
              "      <th>C</th>\n",
              "      <th>D</th>\n",
              "      <th>F</th>\n",
              "    </tr>\n",
              "  </thead>\n",
              "  <tbody>\n",
              "    <tr>\n",
              "      <th>count</th>\n",
              "      <td>6.000000</td>\n",
              "      <td>6.000000</td>\n",
              "      <td>6.000000</td>\n",
              "      <td>6.0</td>\n",
              "      <td>5.000000</td>\n",
              "    </tr>\n",
              "    <tr>\n",
              "      <th>mean</th>\n",
              "      <td>-0.081554</td>\n",
              "      <td>-0.096457</td>\n",
              "      <td>0.266928</td>\n",
              "      <td>5.0</td>\n",
              "      <td>3.000000</td>\n",
              "    </tr>\n",
              "    <tr>\n",
              "      <th>std</th>\n",
              "      <td>0.936795</td>\n",
              "      <td>1.455779</td>\n",
              "      <td>1.458508</td>\n",
              "      <td>0.0</td>\n",
              "      <td>1.581139</td>\n",
              "    </tr>\n",
              "    <tr>\n",
              "      <th>min</th>\n",
              "      <td>-1.159600</td>\n",
              "      <td>-2.120064</td>\n",
              "      <td>-2.140497</td>\n",
              "      <td>5.0</td>\n",
              "      <td>1.000000</td>\n",
              "    </tr>\n",
              "    <tr>\n",
              "      <th>25%</th>\n",
              "      <td>-0.868272</td>\n",
              "      <td>-0.876794</td>\n",
              "      <td>-0.306246</td>\n",
              "      <td>5.0</td>\n",
              "      <td>2.000000</td>\n",
              "    </tr>\n",
              "    <tr>\n",
              "      <th>50%</th>\n",
              "      <td>0.040728</td>\n",
              "      <td>-0.298156</td>\n",
              "      <td>0.585105</td>\n",
              "      <td>5.0</td>\n",
              "      <td>3.000000</td>\n",
              "    </tr>\n",
              "    <tr>\n",
              "      <th>75%</th>\n",
              "      <td>0.431646</td>\n",
              "      <td>1.072131</td>\n",
              "      <td>0.949994</td>\n",
              "      <td>5.0</td>\n",
              "      <td>4.000000</td>\n",
              "    </tr>\n",
              "    <tr>\n",
              "      <th>max</th>\n",
              "      <td>1.198142</td>\n",
              "      <td>1.678414</td>\n",
              "      <td>2.103593</td>\n",
              "      <td>5.0</td>\n",
              "      <td>5.000000</td>\n",
              "    </tr>\n",
              "  </tbody>\n",
              "</table>\n",
              "</div>"
            ],
            "text/plain": [
              "              A         B         C    D         F\n",
              "count  6.000000  6.000000  6.000000  6.0  5.000000\n",
              "mean  -0.081554 -0.096457  0.266928  5.0  3.000000\n",
              "std    0.936795  1.455779  1.458508  0.0  1.581139\n",
              "min   -1.159600 -2.120064 -2.140497  5.0  1.000000\n",
              "25%   -0.868272 -0.876794 -0.306246  5.0  2.000000\n",
              "50%    0.040728 -0.298156  0.585105  5.0  3.000000\n",
              "75%    0.431646  1.072131  0.949994  5.0  4.000000\n",
              "max    1.198142  1.678414  2.103593  5.0  5.000000"
            ]
          },
          "execution_count": 66,
          "metadata": {},
          "output_type": "execute_result"
        }
      ],
      "source": [
        "df.describe()"
      ]
    },
    {
      "cell_type": "markdown",
      "metadata": {
        "id": "DP5b-E4qLahT"
      },
      "source": [
        "### Histogramming\n",
        "\n",
        "See more at [Histogramming and Discretization](https://pandas.pydata.org/docs/user_guide/basics.html#basics-discretization)."
      ]
    },
    {
      "cell_type": "code",
      "execution_count": 68,
      "metadata": {
        "colab": {
          "base_uri": "https://localhost:8080/"
        },
        "id": "g9Zmh-6ZLlmn",
        "outputId": "9d6c94ec-c4e1-46fc-da47-ca1d0a5e79b6"
      },
      "outputs": [
        {
          "data": {
            "text/plain": [
              "0    3\n",
              "1    1\n",
              "2    3\n",
              "3    3\n",
              "4    6\n",
              "5    2\n",
              "6    3\n",
              "7    4\n",
              "8    3\n",
              "9    3\n",
              "dtype: int32"
            ]
          },
          "execution_count": 68,
          "metadata": {},
          "output_type": "execute_result"
        }
      ],
      "source": [
        "s = pd.Series(np.random.randint(0, 7, size=10))\n",
        "s"
      ]
    },
    {
      "cell_type": "code",
      "execution_count": 69,
      "metadata": {
        "colab": {
          "base_uri": "https://localhost:8080/"
        },
        "id": "6KQ_XLUtLsFz",
        "outputId": "120ffda8-5f30-4dcd-ec29-e8ee6244ceb1"
      },
      "outputs": [
        {
          "data": {
            "text/plain": [
              "3    6\n",
              "1    1\n",
              "6    1\n",
              "2    1\n",
              "4    1\n",
              "Name: count, dtype: int64"
            ]
          },
          "execution_count": 69,
          "metadata": {},
          "output_type": "execute_result"
        }
      ],
      "source": [
        "s.value_counts()"
      ]
    },
    {
      "cell_type": "markdown",
      "metadata": {
        "id": "Q7o2R8QrLKuG"
      },
      "source": [
        "### Apply (user defined) Function   \n",
        "\n",
        "An alternative to using a loop to **iterate over a DataFrame** is to use the pandas `.apply()` method. This function acts as a `map()` function in Python. It takes a function as an input and applies this function to an entire DataFrame.\n",
        "\n",
        "If you are working with tabular data, you must specify an axis you want your function to act on (0 for columns; and 1 for rows)\n",
        "\n",
        "[`DataFrame.apply()`](https://pandas.pydata.org/docs/reference/api/pandas.DataFrame.apply.html#pandas.DataFrame.apply) applies a user defined function to the data:"
      ]
    },
    {
      "cell_type": "code",
      "execution_count": 70,
      "metadata": {
        "colab": {
          "base_uri": "https://localhost:8080/",
          "height": 237
        },
        "id": "aEFEaXMULTf_",
        "outputId": "f4a602ce-3678-42b3-f0c8-d9c7a7d124ac"
      },
      "outputs": [
        {
          "data": {
            "text/html": [
              "<div>\n",
              "<style scoped>\n",
              "    .dataframe tbody tr th:only-of-type {\n",
              "        vertical-align: middle;\n",
              "    }\n",
              "\n",
              "    .dataframe tbody tr th {\n",
              "        vertical-align: top;\n",
              "    }\n",
              "\n",
              "    .dataframe thead th {\n",
              "        text-align: right;\n",
              "    }\n",
              "</style>\n",
              "<table border=\"1\" class=\"dataframe\">\n",
              "  <thead>\n",
              "    <tr style=\"text-align: right;\">\n",
              "      <th></th>\n",
              "      <th>A</th>\n",
              "      <th>B</th>\n",
              "      <th>C</th>\n",
              "      <th>D</th>\n",
              "      <th>F</th>\n",
              "    </tr>\n",
              "  </thead>\n",
              "  <tbody>\n",
              "    <tr>\n",
              "      <th>2013-01-01</th>\n",
              "      <td>0.000000</td>\n",
              "      <td>0.000000</td>\n",
              "      <td>0.841631</td>\n",
              "      <td>5.0</td>\n",
              "      <td>NaN</td>\n",
              "    </tr>\n",
              "    <tr>\n",
              "      <th>2013-01-02</th>\n",
              "      <td>-1.159600</td>\n",
              "      <td>-0.596312</td>\n",
              "      <td>0.323778</td>\n",
              "      <td>10.0</td>\n",
              "      <td>1.0</td>\n",
              "    </tr>\n",
              "    <tr>\n",
              "      <th>2013-01-03</th>\n",
              "      <td>-2.317296</td>\n",
              "      <td>0.833196</td>\n",
              "      <td>0.652356</td>\n",
              "      <td>15.0</td>\n",
              "      <td>3.0</td>\n",
              "    </tr>\n",
              "    <tr>\n",
              "      <th>2013-01-04</th>\n",
              "      <td>-2.235840</td>\n",
              "      <td>-1.286868</td>\n",
              "      <td>-1.488140</td>\n",
              "      <td>20.0</td>\n",
              "      <td>6.0</td>\n",
              "    </tr>\n",
              "    <tr>\n",
              "      <th>2013-01-05</th>\n",
              "      <td>-1.037697</td>\n",
              "      <td>-2.257157</td>\n",
              "      <td>-0.502025</td>\n",
              "      <td>25.0</td>\n",
              "      <td>10.0</td>\n",
              "    </tr>\n",
              "    <tr>\n",
              "      <th>2013-01-06</th>\n",
              "      <td>-0.489322</td>\n",
              "      <td>-0.578742</td>\n",
              "      <td>1.601568</td>\n",
              "      <td>30.0</td>\n",
              "      <td>15.0</td>\n",
              "    </tr>\n",
              "  </tbody>\n",
              "</table>\n",
              "</div>"
            ],
            "text/plain": [
              "                   A         B         C     D     F\n",
              "2013-01-01  0.000000  0.000000  0.841631   5.0   NaN\n",
              "2013-01-02 -1.159600 -0.596312  0.323778  10.0   1.0\n",
              "2013-01-03 -2.317296  0.833196  0.652356  15.0   3.0\n",
              "2013-01-04 -2.235840 -1.286868 -1.488140  20.0   6.0\n",
              "2013-01-05 -1.037697 -2.257157 -0.502025  25.0  10.0\n",
              "2013-01-06 -0.489322 -0.578742  1.601568  30.0  15.0"
            ]
          },
          "execution_count": 70,
          "metadata": {},
          "output_type": "execute_result"
        }
      ],
      "source": [
        "df.apply(np.cumsum)"
      ]
    },
    {
      "cell_type": "code",
      "execution_count": 71,
      "metadata": {
        "colab": {
          "base_uri": "https://localhost:8080/"
        },
        "id": "9q03tP3QLXDO",
        "outputId": "c8af5b5a-bbf8-4d3e-eb1d-87cf5431b457"
      },
      "outputs": [
        {
          "data": {
            "text/plain": [
              "A    2.357742\n",
              "B    3.798479\n",
              "C    4.244090\n",
              "D    0.000000\n",
              "F    4.000000\n",
              "dtype: float64"
            ]
          },
          "execution_count": 71,
          "metadata": {},
          "output_type": "execute_result"
        }
      ],
      "source": [
        "df.apply(lambda x: x.max() - x.min())"
      ]
    },
    {
      "cell_type": "markdown",
      "metadata": {
        "id": "_eNG0cphLtfN"
      },
      "source": [
        "### String Methods\n",
        "\n",
        "*Series* is equipped with a set of string processing methods in the `str` attribute that make it easy to operate on each element of the array, as in the code snippet below.   \n",
        "Note that pattern-matching in `str` generally uses [regular expressions](https://docs.python.org/3/library/re.html) by default (and in some cases always uses them).   \n",
        "*See more at [Vectorized String Methods](https://pandas.pydata.org/docs/user_guide/text.html#text-string-methods)*"
      ]
    },
    {
      "cell_type": "code",
      "execution_count": 72,
      "metadata": {
        "colab": {
          "base_uri": "https://localhost:8080/"
        },
        "id": "ci--jcmwL_na",
        "outputId": "039749c9-079a-4a74-d9e0-54c830644535"
      },
      "outputs": [
        {
          "data": {
            "text/plain": [
              "0       a\n",
              "1       b\n",
              "2       c\n",
              "3    aaba\n",
              "4    baca\n",
              "5     NaN\n",
              "6    caba\n",
              "7     dog\n",
              "8     cat\n",
              "dtype: object"
            ]
          },
          "execution_count": 72,
          "metadata": {},
          "output_type": "execute_result"
        }
      ],
      "source": [
        "s = pd.Series([\"A\", \"B\", \"C\", \"Aaba\", \"Baca\", np.nan, \"CABA\", \"dog\", \"cat\"])\n",
        "s.str.lower()"
      ]
    },
    {
      "cell_type": "markdown",
      "metadata": {
        "id": "nuPJ-c8p921j"
      },
      "source": [
        "---   \n",
        "## Merge\n",
        "\n",
        "pandas provides various methods for combining and comparing *Series* or *DataFrame* objects.\n",
        "\n",
        "+ `concat()`: Merge multiple Series or DataFrame objects along a shared index or column\n",
        "\n",
        "+ `DataFrame.join()`: Merge multiple DataFrame objects along the columns\n",
        "\n",
        "+ `DataFrame.combine_first()`: Update missing values with non-missing values in the same location\n",
        "\n",
        "+ `merge()`: Combine two Series or DataFrame objects with SQL-style joining\n",
        "\n",
        "+ `merge_ordered()`: Combine two Series or DataFrame objects along an ordered axis\n",
        "\n",
        "+ `merge_asof()`: Combine two Series or DataFrame objects by near instead of exact matching keys\n",
        "\n",
        "+ `Series.compare()` and `DataFrame.compare()`: Show differences in values between two Series or DataFrame objects\n",
        "\n",
        "*see the [Merging section](https://pandas.pydata.org/docs/user_guide/merging.html#merging)*"
      ]
    },
    {
      "cell_type": "markdown",
      "metadata": {
        "id": "kbKhn8BC995O"
      },
      "source": [
        "### Concat   \n",
        "\n",
        "pandas provides various facilities for easily combining together Series and DataFrame objects with various kinds of set logic for the indexes and relational algebra functionality in the case of join / merge-type operations.\n",
        "\n",
        "**Concatenating** pandas objects together along an axis with [`concat()`](https://pandas.pydata.org/docs/reference/api/pandas.concat.html#pandas.concat):"
      ]
    },
    {
      "cell_type": "code",
      "execution_count": 73,
      "metadata": {
        "colab": {
          "base_uri": "https://localhost:8080/",
          "height": 363
        },
        "id": "oldvT8Wb-ari",
        "outputId": "1bb2b2e1-0fd4-4086-9755-68ef3513a6c1"
      },
      "outputs": [
        {
          "data": {
            "text/html": [
              "<div>\n",
              "<style scoped>\n",
              "    .dataframe tbody tr th:only-of-type {\n",
              "        vertical-align: middle;\n",
              "    }\n",
              "\n",
              "    .dataframe tbody tr th {\n",
              "        vertical-align: top;\n",
              "    }\n",
              "\n",
              "    .dataframe thead th {\n",
              "        text-align: right;\n",
              "    }\n",
              "</style>\n",
              "<table border=\"1\" class=\"dataframe\">\n",
              "  <thead>\n",
              "    <tr style=\"text-align: right;\">\n",
              "      <th></th>\n",
              "      <th>0</th>\n",
              "      <th>1</th>\n",
              "      <th>2</th>\n",
              "      <th>3</th>\n",
              "    </tr>\n",
              "  </thead>\n",
              "  <tbody>\n",
              "    <tr>\n",
              "      <th>0</th>\n",
              "      <td>0.059468</td>\n",
              "      <td>0.131642</td>\n",
              "      <td>-1.181814</td>\n",
              "      <td>-0.241659</td>\n",
              "    </tr>\n",
              "    <tr>\n",
              "      <th>1</th>\n",
              "      <td>0.003302</td>\n",
              "      <td>0.505087</td>\n",
              "      <td>-0.217420</td>\n",
              "      <td>0.381571</td>\n",
              "    </tr>\n",
              "    <tr>\n",
              "      <th>2</th>\n",
              "      <td>-0.379942</td>\n",
              "      <td>0.359351</td>\n",
              "      <td>0.299100</td>\n",
              "      <td>-1.881509</td>\n",
              "    </tr>\n",
              "    <tr>\n",
              "      <th>3</th>\n",
              "      <td>-0.122795</td>\n",
              "      <td>-0.245575</td>\n",
              "      <td>-0.332927</td>\n",
              "      <td>-1.184479</td>\n",
              "    </tr>\n",
              "    <tr>\n",
              "      <th>4</th>\n",
              "      <td>0.356328</td>\n",
              "      <td>-0.530181</td>\n",
              "      <td>0.288616</td>\n",
              "      <td>-0.184648</td>\n",
              "    </tr>\n",
              "    <tr>\n",
              "      <th>5</th>\n",
              "      <td>-0.805550</td>\n",
              "      <td>-1.739623</td>\n",
              "      <td>0.656654</td>\n",
              "      <td>1.281539</td>\n",
              "    </tr>\n",
              "    <tr>\n",
              "      <th>6</th>\n",
              "      <td>0.172918</td>\n",
              "      <td>-2.194211</td>\n",
              "      <td>-0.300868</td>\n",
              "      <td>-1.134621</td>\n",
              "    </tr>\n",
              "    <tr>\n",
              "      <th>7</th>\n",
              "      <td>-1.174167</td>\n",
              "      <td>-0.151690</td>\n",
              "      <td>0.686056</td>\n",
              "      <td>0.578245</td>\n",
              "    </tr>\n",
              "    <tr>\n",
              "      <th>8</th>\n",
              "      <td>-0.677966</td>\n",
              "      <td>-1.137170</td>\n",
              "      <td>-0.373094</td>\n",
              "      <td>-1.481143</td>\n",
              "    </tr>\n",
              "    <tr>\n",
              "      <th>9</th>\n",
              "      <td>-0.609039</td>\n",
              "      <td>-0.217974</td>\n",
              "      <td>-0.244844</td>\n",
              "      <td>1.881982</td>\n",
              "    </tr>\n",
              "  </tbody>\n",
              "</table>\n",
              "</div>"
            ],
            "text/plain": [
              "          0         1         2         3\n",
              "0  0.059468  0.131642 -1.181814 -0.241659\n",
              "1  0.003302  0.505087 -0.217420  0.381571\n",
              "2 -0.379942  0.359351  0.299100 -1.881509\n",
              "3 -0.122795 -0.245575 -0.332927 -1.184479\n",
              "4  0.356328 -0.530181  0.288616 -0.184648\n",
              "5 -0.805550 -1.739623  0.656654  1.281539\n",
              "6  0.172918 -2.194211 -0.300868 -1.134621\n",
              "7 -1.174167 -0.151690  0.686056  0.578245\n",
              "8 -0.677966 -1.137170 -0.373094 -1.481143\n",
              "9 -0.609039 -0.217974 -0.244844  1.881982"
            ]
          },
          "execution_count": 73,
          "metadata": {},
          "output_type": "execute_result"
        }
      ],
      "source": [
        "df = pd.DataFrame(np.random.randn(10, 4))\n",
        "df"
      ]
    },
    {
      "cell_type": "code",
      "execution_count": 74,
      "metadata": {
        "colab": {
          "base_uri": "https://localhost:8080/",
          "height": 363
        },
        "id": "0qLkrJ8vARaE",
        "outputId": "1dba2459-8f76-46b0-e56a-3b3efd9ae475"
      },
      "outputs": [
        {
          "data": {
            "text/html": [
              "<div>\n",
              "<style scoped>\n",
              "    .dataframe tbody tr th:only-of-type {\n",
              "        vertical-align: middle;\n",
              "    }\n",
              "\n",
              "    .dataframe tbody tr th {\n",
              "        vertical-align: top;\n",
              "    }\n",
              "\n",
              "    .dataframe thead th {\n",
              "        text-align: right;\n",
              "    }\n",
              "</style>\n",
              "<table border=\"1\" class=\"dataframe\">\n",
              "  <thead>\n",
              "    <tr style=\"text-align: right;\">\n",
              "      <th></th>\n",
              "      <th>0</th>\n",
              "      <th>1</th>\n",
              "      <th>2</th>\n",
              "      <th>3</th>\n",
              "    </tr>\n",
              "  </thead>\n",
              "  <tbody>\n",
              "    <tr>\n",
              "      <th>0</th>\n",
              "      <td>0.059468</td>\n",
              "      <td>0.131642</td>\n",
              "      <td>-1.181814</td>\n",
              "      <td>-0.241659</td>\n",
              "    </tr>\n",
              "    <tr>\n",
              "      <th>1</th>\n",
              "      <td>0.003302</td>\n",
              "      <td>0.505087</td>\n",
              "      <td>-0.217420</td>\n",
              "      <td>0.381571</td>\n",
              "    </tr>\n",
              "    <tr>\n",
              "      <th>2</th>\n",
              "      <td>-0.379942</td>\n",
              "      <td>0.359351</td>\n",
              "      <td>0.299100</td>\n",
              "      <td>-1.881509</td>\n",
              "    </tr>\n",
              "    <tr>\n",
              "      <th>3</th>\n",
              "      <td>-0.122795</td>\n",
              "      <td>-0.245575</td>\n",
              "      <td>-0.332927</td>\n",
              "      <td>-1.184479</td>\n",
              "    </tr>\n",
              "    <tr>\n",
              "      <th>4</th>\n",
              "      <td>0.356328</td>\n",
              "      <td>-0.530181</td>\n",
              "      <td>0.288616</td>\n",
              "      <td>-0.184648</td>\n",
              "    </tr>\n",
              "    <tr>\n",
              "      <th>5</th>\n",
              "      <td>-0.805550</td>\n",
              "      <td>-1.739623</td>\n",
              "      <td>0.656654</td>\n",
              "      <td>1.281539</td>\n",
              "    </tr>\n",
              "    <tr>\n",
              "      <th>6</th>\n",
              "      <td>0.172918</td>\n",
              "      <td>-2.194211</td>\n",
              "      <td>-0.300868</td>\n",
              "      <td>-1.134621</td>\n",
              "    </tr>\n",
              "    <tr>\n",
              "      <th>7</th>\n",
              "      <td>-1.174167</td>\n",
              "      <td>-0.151690</td>\n",
              "      <td>0.686056</td>\n",
              "      <td>0.578245</td>\n",
              "    </tr>\n",
              "    <tr>\n",
              "      <th>8</th>\n",
              "      <td>-0.677966</td>\n",
              "      <td>-1.137170</td>\n",
              "      <td>-0.373094</td>\n",
              "      <td>-1.481143</td>\n",
              "    </tr>\n",
              "    <tr>\n",
              "      <th>9</th>\n",
              "      <td>-0.609039</td>\n",
              "      <td>-0.217974</td>\n",
              "      <td>-0.244844</td>\n",
              "      <td>1.881982</td>\n",
              "    </tr>\n",
              "  </tbody>\n",
              "</table>\n",
              "</div>"
            ],
            "text/plain": [
              "          0         1         2         3\n",
              "0  0.059468  0.131642 -1.181814 -0.241659\n",
              "1  0.003302  0.505087 -0.217420  0.381571\n",
              "2 -0.379942  0.359351  0.299100 -1.881509\n",
              "3 -0.122795 -0.245575 -0.332927 -1.184479\n",
              "4  0.356328 -0.530181  0.288616 -0.184648\n",
              "5 -0.805550 -1.739623  0.656654  1.281539\n",
              "6  0.172918 -2.194211 -0.300868 -1.134621\n",
              "7 -1.174167 -0.151690  0.686056  0.578245\n",
              "8 -0.677966 -1.137170 -0.373094 -1.481143\n",
              "9 -0.609039 -0.217974 -0.244844  1.881982"
            ]
          },
          "execution_count": 74,
          "metadata": {},
          "output_type": "execute_result"
        }
      ],
      "source": [
        "# break it onto pieces\n",
        "pieces = [df[:3], df[3:7], df[7:]]\n",
        "\n",
        "pd.concat(pieces)"
      ]
    },
    {
      "cell_type": "markdown",
      "metadata": {
        "id": "iZ0Ll-LPbd3W"
      },
      "source": [
        "> NOTE: Adding a column to a [`DataFrame`](https://pandas.pydata.org/docs/reference/api/pandas.DataFrame.html#pandas.DataFrame) is relatively fast. However, adding a row requires a copy, and may be expensive. We recommend passing a pre-built list of records to the [`DataFrame`](https://pandas.pydata.org/docs/reference/api/pandas.DataFrame.html#pandas.DataFrame) constructor instead of building a [`DataFrame`](https://pandas.pydata.org/docs/reference/api/pandas.DataFrame.html#pandas.DataFrame) by iteratively appending records to it."
      ]
    },
    {
      "cell_type": "markdown",
      "metadata": {
        "id": "T4Q3Z0_3aAIS"
      },
      "source": [
        "### Join   \n",
        "*see the [Database style joining](https://pandas.pydata.org/docs/user_guide/merging.html#merging-join) section*\n",
        "\n",
        "[`merge()`](https://pandas.pydata.org/docs/reference/api/pandas.merge.html#pandas.merge) enables SQL style join types along specific columns."
      ]
    },
    {
      "cell_type": "code",
      "execution_count": 75,
      "metadata": {
        "colab": {
          "base_uri": "https://localhost:8080/",
          "height": 279
        },
        "id": "CDC3F5KYaS7f",
        "outputId": "4de94734-289e-482d-9815-8d3ed5e5f776"
      },
      "outputs": [
        {
          "name": "stdout",
          "output_type": "stream",
          "text": [
            "   key  lval\n",
            "0  foo     1\n",
            "1  foo     2\n",
            "   key  rval\n",
            "0  foo     4\n",
            "1  foo     5\n"
          ]
        },
        {
          "data": {
            "text/html": [
              "<div>\n",
              "<style scoped>\n",
              "    .dataframe tbody tr th:only-of-type {\n",
              "        vertical-align: middle;\n",
              "    }\n",
              "\n",
              "    .dataframe tbody tr th {\n",
              "        vertical-align: top;\n",
              "    }\n",
              "\n",
              "    .dataframe thead th {\n",
              "        text-align: right;\n",
              "    }\n",
              "</style>\n",
              "<table border=\"1\" class=\"dataframe\">\n",
              "  <thead>\n",
              "    <tr style=\"text-align: right;\">\n",
              "      <th></th>\n",
              "      <th>key</th>\n",
              "      <th>lval</th>\n",
              "      <th>rval</th>\n",
              "    </tr>\n",
              "  </thead>\n",
              "  <tbody>\n",
              "    <tr>\n",
              "      <th>0</th>\n",
              "      <td>foo</td>\n",
              "      <td>1</td>\n",
              "      <td>4</td>\n",
              "    </tr>\n",
              "    <tr>\n",
              "      <th>1</th>\n",
              "      <td>foo</td>\n",
              "      <td>1</td>\n",
              "      <td>5</td>\n",
              "    </tr>\n",
              "    <tr>\n",
              "      <th>2</th>\n",
              "      <td>foo</td>\n",
              "      <td>2</td>\n",
              "      <td>4</td>\n",
              "    </tr>\n",
              "    <tr>\n",
              "      <th>3</th>\n",
              "      <td>foo</td>\n",
              "      <td>2</td>\n",
              "      <td>5</td>\n",
              "    </tr>\n",
              "  </tbody>\n",
              "</table>\n",
              "</div>"
            ],
            "text/plain": [
              "   key  lval  rval\n",
              "0  foo     1     4\n",
              "1  foo     1     5\n",
              "2  foo     2     4\n",
              "3  foo     2     5"
            ]
          },
          "execution_count": 75,
          "metadata": {},
          "output_type": "execute_result"
        }
      ],
      "source": [
        "left = pd.DataFrame({\"key\": [\"foo\", \"foo\"], \"lval\": [1, 2]})\n",
        "right = pd.DataFrame({\"key\": [\"foo\", \"foo\"], \"rval\": [4, 5]})\n",
        "\n",
        "print(left)\n",
        "print(right)\n",
        "\n",
        "pd.merge(left, right, on=\"key\")"
      ]
    },
    {
      "cell_type": "markdown",
      "metadata": {
        "id": "Fy-ys5kea3P1"
      },
      "source": [
        "Another example that can be given is:"
      ]
    },
    {
      "cell_type": "code",
      "execution_count": 76,
      "metadata": {
        "colab": {
          "base_uri": "https://localhost:8080/",
          "height": 216
        },
        "id": "EYkJw-ura-GQ",
        "outputId": "b2778e2f-ba6d-4860-fad9-ffc2579867be"
      },
      "outputs": [
        {
          "name": "stdout",
          "output_type": "stream",
          "text": [
            "   key  lval\n",
            "0  foo     1\n",
            "1  bar     2\n",
            "   key  rval\n",
            "0  foo     4\n",
            "1  bar     5\n"
          ]
        },
        {
          "data": {
            "text/html": [
              "<div>\n",
              "<style scoped>\n",
              "    .dataframe tbody tr th:only-of-type {\n",
              "        vertical-align: middle;\n",
              "    }\n",
              "\n",
              "    .dataframe tbody tr th {\n",
              "        vertical-align: top;\n",
              "    }\n",
              "\n",
              "    .dataframe thead th {\n",
              "        text-align: right;\n",
              "    }\n",
              "</style>\n",
              "<table border=\"1\" class=\"dataframe\">\n",
              "  <thead>\n",
              "    <tr style=\"text-align: right;\">\n",
              "      <th></th>\n",
              "      <th>key</th>\n",
              "      <th>lval</th>\n",
              "      <th>rval</th>\n",
              "    </tr>\n",
              "  </thead>\n",
              "  <tbody>\n",
              "    <tr>\n",
              "      <th>0</th>\n",
              "      <td>foo</td>\n",
              "      <td>1</td>\n",
              "      <td>4</td>\n",
              "    </tr>\n",
              "    <tr>\n",
              "      <th>1</th>\n",
              "      <td>bar</td>\n",
              "      <td>2</td>\n",
              "      <td>5</td>\n",
              "    </tr>\n",
              "  </tbody>\n",
              "</table>\n",
              "</div>"
            ],
            "text/plain": [
              "   key  lval  rval\n",
              "0  foo     1     4\n",
              "1  bar     2     5"
            ]
          },
          "execution_count": 76,
          "metadata": {},
          "output_type": "execute_result"
        }
      ],
      "source": [
        "left = pd.DataFrame({\"key\": [\"foo\", \"bar\"], \"lval\": [1, 2]})\n",
        "right = pd.DataFrame({\"key\": [\"foo\", \"bar\"], \"rval\": [4, 5]})\n",
        "\n",
        "print(left)\n",
        "print(right)\n",
        "\n",
        "pd.merge(left, right, on=\"key\")"
      ]
    },
    {
      "cell_type": "markdown",
      "metadata": {
        "id": "ulumIOwwD7ea"
      },
      "source": [
        "## Grouping\n",
        "\n",
        "By 'group by' we are referring to a process invloving one or more of the following steps:\n",
        "\n",
        "\n",
        "*   **Splitting** the data into group base on some criteria\n",
        "*   **Applying** a function to each group independently\n",
        "\n",
        "*   **Combining** the results into a data structure\n",
        "\n",
        "See the [Grouping section](https://pandas.pydata.org/docs/user_guide/groupby.html#groupby).\n"
      ]
    },
    {
      "cell_type": "code",
      "execution_count": 77,
      "metadata": {
        "colab": {
          "base_uri": "https://localhost:8080/",
          "height": 300
        },
        "id": "VsWP5stGEtjH",
        "outputId": "7ba4d065-565c-4210-e81e-756d54dc5da4"
      },
      "outputs": [
        {
          "data": {
            "text/html": [
              "<div>\n",
              "<style scoped>\n",
              "    .dataframe tbody tr th:only-of-type {\n",
              "        vertical-align: middle;\n",
              "    }\n",
              "\n",
              "    .dataframe tbody tr th {\n",
              "        vertical-align: top;\n",
              "    }\n",
              "\n",
              "    .dataframe thead th {\n",
              "        text-align: right;\n",
              "    }\n",
              "</style>\n",
              "<table border=\"1\" class=\"dataframe\">\n",
              "  <thead>\n",
              "    <tr style=\"text-align: right;\">\n",
              "      <th></th>\n",
              "      <th>A</th>\n",
              "      <th>B</th>\n",
              "      <th>C</th>\n",
              "      <th>D</th>\n",
              "    </tr>\n",
              "  </thead>\n",
              "  <tbody>\n",
              "    <tr>\n",
              "      <th>0</th>\n",
              "      <td>foo</td>\n",
              "      <td>one</td>\n",
              "      <td>-1.078278</td>\n",
              "      <td>0.471287</td>\n",
              "    </tr>\n",
              "    <tr>\n",
              "      <th>1</th>\n",
              "      <td>bar</td>\n",
              "      <td>one</td>\n",
              "      <td>-0.067863</td>\n",
              "      <td>0.350036</td>\n",
              "    </tr>\n",
              "    <tr>\n",
              "      <th>2</th>\n",
              "      <td>foo</td>\n",
              "      <td>two</td>\n",
              "      <td>0.247045</td>\n",
              "      <td>-0.364534</td>\n",
              "    </tr>\n",
              "    <tr>\n",
              "      <th>3</th>\n",
              "      <td>bar</td>\n",
              "      <td>three</td>\n",
              "      <td>-0.871974</td>\n",
              "      <td>-1.363490</td>\n",
              "    </tr>\n",
              "    <tr>\n",
              "      <th>4</th>\n",
              "      <td>foo</td>\n",
              "      <td>two</td>\n",
              "      <td>0.678407</td>\n",
              "      <td>-0.274225</td>\n",
              "    </tr>\n",
              "    <tr>\n",
              "      <th>5</th>\n",
              "      <td>bar</td>\n",
              "      <td>two</td>\n",
              "      <td>-0.626021</td>\n",
              "      <td>1.213025</td>\n",
              "    </tr>\n",
              "    <tr>\n",
              "      <th>6</th>\n",
              "      <td>foo</td>\n",
              "      <td>one</td>\n",
              "      <td>0.490220</td>\n",
              "      <td>0.685307</td>\n",
              "    </tr>\n",
              "    <tr>\n",
              "      <th>7</th>\n",
              "      <td>bar</td>\n",
              "      <td>three</td>\n",
              "      <td>-0.536047</td>\n",
              "      <td>0.299657</td>\n",
              "    </tr>\n",
              "  </tbody>\n",
              "</table>\n",
              "</div>"
            ],
            "text/plain": [
              "     A      B         C         D\n",
              "0  foo    one -1.078278  0.471287\n",
              "1  bar    one -0.067863  0.350036\n",
              "2  foo    two  0.247045 -0.364534\n",
              "3  bar  three -0.871974 -1.363490\n",
              "4  foo    two  0.678407 -0.274225\n",
              "5  bar    two -0.626021  1.213025\n",
              "6  foo    one  0.490220  0.685307\n",
              "7  bar  three -0.536047  0.299657"
            ]
          },
          "execution_count": 77,
          "metadata": {},
          "output_type": "execute_result"
        }
      ],
      "source": [
        "df = pd.DataFrame({'A': ['foo', 'bar', 'foo', 'bar',\n",
        "                         'foo', 'bar', 'foo', 'bar'],\n",
        "                   'B': ['one', 'one', 'two', 'three',\n",
        "                         'two', 'two', 'one', 'three'],\n",
        "                   'C': np.random.randn(8),\n",
        "                   'D': np.random.randn(8)})\n",
        "df"
      ]
    },
    {
      "cell_type": "markdown",
      "metadata": {
        "id": "Vi5aIZy_FheS"
      },
      "source": [
        "**Grouping** and then **applying the `sum()` function** to the resulting group:"
      ]
    },
    {
      "cell_type": "code",
      "execution_count": 78,
      "metadata": {
        "colab": {
          "base_uri": "https://localhost:8080/",
          "height": 143
        },
        "id": "M1rPBWjfFnRt",
        "outputId": "757a904d-b0ae-42fb-ca8b-2465ec4aa1d8"
      },
      "outputs": [
        {
          "data": {
            "text/html": [
              "<div>\n",
              "<style scoped>\n",
              "    .dataframe tbody tr th:only-of-type {\n",
              "        vertical-align: middle;\n",
              "    }\n",
              "\n",
              "    .dataframe tbody tr th {\n",
              "        vertical-align: top;\n",
              "    }\n",
              "\n",
              "    .dataframe thead th {\n",
              "        text-align: right;\n",
              "    }\n",
              "</style>\n",
              "<table border=\"1\" class=\"dataframe\">\n",
              "  <thead>\n",
              "    <tr style=\"text-align: right;\">\n",
              "      <th></th>\n",
              "      <th>C</th>\n",
              "      <th>D</th>\n",
              "    </tr>\n",
              "    <tr>\n",
              "      <th>A</th>\n",
              "      <th></th>\n",
              "      <th></th>\n",
              "    </tr>\n",
              "  </thead>\n",
              "  <tbody>\n",
              "    <tr>\n",
              "      <th>bar</th>\n",
              "      <td>-2.101905</td>\n",
              "      <td>0.499228</td>\n",
              "    </tr>\n",
              "    <tr>\n",
              "      <th>foo</th>\n",
              "      <td>0.337393</td>\n",
              "      <td>0.517834</td>\n",
              "    </tr>\n",
              "  </tbody>\n",
              "</table>\n",
              "</div>"
            ],
            "text/plain": [
              "            C         D\n",
              "A                      \n",
              "bar -2.101905  0.499228\n",
              "foo  0.337393  0.517834"
            ]
          },
          "execution_count": 78,
          "metadata": {},
          "output_type": "execute_result"
        }
      ],
      "source": [
        "df.groupby('A')[[\"C\", \"D\"]].sum()"
      ]
    },
    {
      "cell_type": "markdown",
      "metadata": {
        "id": "jW8gpuWFGk74"
      },
      "source": [
        "**Grouping by multiple columns** forms a hierarchical index, and again we can apply the `sum()` function:"
      ]
    },
    {
      "cell_type": "code",
      "execution_count": 79,
      "metadata": {
        "colab": {
          "base_uri": "https://localhost:8080/",
          "height": 237
        },
        "id": "af4RVR0xHOS_",
        "outputId": "267a8a9e-659d-47b0-8b69-946724246596"
      },
      "outputs": [
        {
          "data": {
            "text/html": [
              "<div>\n",
              "<style scoped>\n",
              "    .dataframe tbody tr th:only-of-type {\n",
              "        vertical-align: middle;\n",
              "    }\n",
              "\n",
              "    .dataframe tbody tr th {\n",
              "        vertical-align: top;\n",
              "    }\n",
              "\n",
              "    .dataframe thead th {\n",
              "        text-align: right;\n",
              "    }\n",
              "</style>\n",
              "<table border=\"1\" class=\"dataframe\">\n",
              "  <thead>\n",
              "    <tr style=\"text-align: right;\">\n",
              "      <th></th>\n",
              "      <th></th>\n",
              "      <th>C</th>\n",
              "      <th>D</th>\n",
              "    </tr>\n",
              "    <tr>\n",
              "      <th>A</th>\n",
              "      <th>B</th>\n",
              "      <th></th>\n",
              "      <th></th>\n",
              "    </tr>\n",
              "  </thead>\n",
              "  <tbody>\n",
              "    <tr>\n",
              "      <th rowspan=\"3\" valign=\"top\">bar</th>\n",
              "      <th>one</th>\n",
              "      <td>-0.067863</td>\n",
              "      <td>0.350036</td>\n",
              "    </tr>\n",
              "    <tr>\n",
              "      <th>three</th>\n",
              "      <td>-1.408021</td>\n",
              "      <td>-1.063833</td>\n",
              "    </tr>\n",
              "    <tr>\n",
              "      <th>two</th>\n",
              "      <td>-0.626021</td>\n",
              "      <td>1.213025</td>\n",
              "    </tr>\n",
              "    <tr>\n",
              "      <th rowspan=\"2\" valign=\"top\">foo</th>\n",
              "      <th>one</th>\n",
              "      <td>-0.588059</td>\n",
              "      <td>1.156593</td>\n",
              "    </tr>\n",
              "    <tr>\n",
              "      <th>two</th>\n",
              "      <td>0.925452</td>\n",
              "      <td>-0.638759</td>\n",
              "    </tr>\n",
              "  </tbody>\n",
              "</table>\n",
              "</div>"
            ],
            "text/plain": [
              "                  C         D\n",
              "A   B                        \n",
              "bar one   -0.067863  0.350036\n",
              "    three -1.408021 -1.063833\n",
              "    two   -0.626021  1.213025\n",
              "foo one   -0.588059  1.156593\n",
              "    two    0.925452 -0.638759"
            ]
          },
          "execution_count": 79,
          "metadata": {},
          "output_type": "execute_result"
        }
      ],
      "source": [
        "df.groupby([\"A\", \"B\"]).sum()"
      ]
    },
    {
      "cell_type": "markdown",
      "metadata": {
        "id": "ZAzp6zt7lvPk"
      },
      "source": [
        "## Reshaping\n",
        "\n",
        "pandas provides methods for manipulating a Series and DataFrame object to **alter the representation of the data** for further data processing or data summarization.\n",
        "\n",
        "+ `pivot()` and pivot_table(): Group unique values within one or more discrete categories.\n",
        "\n",
        "+ `stack()` and `unstack()`: Pivot a column or row level to the opposite axis respectively.\n",
        "\n",
        "+ `melt()` and `wide_to_long()`: Unpivot a wide DataFrame to a long format.\n",
        "\n",
        "+ `get_dummies()` and `from_dummies()`: Conversions with indicator variables.\n",
        "\n",
        "+ `explode()`: Convert a column of list-like values to individual rows.\n",
        "\n",
        "+ `crosstab()`: Calculate a cross-tabulation of multiple 1 dimensional factor arrays.\n",
        "\n",
        "+ `cut()`: Transform continuous variables to discrete, categorical values\n",
        "\n",
        "+ `factorize()`: Encode 1 dimensional variables into integer labels.\n",
        "\n",
        "*See the sections on [Hierarchical Indexing](https://pandas.pydata.org/docs/user_guide/advanced.html#advanced-hierarchical) and [Reshaping](https://pandas.pydata.org/docs/user_guide/reshaping.html#reshaping-stacking)*"
      ]
    },
    {
      "cell_type": "markdown",
      "metadata": {
        "id": "YqXELQdHnRmT"
      },
      "source": [
        "### Pivot\n",
        "\n",
        "See the section on [Pivot Tables](https://pandas.pydata.org/docs/user_guide/reshaping.html#reshaping-pivot)."
      ]
    },
    {
      "cell_type": "code",
      "execution_count": 80,
      "metadata": {
        "colab": {
          "base_uri": "https://localhost:8080/"
        },
        "id": "e9Z_RKTjnUD_",
        "outputId": "d572f6a7-7175-4a5b-bea0-c72fd01e6762"
      },
      "outputs": [
        {
          "data": {
            "text/html": [
              "<div>\n",
              "<style scoped>\n",
              "    .dataframe tbody tr th:only-of-type {\n",
              "        vertical-align: middle;\n",
              "    }\n",
              "\n",
              "    .dataframe tbody tr th {\n",
              "        vertical-align: top;\n",
              "    }\n",
              "\n",
              "    .dataframe thead th {\n",
              "        text-align: right;\n",
              "    }\n",
              "</style>\n",
              "<table border=\"1\" class=\"dataframe\">\n",
              "  <thead>\n",
              "    <tr style=\"text-align: right;\">\n",
              "      <th></th>\n",
              "      <th>A</th>\n",
              "      <th>B</th>\n",
              "      <th>C</th>\n",
              "      <th>D</th>\n",
              "      <th>E</th>\n",
              "    </tr>\n",
              "  </thead>\n",
              "  <tbody>\n",
              "    <tr>\n",
              "      <th>0</th>\n",
              "      <td>one</td>\n",
              "      <td>A</td>\n",
              "      <td>foo</td>\n",
              "      <td>1.204000</td>\n",
              "      <td>0.941194</td>\n",
              "    </tr>\n",
              "    <tr>\n",
              "      <th>1</th>\n",
              "      <td>one</td>\n",
              "      <td>B</td>\n",
              "      <td>foo</td>\n",
              "      <td>-0.304349</td>\n",
              "      <td>-1.024251</td>\n",
              "    </tr>\n",
              "    <tr>\n",
              "      <th>2</th>\n",
              "      <td>two</td>\n",
              "      <td>C</td>\n",
              "      <td>foo</td>\n",
              "      <td>-0.821367</td>\n",
              "      <td>0.655092</td>\n",
              "    </tr>\n",
              "    <tr>\n",
              "      <th>3</th>\n",
              "      <td>three</td>\n",
              "      <td>A</td>\n",
              "      <td>bar</td>\n",
              "      <td>-0.113987</td>\n",
              "      <td>0.164546</td>\n",
              "    </tr>\n",
              "    <tr>\n",
              "      <th>4</th>\n",
              "      <td>one</td>\n",
              "      <td>B</td>\n",
              "      <td>bar</td>\n",
              "      <td>0.411886</td>\n",
              "      <td>0.283828</td>\n",
              "    </tr>\n",
              "    <tr>\n",
              "      <th>5</th>\n",
              "      <td>one</td>\n",
              "      <td>C</td>\n",
              "      <td>bar</td>\n",
              "      <td>1.068651</td>\n",
              "      <td>-0.333455</td>\n",
              "    </tr>\n",
              "    <tr>\n",
              "      <th>6</th>\n",
              "      <td>two</td>\n",
              "      <td>A</td>\n",
              "      <td>foo</td>\n",
              "      <td>-0.468932</td>\n",
              "      <td>0.544751</td>\n",
              "    </tr>\n",
              "    <tr>\n",
              "      <th>7</th>\n",
              "      <td>three</td>\n",
              "      <td>B</td>\n",
              "      <td>foo</td>\n",
              "      <td>-1.327931</td>\n",
              "      <td>0.499279</td>\n",
              "    </tr>\n",
              "    <tr>\n",
              "      <th>8</th>\n",
              "      <td>one</td>\n",
              "      <td>C</td>\n",
              "      <td>foo</td>\n",
              "      <td>0.294331</td>\n",
              "      <td>0.017950</td>\n",
              "    </tr>\n",
              "    <tr>\n",
              "      <th>9</th>\n",
              "      <td>one</td>\n",
              "      <td>A</td>\n",
              "      <td>bar</td>\n",
              "      <td>1.053269</td>\n",
              "      <td>-0.584241</td>\n",
              "    </tr>\n",
              "    <tr>\n",
              "      <th>10</th>\n",
              "      <td>two</td>\n",
              "      <td>B</td>\n",
              "      <td>bar</td>\n",
              "      <td>2.670047</td>\n",
              "      <td>-1.273609</td>\n",
              "    </tr>\n",
              "    <tr>\n",
              "      <th>11</th>\n",
              "      <td>three</td>\n",
              "      <td>C</td>\n",
              "      <td>bar</td>\n",
              "      <td>-0.098567</td>\n",
              "      <td>1.809265</td>\n",
              "    </tr>\n",
              "  </tbody>\n",
              "</table>\n",
              "</div>"
            ],
            "text/plain": [
              "        A  B    C         D         E\n",
              "0     one  A  foo  1.204000  0.941194\n",
              "1     one  B  foo -0.304349 -1.024251\n",
              "2     two  C  foo -0.821367  0.655092\n",
              "3   three  A  bar -0.113987  0.164546\n",
              "4     one  B  bar  0.411886  0.283828\n",
              "5     one  C  bar  1.068651 -0.333455\n",
              "6     two  A  foo -0.468932  0.544751\n",
              "7   three  B  foo -1.327931  0.499279\n",
              "8     one  C  foo  0.294331  0.017950\n",
              "9     one  A  bar  1.053269 -0.584241\n",
              "10    two  B  bar  2.670047 -1.273609\n",
              "11  three  C  bar -0.098567  1.809265"
            ]
          },
          "execution_count": 80,
          "metadata": {},
          "output_type": "execute_result"
        }
      ],
      "source": [
        "df = pd.DataFrame(\n",
        "    {\n",
        "        \"A\": [\"one\", \"one\", \"two\", \"three\"] * 3,\n",
        "        \"B\": [\"A\", \"B\", \"C\"] * 4,\n",
        "        \"C\": [\"foo\", \"foo\", \"foo\", \"bar\", \"bar\", \"bar\"] * 2,\n",
        "        \"D\": np.random.randn(12),\n",
        "        \"E\": np.random.randn(12),\n",
        "    }\n",
        ")\n",
        "df"
      ]
    },
    {
      "cell_type": "markdown",
      "metadata": {
        "id": "FO9FwVylniBI"
      },
      "source": [
        "[`pivot_table()`](https://pandas.pydata.org/docs/reference/api/pandas.pivot_table.html#pandas.pivot_table) pivots a [`DataFrame`](https://pandas.pydata.org/docs/reference/api/pandas.DataFrame.html#pandas.DataFrame) specifying the `values`, `index`, and `columns`\n",
        "\n"
      ]
    },
    {
      "cell_type": "code",
      "execution_count": 81,
      "metadata": {
        "colab": {
          "base_uri": "https://localhost:8080/"
        },
        "id": "Zh4MUAFnn2nh",
        "outputId": "1d4b0b97-d6de-4278-81d6-c1b0ac14add8"
      },
      "outputs": [
        {
          "data": {
            "text/html": [
              "<div>\n",
              "<style scoped>\n",
              "    .dataframe tbody tr th:only-of-type {\n",
              "        vertical-align: middle;\n",
              "    }\n",
              "\n",
              "    .dataframe tbody tr th {\n",
              "        vertical-align: top;\n",
              "    }\n",
              "\n",
              "    .dataframe thead th {\n",
              "        text-align: right;\n",
              "    }\n",
              "</style>\n",
              "<table border=\"1\" class=\"dataframe\">\n",
              "  <thead>\n",
              "    <tr style=\"text-align: right;\">\n",
              "      <th></th>\n",
              "      <th>C</th>\n",
              "      <th>bar</th>\n",
              "      <th>foo</th>\n",
              "    </tr>\n",
              "    <tr>\n",
              "      <th>A</th>\n",
              "      <th>B</th>\n",
              "      <th></th>\n",
              "      <th></th>\n",
              "    </tr>\n",
              "  </thead>\n",
              "  <tbody>\n",
              "    <tr>\n",
              "      <th rowspan=\"3\" valign=\"top\">one</th>\n",
              "      <th>A</th>\n",
              "      <td>1.053269</td>\n",
              "      <td>1.204000</td>\n",
              "    </tr>\n",
              "    <tr>\n",
              "      <th>B</th>\n",
              "      <td>0.411886</td>\n",
              "      <td>-0.304349</td>\n",
              "    </tr>\n",
              "    <tr>\n",
              "      <th>C</th>\n",
              "      <td>1.068651</td>\n",
              "      <td>0.294331</td>\n",
              "    </tr>\n",
              "    <tr>\n",
              "      <th rowspan=\"3\" valign=\"top\">three</th>\n",
              "      <th>A</th>\n",
              "      <td>-0.113987</td>\n",
              "      <td>NaN</td>\n",
              "    </tr>\n",
              "    <tr>\n",
              "      <th>B</th>\n",
              "      <td>NaN</td>\n",
              "      <td>-1.327931</td>\n",
              "    </tr>\n",
              "    <tr>\n",
              "      <th>C</th>\n",
              "      <td>-0.098567</td>\n",
              "      <td>NaN</td>\n",
              "    </tr>\n",
              "    <tr>\n",
              "      <th rowspan=\"3\" valign=\"top\">two</th>\n",
              "      <th>A</th>\n",
              "      <td>NaN</td>\n",
              "      <td>-0.468932</td>\n",
              "    </tr>\n",
              "    <tr>\n",
              "      <th>B</th>\n",
              "      <td>2.670047</td>\n",
              "      <td>NaN</td>\n",
              "    </tr>\n",
              "    <tr>\n",
              "      <th>C</th>\n",
              "      <td>NaN</td>\n",
              "      <td>-0.821367</td>\n",
              "    </tr>\n",
              "  </tbody>\n",
              "</table>\n",
              "</div>"
            ],
            "text/plain": [
              "C             bar       foo\n",
              "A     B                    \n",
              "one   A  1.053269  1.204000\n",
              "      B  0.411886 -0.304349\n",
              "      C  1.068651  0.294331\n",
              "three A -0.113987       NaN\n",
              "      B       NaN -1.327931\n",
              "      C -0.098567       NaN\n",
              "two   A       NaN -0.468932\n",
              "      B  2.670047       NaN\n",
              "      C       NaN -0.821367"
            ]
          },
          "execution_count": 81,
          "metadata": {},
          "output_type": "execute_result"
        }
      ],
      "source": [
        "pd.pivot_table(df, values=\"D\", index=[\"A\", \"B\"], columns=[\"C\"])"
      ]
    },
    {
      "cell_type": "code",
      "execution_count": 82,
      "metadata": {
        "colab": {
          "base_uri": "https://localhost:8080/"
        },
        "id": "kLAp8MuknJgR",
        "outputId": "db1a23aa-5dad-4aaf-8647-8805c527c1a0"
      },
      "outputs": [
        {
          "ename": "NameError",
          "evalue": "name 'stacked' is not defined",
          "output_type": "error",
          "traceback": [
            "\u001b[31m---------------------------------------------------------------------------\u001b[39m",
            "\u001b[31mNameError\u001b[39m                                 Traceback (most recent call last)",
            "\u001b[36mCell\u001b[39m\u001b[36m \u001b[39m\u001b[32mIn[82]\u001b[39m\u001b[32m, line 1\u001b[39m\n\u001b[32m----> \u001b[39m\u001b[32m1\u001b[39m \u001b[43mstacked\u001b[49m.unstack(\u001b[32m0\u001b[39m)\n",
            "\u001b[31mNameError\u001b[39m: name 'stacked' is not defined"
          ]
        }
      ],
      "source": [
        "stacked.unstack(0)"
      ]
    },
    {
      "cell_type": "markdown",
      "metadata": {
        "id": "OPgRTWEJmPAZ"
      },
      "source": [
        "### Stack"
      ]
    },
    {
      "cell_type": "code",
      "execution_count": 83,
      "metadata": {
        "colab": {
          "base_uri": "https://localhost:8080/",
          "height": 206
        },
        "id": "NG-9iKV7mEJu",
        "outputId": "df597e26-0cfc-40fc-f01b-eefe349e133c"
      },
      "outputs": [
        {
          "data": {
            "text/html": [
              "<div>\n",
              "<style scoped>\n",
              "    .dataframe tbody tr th:only-of-type {\n",
              "        vertical-align: middle;\n",
              "    }\n",
              "\n",
              "    .dataframe tbody tr th {\n",
              "        vertical-align: top;\n",
              "    }\n",
              "\n",
              "    .dataframe thead th {\n",
              "        text-align: right;\n",
              "    }\n",
              "</style>\n",
              "<table border=\"1\" class=\"dataframe\">\n",
              "  <thead>\n",
              "    <tr style=\"text-align: right;\">\n",
              "      <th></th>\n",
              "      <th></th>\n",
              "      <th>A</th>\n",
              "      <th>B</th>\n",
              "    </tr>\n",
              "    <tr>\n",
              "      <th>first</th>\n",
              "      <th>second</th>\n",
              "      <th></th>\n",
              "      <th></th>\n",
              "    </tr>\n",
              "  </thead>\n",
              "  <tbody>\n",
              "    <tr>\n",
              "      <th rowspan=\"2\" valign=\"top\">bar</th>\n",
              "      <th>one</th>\n",
              "      <td>-1.197297</td>\n",
              "      <td>-0.965119</td>\n",
              "    </tr>\n",
              "    <tr>\n",
              "      <th>two</th>\n",
              "      <td>1.144122</td>\n",
              "      <td>-0.378025</td>\n",
              "    </tr>\n",
              "    <tr>\n",
              "      <th rowspan=\"2\" valign=\"top\">baz</th>\n",
              "      <th>one</th>\n",
              "      <td>-1.983039</td>\n",
              "      <td>0.437316</td>\n",
              "    </tr>\n",
              "    <tr>\n",
              "      <th>two</th>\n",
              "      <td>1.328333</td>\n",
              "      <td>0.394591</td>\n",
              "    </tr>\n",
              "  </tbody>\n",
              "</table>\n",
              "</div>"
            ],
            "text/plain": [
              "                     A         B\n",
              "first second                    \n",
              "bar   one    -1.197297 -0.965119\n",
              "      two     1.144122 -0.378025\n",
              "baz   one    -1.983039  0.437316\n",
              "      two     1.328333  0.394591"
            ]
          },
          "execution_count": 83,
          "metadata": {},
          "output_type": "execute_result"
        }
      ],
      "source": [
        "tuples = list(\n",
        "    zip(\n",
        "        [\"bar\", \"bar\", \"baz\", \"baz\", \"foo\", \"foo\", \"qux\", \"qux\"],\n",
        "        [\"one\", \"two\", \"one\", \"two\", \"one\", \"two\", \"one\", \"two\"],\n",
        "    )\n",
        ")\n",
        "\n",
        "index = pd.MultiIndex.from_tuples(tuples, names=[\"first\", \"second\"])\n",
        "\n",
        "df = pd.DataFrame(np.random.randn(8, 2), index=index, columns=[\"A\", \"B\"])\n",
        "df2 = df[:4]\n",
        "df2"
      ]
    },
    {
      "cell_type": "markdown",
      "metadata": {
        "id": "aVLdutDGmalo"
      },
      "source": [
        "The [`stack()`](https://pandas.pydata.org/docs/reference/api/pandas.DataFrame.stack.html#pandas.DataFrame.stack) method “compresses” a level in the DataFrame’s columns:\n",
        "\n"
      ]
    },
    {
      "cell_type": "code",
      "execution_count": 84,
      "metadata": {
        "colab": {
          "base_uri": "https://localhost:8080/"
        },
        "id": "2_TTGLgEmkNP",
        "outputId": "a794b4e8-1d69-44de-c7f9-e7edb2b5afa7"
      },
      "outputs": [
        {
          "data": {
            "text/plain": [
              "first  second   \n",
              "bar    one     A   -1.197297\n",
              "               B   -0.965119\n",
              "       two     A    1.144122\n",
              "               B   -0.378025\n",
              "baz    one     A   -1.983039\n",
              "               B    0.437316\n",
              "       two     A    1.328333\n",
              "               B    0.394591\n",
              "dtype: float64"
            ]
          },
          "execution_count": 84,
          "metadata": {},
          "output_type": "execute_result"
        }
      ],
      "source": [
        "stacked = df2.stack()\n",
        "stacked"
      ]
    },
    {
      "cell_type": "markdown",
      "metadata": {
        "id": "yYUQc9DJmpie"
      },
      "source": [
        "With a “stacked” DataFrame or Series (having a [MultiIndex](https://pandas.pydata.org/docs/reference/api/pandas.MultiIndex.html#pandas.MultiIndex) as the `index`), the inverse operation of [`stack()`](https://pandas.pydata.org/docs/reference/api/pandas.DataFrame.stack.html#pandas.DataFrame.stack) is [`unstack()`](https://pandas.pydata.org/docs/reference/api/pandas.DataFrame.unstack.html#pandas.DataFrame.unstack), which by default unstacks the **last level**:"
      ]
    },
    {
      "cell_type": "code",
      "execution_count": 85,
      "metadata": {
        "colab": {
          "base_uri": "https://localhost:8080/",
          "height": 206
        },
        "id": "eWHGOsoQnD3y",
        "outputId": "e8c336e4-5341-4858-f15d-b60a6d4091c9"
      },
      "outputs": [
        {
          "data": {
            "text/html": [
              "<div>\n",
              "<style scoped>\n",
              "    .dataframe tbody tr th:only-of-type {\n",
              "        vertical-align: middle;\n",
              "    }\n",
              "\n",
              "    .dataframe tbody tr th {\n",
              "        vertical-align: top;\n",
              "    }\n",
              "\n",
              "    .dataframe thead th {\n",
              "        text-align: right;\n",
              "    }\n",
              "</style>\n",
              "<table border=\"1\" class=\"dataframe\">\n",
              "  <thead>\n",
              "    <tr style=\"text-align: right;\">\n",
              "      <th></th>\n",
              "      <th></th>\n",
              "      <th>A</th>\n",
              "      <th>B</th>\n",
              "    </tr>\n",
              "    <tr>\n",
              "      <th>first</th>\n",
              "      <th>second</th>\n",
              "      <th></th>\n",
              "      <th></th>\n",
              "    </tr>\n",
              "  </thead>\n",
              "  <tbody>\n",
              "    <tr>\n",
              "      <th rowspan=\"2\" valign=\"top\">bar</th>\n",
              "      <th>one</th>\n",
              "      <td>-1.197297</td>\n",
              "      <td>-0.965119</td>\n",
              "    </tr>\n",
              "    <tr>\n",
              "      <th>two</th>\n",
              "      <td>1.144122</td>\n",
              "      <td>-0.378025</td>\n",
              "    </tr>\n",
              "    <tr>\n",
              "      <th rowspan=\"2\" valign=\"top\">baz</th>\n",
              "      <th>one</th>\n",
              "      <td>-1.983039</td>\n",
              "      <td>0.437316</td>\n",
              "    </tr>\n",
              "    <tr>\n",
              "      <th>two</th>\n",
              "      <td>1.328333</td>\n",
              "      <td>0.394591</td>\n",
              "    </tr>\n",
              "  </tbody>\n",
              "</table>\n",
              "</div>"
            ],
            "text/plain": [
              "                     A         B\n",
              "first second                    \n",
              "bar   one    -1.197297 -0.965119\n",
              "      two     1.144122 -0.378025\n",
              "baz   one    -1.983039  0.437316\n",
              "      two     1.328333  0.394591"
            ]
          },
          "execution_count": 85,
          "metadata": {},
          "output_type": "execute_result"
        }
      ],
      "source": [
        "stacked.unstack()"
      ]
    },
    {
      "cell_type": "code",
      "execution_count": 86,
      "metadata": {
        "colab": {
          "base_uri": "https://localhost:8080/",
          "height": 206
        },
        "id": "cp3U2yHcnIqg",
        "outputId": "87167c47-b28d-4f3c-b820-c3e73e2697c1"
      },
      "outputs": [
        {
          "data": {
            "text/html": [
              "<div>\n",
              "<style scoped>\n",
              "    .dataframe tbody tr th:only-of-type {\n",
              "        vertical-align: middle;\n",
              "    }\n",
              "\n",
              "    .dataframe tbody tr th {\n",
              "        vertical-align: top;\n",
              "    }\n",
              "\n",
              "    .dataframe thead th {\n",
              "        text-align: right;\n",
              "    }\n",
              "</style>\n",
              "<table border=\"1\" class=\"dataframe\">\n",
              "  <thead>\n",
              "    <tr style=\"text-align: right;\">\n",
              "      <th></th>\n",
              "      <th>second</th>\n",
              "      <th>one</th>\n",
              "      <th>two</th>\n",
              "    </tr>\n",
              "    <tr>\n",
              "      <th>first</th>\n",
              "      <th></th>\n",
              "      <th></th>\n",
              "      <th></th>\n",
              "    </tr>\n",
              "  </thead>\n",
              "  <tbody>\n",
              "    <tr>\n",
              "      <th rowspan=\"2\" valign=\"top\">bar</th>\n",
              "      <th>A</th>\n",
              "      <td>-1.197297</td>\n",
              "      <td>1.144122</td>\n",
              "    </tr>\n",
              "    <tr>\n",
              "      <th>B</th>\n",
              "      <td>-0.965119</td>\n",
              "      <td>-0.378025</td>\n",
              "    </tr>\n",
              "    <tr>\n",
              "      <th rowspan=\"2\" valign=\"top\">baz</th>\n",
              "      <th>A</th>\n",
              "      <td>-1.983039</td>\n",
              "      <td>1.328333</td>\n",
              "    </tr>\n",
              "    <tr>\n",
              "      <th>B</th>\n",
              "      <td>0.437316</td>\n",
              "      <td>0.394591</td>\n",
              "    </tr>\n",
              "  </tbody>\n",
              "</table>\n",
              "</div>"
            ],
            "text/plain": [
              "second        one       two\n",
              "first                      \n",
              "bar   A -1.197297  1.144122\n",
              "      B -0.965119 -0.378025\n",
              "baz   A -1.983039  1.328333\n",
              "      B  0.437316  0.394591"
            ]
          },
          "execution_count": 86,
          "metadata": {},
          "output_type": "execute_result"
        }
      ],
      "source": [
        "stacked.unstack(1)"
      ]
    },
    {
      "cell_type": "markdown",
      "metadata": {
        "id": "e15ssNmI3sCk"
      },
      "source": [
        "---   \n",
        "## Time series\n",
        "\n",
        "pandas has simple, powerful, and efficient functionality for performing resampling operations during frequency conversion (e.g., converting secondly data into 5-minutely data). This is extremely common in, but not limited to, financial applications.\n",
        "\n",
        "*See the [Time Series](https://pandas.pydata.org/docs/user_guide/timeseries.html#timeseries) section*"
      ]
    },
    {
      "cell_type": "markdown",
      "metadata": {
        "id": "IdNMJ-HNe6kT"
      },
      "source": [
        "### Resampling   \n",
        "or converting a time series to a particular frequency"
      ]
    },
    {
      "cell_type": "code",
      "execution_count": 87,
      "metadata": {
        "colab": {
          "base_uri": "https://localhost:8080/"
        },
        "id": "WojUs_8b4EYY",
        "outputId": "d8806073-8e2e-4696-8944-b369335e864d"
      },
      "outputs": [
        {
          "name": "stderr",
          "output_type": "stream",
          "text": [
            "C:\\Users\\Donat\\AppData\\Local\\Temp\\ipykernel_17080\\1402105585.py:1: FutureWarning: 'H' is deprecated and will be removed in a future version, please use 'h' instead.\n",
            "  rng = pd.date_range(\"1/1/2012\", periods=24, freq=\"H\")\n"
          ]
        },
        {
          "data": {
            "text/plain": [
              "2012-01-01 00:00:00    175\n",
              "2012-01-01 01:00:00    268\n",
              "2012-01-01 02:00:00    356\n",
              "2012-01-01 03:00:00    129\n",
              "2012-01-01 04:00:00    383\n",
              "2012-01-01 05:00:00    261\n",
              "2012-01-01 06:00:00    255\n",
              "2012-01-01 07:00:00    378\n",
              "2012-01-01 08:00:00     18\n",
              "2012-01-01 09:00:00    303\n",
              "2012-01-01 10:00:00    419\n",
              "2012-01-01 11:00:00    437\n",
              "2012-01-01 12:00:00    234\n",
              "2012-01-01 13:00:00     46\n",
              "2012-01-01 14:00:00    356\n",
              "2012-01-01 15:00:00    416\n",
              "2012-01-01 16:00:00    163\n",
              "2012-01-01 17:00:00    226\n",
              "2012-01-01 18:00:00    477\n",
              "2012-01-01 19:00:00    390\n",
              "2012-01-01 20:00:00    159\n",
              "2012-01-01 21:00:00    374\n",
              "2012-01-01 22:00:00    233\n",
              "2012-01-01 23:00:00    357\n",
              "Freq: h, dtype: int32"
            ]
          },
          "execution_count": 87,
          "metadata": {},
          "output_type": "execute_result"
        }
      ],
      "source": [
        "rng = pd.date_range(\"1/1/2012\", periods=24, freq=\"H\")\n",
        "ts = pd.Series(np.random.randint(0, 500, len(rng)), index=rng)\n",
        "ts"
      ]
    },
    {
      "cell_type": "code",
      "execution_count": 88,
      "metadata": {
        "colab": {
          "base_uri": "https://localhost:8080/"
        },
        "id": "JqdEjiwzfGZB",
        "outputId": "7f77cc0c-cd7f-4ce4-8d46-ecd1153814b0"
      },
      "outputs": [
        {
          "data": {
            "text/plain": [
              "2012-01-01 00:00:00    232.00\n",
              "2012-01-01 04:00:00    319.25\n",
              "2012-01-01 08:00:00    294.25\n",
              "2012-01-01 12:00:00    263.00\n",
              "2012-01-01 16:00:00    314.00\n",
              "2012-01-01 20:00:00    280.75\n",
              "Freq: 4h, dtype: float64"
            ]
          },
          "execution_count": 88,
          "metadata": {},
          "output_type": "execute_result"
        }
      ],
      "source": [
        "ts.resample(\"4h\").mean()"
      ]
    },
    {
      "cell_type": "code",
      "execution_count": 89,
      "metadata": {
        "colab": {
          "base_uri": "https://localhost:8080/"
        },
        "id": "6RYpybG2eeho",
        "outputId": "e3b386f1-ef93-4bd4-995f-fd9a72b4be50"
      },
      "outputs": [
        {
          "data": {
            "text/plain": [
              "2012-01-01 00:00:00     928\n",
              "2012-01-01 04:00:00    1277\n",
              "2012-01-01 08:00:00    1177\n",
              "2012-01-01 12:00:00    1052\n",
              "2012-01-01 16:00:00    1256\n",
              "2012-01-01 20:00:00    1123\n",
              "Freq: 4h, dtype: int32"
            ]
          },
          "execution_count": 89,
          "metadata": {},
          "output_type": "execute_result"
        }
      ],
      "source": [
        "ts.resample(\"4h\").sum()"
      ]
    },
    {
      "cell_type": "markdown",
      "metadata": {
        "id": "Hxwdchsp4RjK"
      },
      "source": [
        "### Localizing\n",
        "\n",
        "\n",
        "[`Series.tz_localize()`](https://pandas.pydata.org/docs/reference/api/pandas.Series.tz_localize.html#pandas.Series.tz_localize) localizes a time series to a **time zone**:"
      ]
    },
    {
      "cell_type": "code",
      "execution_count": 91,
      "metadata": {
        "colab": {
          "base_uri": "https://localhost:8080/"
        },
        "id": "cHJ75aBT4Ysr",
        "outputId": "8eb4a490-1902-42dd-8ebc-32db5b051a0a"
      },
      "outputs": [
        {
          "name": "stdout",
          "output_type": "stream",
          "text": [
            "2012-03-06   -0.956887\n",
            "2012-03-07    1.032120\n",
            "2012-03-08   -1.318503\n",
            "2012-03-09    0.648636\n",
            "2012-03-10    0.770768\n",
            "Freq: D, dtype: float64 \n",
            "\n"
          ]
        },
        {
          "data": {
            "text/plain": [
              "2012-03-06 00:00:00+00:00   -0.956887\n",
              "2012-03-07 00:00:00+00:00    1.032120\n",
              "2012-03-08 00:00:00+00:00   -1.318503\n",
              "2012-03-09 00:00:00+00:00    0.648636\n",
              "2012-03-10 00:00:00+00:00    0.770768\n",
              "Freq: D, dtype: float64"
            ]
          },
          "execution_count": 91,
          "metadata": {},
          "output_type": "execute_result"
        }
      ],
      "source": [
        "rng = pd.date_range(\"3/6/2012 00:00\", periods=5, freq=\"D\")\n",
        "ts = pd.Series(np.random.randn(len(rng)), rng)\n",
        "print(ts, \"\\n\")\n",
        "ts_utc = ts.tz_localize(\"UTC\")\n",
        "ts_utc"
      ]
    },
    {
      "cell_type": "markdown",
      "metadata": {
        "id": "gD455NQT4z1S"
      },
      "source": [
        "Converting between time span representations (e.g. month (\"M\") to day):\n",
        "\n"
      ]
    },
    {
      "cell_type": "code",
      "execution_count": 92,
      "metadata": {
        "colab": {
          "base_uri": "https://localhost:8080/"
        },
        "id": "6ByC55m441XE",
        "outputId": "fe8738b6-c479-4018-c1b2-95f1b7a57be5"
      },
      "outputs": [
        {
          "name": "stderr",
          "output_type": "stream",
          "text": [
            "C:\\Users\\Donat\\AppData\\Local\\Temp\\ipykernel_17080\\100813781.py:1: FutureWarning: 'M' is deprecated and will be removed in a future version, please use 'ME' instead.\n",
            "  rng = pd.date_range(\"1/1/2012\", periods=5, freq=\"M\")\n"
          ]
        },
        {
          "data": {
            "text/plain": [
              "2012-01   -0.974022\n",
              "2012-02   -0.160928\n",
              "2012-03    0.429580\n",
              "2012-04    1.146083\n",
              "2012-05   -0.809501\n",
              "Freq: M, dtype: float64"
            ]
          },
          "execution_count": 92,
          "metadata": {},
          "output_type": "execute_result"
        }
      ],
      "source": [
        "rng = pd.date_range(\"1/1/2012\", periods=5, freq=\"M\")\n",
        "ts = pd.Series(np.random.randn(len(rng)), index=rng)\n",
        "ps = ts.to_period()\n",
        "ps"
      ]
    },
    {
      "cell_type": "code",
      "execution_count": 93,
      "metadata": {
        "colab": {
          "base_uri": "https://localhost:8080/"
        },
        "id": "Cj1T_ySB4_zH",
        "outputId": "d342fd6b-b036-4c9b-e47b-1ec82e900a3c"
      },
      "outputs": [
        {
          "data": {
            "text/plain": [
              "2012-01-01   -0.974022\n",
              "2012-02-01   -0.160928\n",
              "2012-03-01    0.429580\n",
              "2012-04-01    1.146083\n",
              "2012-05-01   -0.809501\n",
              "Freq: MS, dtype: float64"
            ]
          },
          "execution_count": 93,
          "metadata": {},
          "output_type": "execute_result"
        }
      ],
      "source": [
        "ps.to_timestamp()"
      ]
    },
    {
      "cell_type": "markdown",
      "metadata": {
        "id": "XnWJymgk5I20"
      },
      "source": [
        "### Conversions\n",
        "\n",
        ">Converting between period and timestamp enables some convenient arithmetic functions to be used.\n",
        "\n",
        "In the following example, we convert a quarterly frequency with year ending in November to 9am of the end of the month following the quarter end:"
      ]
    },
    {
      "cell_type": "code",
      "execution_count": 94,
      "metadata": {
        "colab": {
          "base_uri": "https://localhost:8080/"
        },
        "id": "6NpIopTU5KNQ",
        "outputId": "35174b72-6a44-4ac3-c69f-d7379d73915f"
      },
      "outputs": [
        {
          "name": "stderr",
          "output_type": "stream",
          "text": [
            "C:\\Users\\Donat\\AppData\\Local\\Temp\\ipykernel_17080\\1675664520.py:3: FutureWarning: 'H' is deprecated and will be removed in a future version, please use 'h' instead.\n",
            "  ts.index = (prng.asfreq(\"M\", \"e\") + 1).asfreq(\"H\", \"s\") + 9\n"
          ]
        },
        {
          "data": {
            "text/plain": [
              "1990-03-01 09:00   -1.368450\n",
              "1990-06-01 09:00    0.845771\n",
              "1990-09-01 09:00   -0.266939\n",
              "1990-12-01 09:00    0.004520\n",
              "1991-03-01 09:00    0.192036\n",
              "Freq: h, dtype: float64"
            ]
          },
          "execution_count": 94,
          "metadata": {},
          "output_type": "execute_result"
        }
      ],
      "source": [
        "prng = pd.period_range(\"1990Q1\", \"2000Q4\", freq=\"Q-NOV\")\n",
        "ts = pd.Series(np.random.randn(len(prng)), prng)\n",
        "ts.index = (prng.asfreq(\"M\", \"e\") + 1).asfreq(\"H\", \"s\") + 9\n",
        "ts.head()"
      ]
    },
    {
      "cell_type": "markdown",
      "metadata": {
        "id": "JNLZHB6f5ZUq"
      },
      "source": [
        "---   \n",
        "## Categoricals\n",
        "\n",
        "pandas can include **categorical data** in a [`DataFrame`](https://pandas.pydata.org/docs/reference/api/pandas.DataFrame.html#pandas.DataFrame).\n",
        "\n",
        "Categoricals are a pandas data type corresponding to categorical variables in statistics. A categorical variable takes on a limited, and usually fixed, number of possible values. Examples are gender, social class, blood type, country affiliation, observation time or rating via Likert scales.\n",
        "\n",
        "In contrast to statistical categorical variables, categorical data might have an order (e.g. ‘strongly agree’ vs ‘agree’ or ‘first observation’ vs. ‘second observation’), but numerical operations (additions, divisions, …) are not possible.\n",
        "\n",
        "All values of categorical data are either in categories or `np.nan`. Order is defined by the order of categories, not lexical order of the values. Internally, the data structure consists of a categories array and an integer array of codes which point to the real value in the categories array.\n",
        "\n",
        "*For full docs, see the [categorical introduction](https://pandas.pydata.org/docs/user_guide/categorical.html#categorical) and the [API documentation](https://pandas.pydata.org/docs/reference/arrays.html#api-arrays-categorical).*"
      ]
    },
    {
      "cell_type": "code",
      "execution_count": 95,
      "metadata": {
        "colab": {
          "base_uri": "https://localhost:8080/",
          "height": 237
        },
        "id": "mApkNjzF5sRk",
        "outputId": "1afe6b43-c1fc-438a-abcf-7a8faf4e8b29"
      },
      "outputs": [
        {
          "data": {
            "text/html": [
              "<div>\n",
              "<style scoped>\n",
              "    .dataframe tbody tr th:only-of-type {\n",
              "        vertical-align: middle;\n",
              "    }\n",
              "\n",
              "    .dataframe tbody tr th {\n",
              "        vertical-align: top;\n",
              "    }\n",
              "\n",
              "    .dataframe thead th {\n",
              "        text-align: right;\n",
              "    }\n",
              "</style>\n",
              "<table border=\"1\" class=\"dataframe\">\n",
              "  <thead>\n",
              "    <tr style=\"text-align: right;\">\n",
              "      <th></th>\n",
              "      <th>id</th>\n",
              "      <th>raw_grade</th>\n",
              "    </tr>\n",
              "  </thead>\n",
              "  <tbody>\n",
              "    <tr>\n",
              "      <th>0</th>\n",
              "      <td>1</td>\n",
              "      <td>a</td>\n",
              "    </tr>\n",
              "    <tr>\n",
              "      <th>1</th>\n",
              "      <td>2</td>\n",
              "      <td>b</td>\n",
              "    </tr>\n",
              "    <tr>\n",
              "      <th>2</th>\n",
              "      <td>3</td>\n",
              "      <td>b</td>\n",
              "    </tr>\n",
              "    <tr>\n",
              "      <th>3</th>\n",
              "      <td>4</td>\n",
              "      <td>a</td>\n",
              "    </tr>\n",
              "    <tr>\n",
              "      <th>4</th>\n",
              "      <td>5</td>\n",
              "      <td>a</td>\n",
              "    </tr>\n",
              "    <tr>\n",
              "      <th>5</th>\n",
              "      <td>6</td>\n",
              "      <td>e</td>\n",
              "    </tr>\n",
              "  </tbody>\n",
              "</table>\n",
              "</div>"
            ],
            "text/plain": [
              "   id raw_grade\n",
              "0   1         a\n",
              "1   2         b\n",
              "2   3         b\n",
              "3   4         a\n",
              "4   5         a\n",
              "5   6         e"
            ]
          },
          "execution_count": 95,
          "metadata": {},
          "output_type": "execute_result"
        }
      ],
      "source": [
        "df = pd.DataFrame(\n",
        "    {\"id\": [1, 2, 3, 4, 5, 6], \"raw_grade\": [\"a\", \"b\", \"b\", \"a\", \"a\", \"e\"]}\n",
        ")\n",
        "df"
      ]
    },
    {
      "cell_type": "markdown",
      "metadata": {
        "id": "W2RiXZoD59be"
      },
      "source": [
        "**Converting** the raw grades to a categorical data type:"
      ]
    },
    {
      "cell_type": "code",
      "execution_count": 96,
      "metadata": {
        "colab": {
          "base_uri": "https://localhost:8080/"
        },
        "id": "Lkam_pMR6DJP",
        "outputId": "72841b05-f4ce-4904-842c-2460dfbc941a"
      },
      "outputs": [
        {
          "data": {
            "text/plain": [
              "0    a\n",
              "1    b\n",
              "2    b\n",
              "3    a\n",
              "4    a\n",
              "5    e\n",
              "Name: grade, dtype: category\n",
              "Categories (3, object): ['a', 'b', 'e']"
            ]
          },
          "execution_count": 96,
          "metadata": {},
          "output_type": "execute_result"
        }
      ],
      "source": [
        "df[\"grade\"] = df[\"raw_grade\"].astype(\"category\")\n",
        "df[\"grade\"]"
      ]
    },
    {
      "cell_type": "markdown",
      "metadata": {
        "id": "UrkfwFMH6LkM"
      },
      "source": [
        "**Rename** the categories to more meaningful names:"
      ]
    },
    {
      "cell_type": "code",
      "execution_count": 97,
      "metadata": {
        "colab": {
          "base_uri": "https://localhost:8080/",
          "height": 237
        },
        "id": "xLrZuwAh6ObR",
        "outputId": "e52f8f5a-ca1a-4af7-c206-253a353a8c1d"
      },
      "outputs": [
        {
          "data": {
            "text/html": [
              "<div>\n",
              "<style scoped>\n",
              "    .dataframe tbody tr th:only-of-type {\n",
              "        vertical-align: middle;\n",
              "    }\n",
              "\n",
              "    .dataframe tbody tr th {\n",
              "        vertical-align: top;\n",
              "    }\n",
              "\n",
              "    .dataframe thead th {\n",
              "        text-align: right;\n",
              "    }\n",
              "</style>\n",
              "<table border=\"1\" class=\"dataframe\">\n",
              "  <thead>\n",
              "    <tr style=\"text-align: right;\">\n",
              "      <th></th>\n",
              "      <th>id</th>\n",
              "      <th>raw_grade</th>\n",
              "      <th>grade</th>\n",
              "    </tr>\n",
              "  </thead>\n",
              "  <tbody>\n",
              "    <tr>\n",
              "      <th>0</th>\n",
              "      <td>1</td>\n",
              "      <td>a</td>\n",
              "      <td>very good</td>\n",
              "    </tr>\n",
              "    <tr>\n",
              "      <th>1</th>\n",
              "      <td>2</td>\n",
              "      <td>b</td>\n",
              "      <td>good</td>\n",
              "    </tr>\n",
              "    <tr>\n",
              "      <th>2</th>\n",
              "      <td>3</td>\n",
              "      <td>b</td>\n",
              "      <td>good</td>\n",
              "    </tr>\n",
              "    <tr>\n",
              "      <th>3</th>\n",
              "      <td>4</td>\n",
              "      <td>a</td>\n",
              "      <td>very good</td>\n",
              "    </tr>\n",
              "    <tr>\n",
              "      <th>4</th>\n",
              "      <td>5</td>\n",
              "      <td>a</td>\n",
              "      <td>very good</td>\n",
              "    </tr>\n",
              "    <tr>\n",
              "      <th>5</th>\n",
              "      <td>6</td>\n",
              "      <td>e</td>\n",
              "      <td>very bad</td>\n",
              "    </tr>\n",
              "  </tbody>\n",
              "</table>\n",
              "</div>"
            ],
            "text/plain": [
              "   id raw_grade      grade\n",
              "0   1         a  very good\n",
              "1   2         b       good\n",
              "2   3         b       good\n",
              "3   4         a  very good\n",
              "4   5         a  very good\n",
              "5   6         e   very bad"
            ]
          },
          "execution_count": 97,
          "metadata": {},
          "output_type": "execute_result"
        }
      ],
      "source": [
        "new_categories = [\"very good\", \"good\", \"very bad\"]\n",
        "df[\"grade\"] = df[\"grade\"].cat.rename_categories(new_categories)\n",
        "df"
      ]
    },
    {
      "cell_type": "markdown",
      "metadata": {
        "id": "OvX2V0zH6VPw"
      },
      "source": [
        "**Reorder** the categories and simultaneously add the missing categories (methods under [`Series.cat()`](https://pandas.pydata.org/docs/reference/api/pandas.Series.cat.html#pandas.Series.cat) return a new [`Series`](https://pandas.pydata.org/docs/reference/api/pandas.Series.html#pandas.Series) by default):"
      ]
    },
    {
      "cell_type": "code",
      "execution_count": 98,
      "metadata": {
        "colab": {
          "base_uri": "https://localhost:8080/"
        },
        "id": "NDbg7qXA6osC",
        "outputId": "a4b20650-a2ef-4753-fcb6-a223b6be8695"
      },
      "outputs": [
        {
          "data": {
            "text/plain": [
              "0    very good\n",
              "1         good\n",
              "2         good\n",
              "3    very good\n",
              "4    very good\n",
              "5     very bad\n",
              "Name: grade, dtype: category\n",
              "Categories (5, object): ['very bad', 'bad', 'medium', 'good', 'very good']"
            ]
          },
          "execution_count": 98,
          "metadata": {},
          "output_type": "execute_result"
        }
      ],
      "source": [
        "df[\"grade\"] = df[\"grade\"].cat.set_categories(\n",
        "    [\"very bad\", \"bad\", \"medium\", \"good\", \"very good\"]\n",
        ")\n",
        "df[\"grade\"]"
      ]
    },
    {
      "cell_type": "markdown",
      "metadata": {
        "id": "E3TJfoED6xBx"
      },
      "source": [
        "**Sorting** is per order in the categories, not lexical order:"
      ]
    },
    {
      "cell_type": "code",
      "execution_count": 100,
      "metadata": {
        "colab": {
          "base_uri": "https://localhost:8080/",
          "height": 237
        },
        "id": "ZfPlZRgj6ymT",
        "outputId": "5f797c36-1022-4f1a-d7d2-73518b2afa12"
      },
      "outputs": [
        {
          "data": {
            "text/html": [
              "<div>\n",
              "<style scoped>\n",
              "    .dataframe tbody tr th:only-of-type {\n",
              "        vertical-align: middle;\n",
              "    }\n",
              "\n",
              "    .dataframe tbody tr th {\n",
              "        vertical-align: top;\n",
              "    }\n",
              "\n",
              "    .dataframe thead th {\n",
              "        text-align: right;\n",
              "    }\n",
              "</style>\n",
              "<table border=\"1\" class=\"dataframe\">\n",
              "  <thead>\n",
              "    <tr style=\"text-align: right;\">\n",
              "      <th></th>\n",
              "      <th>id</th>\n",
              "      <th>raw_grade</th>\n",
              "      <th>grade</th>\n",
              "    </tr>\n",
              "  </thead>\n",
              "  <tbody>\n",
              "    <tr>\n",
              "      <th>5</th>\n",
              "      <td>6</td>\n",
              "      <td>e</td>\n",
              "      <td>very bad</td>\n",
              "    </tr>\n",
              "    <tr>\n",
              "      <th>1</th>\n",
              "      <td>2</td>\n",
              "      <td>b</td>\n",
              "      <td>good</td>\n",
              "    </tr>\n",
              "    <tr>\n",
              "      <th>2</th>\n",
              "      <td>3</td>\n",
              "      <td>b</td>\n",
              "      <td>good</td>\n",
              "    </tr>\n",
              "    <tr>\n",
              "      <th>0</th>\n",
              "      <td>1</td>\n",
              "      <td>a</td>\n",
              "      <td>very good</td>\n",
              "    </tr>\n",
              "    <tr>\n",
              "      <th>3</th>\n",
              "      <td>4</td>\n",
              "      <td>a</td>\n",
              "      <td>very good</td>\n",
              "    </tr>\n",
              "    <tr>\n",
              "      <th>4</th>\n",
              "      <td>5</td>\n",
              "      <td>a</td>\n",
              "      <td>very good</td>\n",
              "    </tr>\n",
              "  </tbody>\n",
              "</table>\n",
              "</div>"
            ],
            "text/plain": [
              "   id raw_grade      grade\n",
              "5   6         e   very bad\n",
              "1   2         b       good\n",
              "2   3         b       good\n",
              "0   1         a  very good\n",
              "3   4         a  very good\n",
              "4   5         a  very good"
            ]
          },
          "execution_count": 100,
          "metadata": {},
          "output_type": "execute_result"
        }
      ],
      "source": [
        "df.sort_values(by=\"grade\")"
      ]
    },
    {
      "cell_type": "markdown",
      "metadata": {
        "id": "PSUHrkdM68uv"
      },
      "source": [
        "**Grouping** by a categorical column also shows empty categories:"
      ]
    },
    {
      "cell_type": "code",
      "execution_count": 101,
      "metadata": {
        "colab": {
          "base_uri": "https://localhost:8080/"
        },
        "id": "fhKbknQq7AL2",
        "outputId": "058468aa-b524-4e3b-bd76-552f13850a34"
      },
      "outputs": [
        {
          "name": "stderr",
          "output_type": "stream",
          "text": [
            "C:\\Users\\Donat\\AppData\\Local\\Temp\\ipykernel_17080\\3951628473.py:1: FutureWarning: The default of observed=False is deprecated and will be changed to True in a future version of pandas. Pass observed=False to retain current behavior or observed=True to adopt the future default and silence this warning.\n",
            "  df.groupby(\"grade\").size()\n"
          ]
        },
        {
          "data": {
            "text/plain": [
              "grade\n",
              "very bad     1\n",
              "bad          0\n",
              "medium       0\n",
              "good         2\n",
              "very good    3\n",
              "dtype: int64"
            ]
          },
          "execution_count": 101,
          "metadata": {},
          "output_type": "execute_result"
        }
      ],
      "source": [
        "df.groupby(\"grade\").size()"
      ]
    }
  ],
  "metadata": {
    "colab": {
      "collapsed_sections": [
        "vXKB0vzdFAI5",
        "DP5b-E4qLahT",
        "Q7o2R8QrLKuG",
        "YqXELQdHnRmT",
        "OPgRTWEJmPAZ",
        "IdNMJ-HNe6kT"
      ],
      "provenance": [],
      "toc_visible": true
    },
    "kernelspec": {
      "display_name": "Python 3",
      "name": "python3"
    },
    "language_info": {
      "codemirror_mode": {
        "name": "ipython",
        "version": 3
      },
      "file_extension": ".py",
      "mimetype": "text/x-python",
      "name": "python",
      "nbconvert_exporter": "python",
      "pygments_lexer": "ipython3",
      "version": "3.11.9"
    }
  },
  "nbformat": 4,
  "nbformat_minor": 0
}
